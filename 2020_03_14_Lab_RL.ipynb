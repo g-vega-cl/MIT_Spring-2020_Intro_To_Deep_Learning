{
  "nbformat": 4,
  "nbformat_minor": 0,
  "metadata": {
    "colab": {
      "name": "2020_03_14-Lab_RL.ipynb",
      "provenance": [],
      "collapsed_sections": []
    },
    "kernelspec": {
      "name": "python3",
      "display_name": "Python 3"
    }
  },
  "cells": [
    {
      "cell_type": "markdown",
      "metadata": {
        "id": "jrI6q7RmWQam",
        "colab_type": "text"
      },
      "source": [
        "<table align=\"center\">\n",
        "  <td align=\"center\"><a target=\"_blank\" href=\"http://introtodeeplearning.com\">\n",
        "        <img src=\"http://introtodeeplearning.com/images/colab/mit.png\" style=\"padding-bottom:5px;\" />\n",
        "      Visit MIT Deep Learning</a></td>\n",
        "  <td align=\"center\"><a target=\"_blank\" href=\"https://colab.research.google.com/github/aamini/introtodeeplearning/blob/master/lab3/RL.ipynb\">\n",
        "        <img src=\"http://introtodeeplearning.com/images/colab/colab.png?v2.0\"  style=\"padding-bottom:5px;\" />Run in Google Colab</a></td>\n",
        "  <td align=\"center\"><a target=\"_blank\" href=\"https://github.com/aamini/introtodeeplearning/blob/master/lab3/RL.ipynb\">\n",
        "        <img src=\"http://introtodeeplearning.com/images/colab/github.png\"  height=\"70px\" style=\"padding-bottom:5px;\"  />View Source on GitHub</a></td>\n",
        "</table>\n",
        "\n",
        "# Copyright Information"
      ]
    },
    {
      "cell_type": "code",
      "metadata": {
        "id": "wkd375upWYok",
        "colab_type": "code",
        "colab": {}
      },
      "source": [
        "# Copyright 2020 MIT 6.S191 Introduction to Deep Learning. All Rights Reserved.\n",
        "# \n",
        "# Licensed under the MIT License. You may not use this file except in compliance\n",
        "# with the License. Use and/or modification of this code outside of 6.S191 must\n",
        "# reference:\n",
        "#\n",
        "# © MIT 6.S191: Introduction to Deep Learning\n",
        "# http://introtodeeplearning.com\n",
        "#"
      ],
      "execution_count": 0,
      "outputs": []
    },
    {
      "cell_type": "markdown",
      "metadata": {
        "id": "WoXYKhfZMHiw",
        "colab_type": "text"
      },
      "source": [
        "# Laboratory 3: Reinforcement Learning\n",
        "\n",
        "Reinforcement learning (RL) is a subset of machine learning which poses learning problems as interactions between agents and environments. It often assumes agents have no prior knowledge of a world, so they must learn to navigate environments by optimizing a reward function. Within an environment, an agent can take certain actions and receive feedback, in the form of positive or negative rewards, with respect to their decision. As such, an agent's feedback loop is somewhat akin to the idea of \"trial and error\", or the manner in which a child might learn to distinguish between \"good\" and \"bad\" actions.\n",
        "\n",
        "In practical terms, our RL agent will interact with the environment by taking an action at each timestep, receiving a corresponding reward, and updating its state according to what it has \"learned\".  \n",
        "\n",
        "![alt text](https://www.kdnuggets.com/images/reinforcement-learning-fig1-700.jpg)\n",
        "\n",
        "While the ultimate goal of reinforcement learning is to teach agents to act in the real, physical world, games provide a convenient proving ground for developing RL algorithms and agents. Games have some properties that make them particularly well suited for RL: \n",
        "\n",
        "1.   In many cases, games have perfectly describable environments. For example, all rules of chess can be formally written and programmed into a chess game simulator;\n",
        "2.   Games are massively parallelizable. Since they do not require running in the real world, simultaneous environments can be run on large data clusters; \n",
        "3.   Simpler scenarios in games enable fast prototyping. This speeds up the development of algorithms that could eventually run in the real-world; and\n",
        "4.   ... Games are fun! \n",
        "\n",
        "In previous labs, we have explored both supervised (with LSTMs, CNNs) and unsupervised / semi-supervised (with VAEs) learning tasks. Reinforcement learning is fundamentally different, in that we are training a deep learning algorithm to govern the actions of our RL agent, that is trying, within its environment, to find the optimal way to achieve a goal. The goal of training an RL agent is to determine the best next step to take to earn the greatest final payoff or return. In this lab, we focus on building a reinforcement learning algorithm to master two different environments with varying complexity. \n",
        "\n",
        "1.   **Cartpole**:   Balance a pole, protruding from a cart, in an upright position by only moving the base left or right. Environment with a low-dimensional observation space.\n",
        "2.   [**Pong**](https://en.wikipedia.org/wiki/Pong): Beat your competitors (whether other AI or humans!) at the game of Pong. Environment with a high-dimensional observation space -- learning directly from raw pixels.\n",
        "\n",
        "Let's get started! First we'll import TensorFlow, the course package, and some dependencies.\n"
      ]
    },
    {
      "cell_type": "code",
      "metadata": {
        "id": "EvdePP-VyVWp",
        "colab_type": "code",
        "outputId": "b5f7a490-cd4a-426e-e1cb-d8e7ee3e570a",
        "colab": {
          "base_uri": "https://localhost:8080/",
          "height": 373
        }
      },
      "source": [
        "!apt-get install -y xvfb python-opengl x11-utils > /dev/null 2>&1\n",
        "!pip install gym pyvirtualdisplay scikit-video > /dev/null 2>&1\n",
        "\n",
        "%tensorflow_version 2.x\n",
        "import tensorflow as tf\n",
        "\n",
        "import numpy as np\n",
        "import base64, io, time, gym\n",
        "import IPython, functools\n",
        "import matplotlib.pyplot as plt\n",
        "from tqdm import tqdm\n",
        "\n",
        "!pip install mitdeeplearning\n",
        "import mitdeeplearning as mdl"
      ],
      "execution_count": 0,
      "outputs": [
        {
          "output_type": "stream",
          "text": [
            "Collecting mitdeeplearning\n",
            "\u001b[?25l  Downloading https://files.pythonhosted.org/packages/8b/3b/b9174b68dc10832356d02a2d83a64b43a24f1762c172754407d22fc8f960/mitdeeplearning-0.1.2.tar.gz (2.1MB)\n",
            "\r\u001b[K     |▏                               | 10kB 16.4MB/s eta 0:00:01\r\u001b[K     |▎                               | 20kB 2.2MB/s eta 0:00:01\r\u001b[K     |▌                               | 30kB 2.5MB/s eta 0:00:01\r\u001b[K     |▋                               | 40kB 2.8MB/s eta 0:00:01\r\u001b[K     |▉                               | 51kB 2.5MB/s eta 0:00:01\r\u001b[K     |█                               | 61kB 2.7MB/s eta 0:00:01\r\u001b[K     |█                               | 71kB 3.0MB/s eta 0:00:01\r\u001b[K     |█▎                              | 81kB 3.3MB/s eta 0:00:01\r\u001b[K     |█▍                              | 92kB 3.5MB/s eta 0:00:01\r\u001b[K     |█▋                              | 102kB 3.5MB/s eta 0:00:01\r\u001b[K     |█▊                              | 112kB 3.5MB/s eta 0:00:01\r\u001b[K     |█▉                              | 122kB 3.5MB/s eta 0:00:01\r\u001b[K     |██                              | 133kB 3.5MB/s eta 0:00:01\r\u001b[K     |██▏                             | 143kB 3.5MB/s eta 0:00:01\r\u001b[K     |██▍                             | 153kB 3.5MB/s eta 0:00:01\r\u001b[K     |██▌                             | 163kB 3.5MB/s eta 0:00:01\r\u001b[K     |██▊                             | 174kB 3.5MB/s eta 0:00:01\r\u001b[K     |██▉                             | 184kB 3.5MB/s eta 0:00:01\r\u001b[K     |███                             | 194kB 3.5MB/s eta 0:00:01\r\u001b[K     |███▏                            | 204kB 3.5MB/s eta 0:00:01\r\u001b[K     |███▎                            | 215kB 3.5MB/s eta 0:00:01\r\u001b[K     |███▌                            | 225kB 3.5MB/s eta 0:00:01\r\u001b[K     |███▋                            | 235kB 3.5MB/s eta 0:00:01\r\u001b[K     |███▊                            | 245kB 3.5MB/s eta 0:00:01\r\u001b[K     |████                            | 256kB 3.5MB/s eta 0:00:01\r\u001b[K     |████                            | 266kB 3.5MB/s eta 0:00:01\r\u001b[K     |████▎                           | 276kB 3.5MB/s eta 0:00:01\r\u001b[K     |████▍                           | 286kB 3.5MB/s eta 0:00:01\r\u001b[K     |████▋                           | 296kB 3.5MB/s eta 0:00:01\r\u001b[K     |████▊                           | 307kB 3.5MB/s eta 0:00:01\r\u001b[K     |████▉                           | 317kB 3.5MB/s eta 0:00:01\r\u001b[K     |█████                           | 327kB 3.5MB/s eta 0:00:01\r\u001b[K     |█████▏                          | 337kB 3.5MB/s eta 0:00:01\r\u001b[K     |█████▍                          | 348kB 3.5MB/s eta 0:00:01\r\u001b[K     |█████▌                          | 358kB 3.5MB/s eta 0:00:01\r\u001b[K     |█████▋                          | 368kB 3.5MB/s eta 0:00:01\r\u001b[K     |█████▉                          | 378kB 3.5MB/s eta 0:00:01\r\u001b[K     |██████                          | 389kB 3.5MB/s eta 0:00:01\r\u001b[K     |██████▏                         | 399kB 3.5MB/s eta 0:00:01\r\u001b[K     |██████▎                         | 409kB 3.5MB/s eta 0:00:01\r\u001b[K     |██████▌                         | 419kB 3.5MB/s eta 0:00:01\r\u001b[K     |██████▋                         | 430kB 3.5MB/s eta 0:00:01\r\u001b[K     |██████▊                         | 440kB 3.5MB/s eta 0:00:01\r\u001b[K     |███████                         | 450kB 3.5MB/s eta 0:00:01\r\u001b[K     |███████                         | 460kB 3.5MB/s eta 0:00:01\r\u001b[K     |███████▎                        | 471kB 3.5MB/s eta 0:00:01\r\u001b[K     |███████▍                        | 481kB 3.5MB/s eta 0:00:01\r\u001b[K     |███████▌                        | 491kB 3.5MB/s eta 0:00:01\r\u001b[K     |███████▊                        | 501kB 3.5MB/s eta 0:00:01\r\u001b[K     |███████▉                        | 512kB 3.5MB/s eta 0:00:01\r\u001b[K     |████████                        | 522kB 3.5MB/s eta 0:00:01\r\u001b[K     |████████▏                       | 532kB 3.5MB/s eta 0:00:01\r\u001b[K     |████████▍                       | 542kB 3.5MB/s eta 0:00:01\r\u001b[K     |████████▌                       | 552kB 3.5MB/s eta 0:00:01\r\u001b[K     |████████▋                       | 563kB 3.5MB/s eta 0:00:01\r\u001b[K     |████████▉                       | 573kB 3.5MB/s eta 0:00:01\r\u001b[K     |█████████                       | 583kB 3.5MB/s eta 0:00:01\r\u001b[K     |█████████▏                      | 593kB 3.5MB/s eta 0:00:01\r\u001b[K     |█████████▎                      | 604kB 3.5MB/s eta 0:00:01\r\u001b[K     |█████████▍                      | 614kB 3.5MB/s eta 0:00:01\r\u001b[K     |█████████▋                      | 624kB 3.5MB/s eta 0:00:01\r\u001b[K     |█████████▊                      | 634kB 3.5MB/s eta 0:00:01\r\u001b[K     |██████████                      | 645kB 3.5MB/s eta 0:00:01\r\u001b[K     |██████████                      | 655kB 3.5MB/s eta 0:00:01\r\u001b[K     |██████████▎                     | 665kB 3.5MB/s eta 0:00:01\r\u001b[K     |██████████▍                     | 675kB 3.5MB/s eta 0:00:01\r\u001b[K     |██████████▌                     | 686kB 3.5MB/s eta 0:00:01\r\u001b[K     |██████████▊                     | 696kB 3.5MB/s eta 0:00:01\r\u001b[K     |██████████▉                     | 706kB 3.5MB/s eta 0:00:01\r\u001b[K     |███████████                     | 716kB 3.5MB/s eta 0:00:01\r\u001b[K     |███████████▏                    | 727kB 3.5MB/s eta 0:00:01\r\u001b[K     |███████████▎                    | 737kB 3.5MB/s eta 0:00:01\r\u001b[K     |███████████▌                    | 747kB 3.5MB/s eta 0:00:01\r\u001b[K     |███████████▋                    | 757kB 3.5MB/s eta 0:00:01\r\u001b[K     |███████████▉                    | 768kB 3.5MB/s eta 0:00:01\r\u001b[K     |████████████                    | 778kB 3.5MB/s eta 0:00:01\r\u001b[K     |████████████                    | 788kB 3.5MB/s eta 0:00:01\r\u001b[K     |████████████▎                   | 798kB 3.5MB/s eta 0:00:01\r\u001b[K     |████████████▍                   | 808kB 3.5MB/s eta 0:00:01\r\u001b[K     |████████████▋                   | 819kB 3.5MB/s eta 0:00:01\r\u001b[K     |████████████▊                   | 829kB 3.5MB/s eta 0:00:01\r\u001b[K     |█████████████                   | 839kB 3.5MB/s eta 0:00:01\r\u001b[K     |█████████████                   | 849kB 3.5MB/s eta 0:00:01\r\u001b[K     |█████████████▏                  | 860kB 3.5MB/s eta 0:00:01\r\u001b[K     |█████████████▍                  | 870kB 3.5MB/s eta 0:00:01\r\u001b[K     |█████████████▌                  | 880kB 3.5MB/s eta 0:00:01\r\u001b[K     |█████████████▊                  | 890kB 3.5MB/s eta 0:00:01\r\u001b[K     |█████████████▉                  | 901kB 3.5MB/s eta 0:00:01\r\u001b[K     |██████████████                  | 911kB 3.5MB/s eta 0:00:01\r\u001b[K     |██████████████▏                 | 921kB 3.5MB/s eta 0:00:01\r\u001b[K     |██████████████▎                 | 931kB 3.5MB/s eta 0:00:01\r\u001b[K     |██████████████▌                 | 942kB 3.5MB/s eta 0:00:01\r\u001b[K     |██████████████▋                 | 952kB 3.5MB/s eta 0:00:01\r\u001b[K     |██████████████▉                 | 962kB 3.5MB/s eta 0:00:01\r\u001b[K     |███████████████                 | 972kB 3.5MB/s eta 0:00:01\r\u001b[K     |███████████████                 | 983kB 3.5MB/s eta 0:00:01\r\u001b[K     |███████████████▎                | 993kB 3.5MB/s eta 0:00:01\r\u001b[K     |███████████████▍                | 1.0MB 3.5MB/s eta 0:00:01\r\u001b[K     |███████████████▋                | 1.0MB 3.5MB/s eta 0:00:01\r\u001b[K     |███████████████▊                | 1.0MB 3.5MB/s eta 0:00:01\r\u001b[K     |███████████████▉                | 1.0MB 3.5MB/s eta 0:00:01\r\u001b[K     |████████████████                | 1.0MB 3.5MB/s eta 0:00:01\r\u001b[K     |████████████████▏               | 1.1MB 3.5MB/s eta 0:00:01\r\u001b[K     |████████████████▍               | 1.1MB 3.5MB/s eta 0:00:01\r\u001b[K     |████████████████▌               | 1.1MB 3.5MB/s eta 0:00:01\r\u001b[K     |████████████████▊               | 1.1MB 3.5MB/s eta 0:00:01\r\u001b[K     |████████████████▉               | 1.1MB 3.5MB/s eta 0:00:01\r\u001b[K     |█████████████████               | 1.1MB 3.5MB/s eta 0:00:01\r\u001b[K     |█████████████████▏              | 1.1MB 3.5MB/s eta 0:00:01\r\u001b[K     |█████████████████▎              | 1.1MB 3.5MB/s eta 0:00:01\r\u001b[K     |█████████████████▌              | 1.1MB 3.5MB/s eta 0:00:01\r\u001b[K     |█████████████████▋              | 1.1MB 3.5MB/s eta 0:00:01\r\u001b[K     |█████████████████▊              | 1.2MB 3.5MB/s eta 0:00:01\r\u001b[K     |██████████████████              | 1.2MB 3.5MB/s eta 0:00:01\r\u001b[K     |██████████████████              | 1.2MB 3.5MB/s eta 0:00:01\r\u001b[K     |██████████████████▎             | 1.2MB 3.5MB/s eta 0:00:01\r\u001b[K     |██████████████████▍             | 1.2MB 3.5MB/s eta 0:00:01\r\u001b[K     |██████████████████▋             | 1.2MB 3.5MB/s eta 0:00:01\r\u001b[K     |██████████████████▊             | 1.2MB 3.5MB/s eta 0:00:01\r\u001b[K     |██████████████████▉             | 1.2MB 3.5MB/s eta 0:00:01\r\u001b[K     |███████████████████             | 1.2MB 3.5MB/s eta 0:00:01\r\u001b[K     |███████████████████▏            | 1.2MB 3.5MB/s eta 0:00:01\r\u001b[K     |███████████████████▍            | 1.3MB 3.5MB/s eta 0:00:01\r\u001b[K     |███████████████████▌            | 1.3MB 3.5MB/s eta 0:00:01\r\u001b[K     |███████████████████▋            | 1.3MB 3.5MB/s eta 0:00:01\r\u001b[K     |███████████████████▉            | 1.3MB 3.5MB/s eta 0:00:01\r\u001b[K     |████████████████████            | 1.3MB 3.5MB/s eta 0:00:01\r\u001b[K     |████████████████████▏           | 1.3MB 3.5MB/s eta 0:00:01\r\u001b[K     |████████████████████▎           | 1.3MB 3.5MB/s eta 0:00:01\r\u001b[K     |████████████████████▌           | 1.3MB 3.5MB/s eta 0:00:01\r\u001b[K     |████████████████████▋           | 1.3MB 3.5MB/s eta 0:00:01\r\u001b[K     |████████████████████▊           | 1.4MB 3.5MB/s eta 0:00:01\r\u001b[K     |█████████████████████           | 1.4MB 3.5MB/s eta 0:00:01\r\u001b[K     |█████████████████████           | 1.4MB 3.5MB/s eta 0:00:01\r\u001b[K     |█████████████████████▎          | 1.4MB 3.5MB/s eta 0:00:01\r\u001b[K     |█████████████████████▍          | 1.4MB 3.5MB/s eta 0:00:01\r\u001b[K     |█████████████████████▌          | 1.4MB 3.5MB/s eta 0:00:01\r\u001b[K     |█████████████████████▊          | 1.4MB 3.5MB/s eta 0:00:01\r\u001b[K     |█████████████████████▉          | 1.4MB 3.5MB/s eta 0:00:01\r\u001b[K     |██████████████████████          | 1.4MB 3.5MB/s eta 0:00:01\r\u001b[K     |██████████████████████▏         | 1.4MB 3.5MB/s eta 0:00:01\r\u001b[K     |██████████████████████▍         | 1.5MB 3.5MB/s eta 0:00:01\r\u001b[K     |██████████████████████▌         | 1.5MB 3.5MB/s eta 0:00:01\r\u001b[K     |██████████████████████▋         | 1.5MB 3.5MB/s eta 0:00:01\r\u001b[K     |██████████████████████▉         | 1.5MB 3.5MB/s eta 0:00:01\r\u001b[K     |███████████████████████         | 1.5MB 3.5MB/s eta 0:00:01\r\u001b[K     |███████████████████████▏        | 1.5MB 3.5MB/s eta 0:00:01\r\u001b[K     |███████████████████████▎        | 1.5MB 3.5MB/s eta 0:00:01\r\u001b[K     |███████████████████████▍        | 1.5MB 3.5MB/s eta 0:00:01\r\u001b[K     |███████████████████████▋        | 1.5MB 3.5MB/s eta 0:00:01\r\u001b[K     |███████████████████████▊        | 1.5MB 3.5MB/s eta 0:00:01\r\u001b[K     |████████████████████████        | 1.6MB 3.5MB/s eta 0:00:01\r\u001b[K     |████████████████████████        | 1.6MB 3.5MB/s eta 0:00:01\r\u001b[K     |████████████████████████▏       | 1.6MB 3.5MB/s eta 0:00:01\r\u001b[K     |████████████████████████▍       | 1.6MB 3.5MB/s eta 0:00:01\r\u001b[K     |████████████████████████▌       | 1.6MB 3.5MB/s eta 0:00:01\r\u001b[K     |████████████████████████▊       | 1.6MB 3.5MB/s eta 0:00:01\r\u001b[K     |████████████████████████▉       | 1.6MB 3.5MB/s eta 0:00:01\r\u001b[K     |█████████████████████████       | 1.6MB 3.5MB/s eta 0:00:01\r\u001b[K     |█████████████████████████▏      | 1.6MB 3.5MB/s eta 0:00:01\r\u001b[K     |█████████████████████████▎      | 1.6MB 3.5MB/s eta 0:00:01\r\u001b[K     |█████████████████████████▌      | 1.7MB 3.5MB/s eta 0:00:01\r\u001b[K     |█████████████████████████▋      | 1.7MB 3.5MB/s eta 0:00:01\r\u001b[K     |█████████████████████████▉      | 1.7MB 3.5MB/s eta 0:00:01\r\u001b[K     |██████████████████████████      | 1.7MB 3.5MB/s eta 0:00:01\r\u001b[K     |██████████████████████████      | 1.7MB 3.5MB/s eta 0:00:01\r\u001b[K     |██████████████████████████▎     | 1.7MB 3.5MB/s eta 0:00:01\r\u001b[K     |██████████████████████████▍     | 1.7MB 3.5MB/s eta 0:00:01\r\u001b[K     |██████████████████████████▋     | 1.7MB 3.5MB/s eta 0:00:01\r\u001b[K     |██████████████████████████▊     | 1.7MB 3.5MB/s eta 0:00:01\r\u001b[K     |███████████████████████████     | 1.8MB 3.5MB/s eta 0:00:01\r\u001b[K     |███████████████████████████     | 1.8MB 3.5MB/s eta 0:00:01\r\u001b[K     |███████████████████████████▏    | 1.8MB 3.5MB/s eta 0:00:01\r\u001b[K     |███████████████████████████▍    | 1.8MB 3.5MB/s eta 0:00:01\r\u001b[K     |███████████████████████████▌    | 1.8MB 3.5MB/s eta 0:00:01\r\u001b[K     |███████████████████████████▊    | 1.8MB 3.5MB/s eta 0:00:01\r\u001b[K     |███████████████████████████▉    | 1.8MB 3.5MB/s eta 0:00:01\r\u001b[K     |████████████████████████████    | 1.8MB 3.5MB/s eta 0:00:01\r\u001b[K     |████████████████████████████▏   | 1.8MB 3.5MB/s eta 0:00:01\r\u001b[K     |████████████████████████████▎   | 1.8MB 3.5MB/s eta 0:00:01\r\u001b[K     |████████████████████████████▌   | 1.9MB 3.5MB/s eta 0:00:01\r\u001b[K     |████████████████████████████▋   | 1.9MB 3.5MB/s eta 0:00:01\r\u001b[K     |████████████████████████████▉   | 1.9MB 3.5MB/s eta 0:00:01\r\u001b[K     |█████████████████████████████   | 1.9MB 3.5MB/s eta 0:00:01\r\u001b[K     |█████████████████████████████   | 1.9MB 3.5MB/s eta 0:00:01\r\u001b[K     |█████████████████████████████▎  | 1.9MB 3.5MB/s eta 0:00:01\r\u001b[K     |█████████████████████████████▍  | 1.9MB 39kB/s eta 0:00:05\r\u001b[K     |█████████████████████████████▋  | 1.9MB 39kB/s eta 0:00:05\r\u001b[K     |█████████████████████████████▊  | 1.9MB 39kB/s eta 0:00:04\r\u001b[K     |█████████████████████████████▉  | 1.9MB 39kB/s eta 0:00:04\r\u001b[K     |██████████████████████████████  | 2.0MB 39kB/s eta 0:00:04\r\u001b[K     |██████████████████████████████▏ | 2.0MB 39kB/s eta 0:00:03\r\u001b[K     |██████████████████████████████▍ | 2.0MB 39kB/s eta 0:00:03\r\u001b[K     |██████████████████████████████▌ | 2.0MB 39kB/s eta 0:00:03\r\u001b[K     |██████████████████████████████▊ | 2.0MB 39kB/s eta 0:00:03\r\u001b[K     |██████████████████████████████▉ | 2.0MB 39kB/s eta 0:00:02\r\u001b[K     |███████████████████████████████ | 2.0MB 39kB/s eta 0:00:02\r\u001b[K     |███████████████████████████████▏| 2.0MB 39kB/s eta 0:00:02\r\u001b[K     |███████████████████████████████▎| 2.0MB 39kB/s eta 0:00:02\r\u001b[K     |███████████████████████████████▌| 2.0MB 39kB/s eta 0:00:01\r\u001b[K     |███████████████████████████████▋| 2.1MB 39kB/s eta 0:00:01\r\u001b[K     |███████████████████████████████▊| 2.1MB 39kB/s eta 0:00:01\r\u001b[K     |████████████████████████████████| 2.1MB 39kB/s eta 0:00:01\r\u001b[K     |████████████████████████████████| 2.1MB 39kB/s \n",
            "\u001b[?25hRequirement already satisfied: numpy in /usr/local/lib/python3.6/dist-packages (from mitdeeplearning) (1.18.4)\n",
            "Requirement already satisfied: regex in /usr/local/lib/python3.6/dist-packages (from mitdeeplearning) (2019.12.20)\n",
            "Requirement already satisfied: tqdm in /usr/local/lib/python3.6/dist-packages (from mitdeeplearning) (4.41.1)\n",
            "Requirement already satisfied: gym in /usr/local/lib/python3.6/dist-packages (from mitdeeplearning) (0.17.2)\n",
            "Requirement already satisfied: cloudpickle<1.4.0,>=1.2.0 in /usr/local/lib/python3.6/dist-packages (from gym->mitdeeplearning) (1.3.0)\n",
            "Requirement already satisfied: scipy in /usr/local/lib/python3.6/dist-packages (from gym->mitdeeplearning) (1.4.1)\n",
            "Requirement already satisfied: pyglet<=1.5.0,>=1.4.0 in /usr/local/lib/python3.6/dist-packages (from gym->mitdeeplearning) (1.5.0)\n",
            "Requirement already satisfied: future in /usr/local/lib/python3.6/dist-packages (from pyglet<=1.5.0,>=1.4.0->gym->mitdeeplearning) (0.16.0)\n",
            "Building wheels for collected packages: mitdeeplearning\n",
            "  Building wheel for mitdeeplearning (setup.py) ... \u001b[?25l\u001b[?25hdone\n",
            "  Created wheel for mitdeeplearning: filename=mitdeeplearning-0.1.2-cp36-none-any.whl size=2114586 sha256=fb4eb77d5fd4a3dd3d64d90702545d3bc165339f698ee3ab9ed21a98f3c4e7b3\n",
            "  Stored in directory: /root/.cache/pip/wheels/27/e1/73/5f01c787621d8a3c857f59876c79e304b9b64db9ff5bd61b74\n",
            "Successfully built mitdeeplearning\n",
            "Installing collected packages: mitdeeplearning\n",
            "Successfully installed mitdeeplearning-0.1.2\n"
          ],
          "name": "stdout"
        }
      ]
    },
    {
      "cell_type": "markdown",
      "metadata": {
        "id": "zmrHSiXKTXTY",
        "colab_type": "text"
      },
      "source": [
        "Before we dive in, let's take a step back and outline our approach, which is generally applicable to reinforcement learning problems in general:\n",
        "\n",
        "1. **Initialize our environment and our agent**: here we will describe the different observations and actions the agent can make in the environemnt.\n",
        "2. **Define our agent's memory**: this will enable the agent to remember its past actions, observations, and rewards.\n",
        "3. **Define a reward function**: describes the reward associated with an action or sequence of actions.\n",
        "4. **Define the learning algorithm**: this will be used to reinforce the agent's good behaviors and discourage bad behaviors.\n"
      ]
    },
    {
      "cell_type": "markdown",
      "metadata": {
        "id": "UT7YL8KBJIIc",
        "colab_type": "text"
      },
      "source": [
        "# Part 1: Cartpole\n",
        "\n",
        "## 3.1 Define the Cartpole environment and agent\n",
        "\n",
        "### Environment \n",
        "\n",
        "In order to model the environment for both the Cartpole and Pong tasks, we'll be using a toolkit developed by OpenAI called [OpenAI Gym](https://gym.openai.com/). It provides several pre-defined environments for training and testing reinforcement learning agents, including those for classic physics control tasks, Atari video games, and robotic simulations. To access the Cartpole environment, we can use `env = gym.make(\"CartPole-v0\")`, which we gained access to when we imported the `gym` package. We can instantiate different [environments](https://gym.openai.com/envs/#classic_control) by passing the enivronment name to the `make` function.\n",
        "\n",
        "One issue we might experience when developing RL algorithms is that many aspects of the learning process are inherently random: initializing game states, changes in the environment, and the agent's actions. As such, it can be helpful to set a initial \"seed\" for the environment to ensure some level of reproducibility. Much like you might use `numpy.random.seed`, we can call the comparable function in gym, `seed`, with our defined environment to ensure the environment's random variables are initialized the same each time."
      ]
    },
    {
      "cell_type": "code",
      "metadata": {
        "id": "quv9SC0iIYFm",
        "colab_type": "code",
        "outputId": "eb14ca71-7715-42cd-cb4c-1e8c52abffc0",
        "colab": {
          "base_uri": "https://localhost:8080/",
          "height": 36
        }
      },
      "source": [
        "### Instantiate the Cartpole environment ###\n",
        "\n",
        "env = gym.make(\"CartPole-v0\")\n",
        "env.seed(1)"
      ],
      "execution_count": 0,
      "outputs": [
        {
          "output_type": "execute_result",
          "data": {
            "text/plain": [
              "[1]"
            ]
          },
          "metadata": {
            "tags": []
          },
          "execution_count": 2
        }
      ]
    },
    {
      "cell_type": "markdown",
      "metadata": {
        "id": "mhEITUcKK455",
        "colab_type": "text"
      },
      "source": [
        "In Cartpole, a pole is attached by an un-actuated joint to a cart, which moves along a frictionless track. The pole starts upright, and the goal is to prevent it from falling over. The system is controlled by applying a force of +1 or -1 to the cart. A reward of +1 is provided for every timestep that the pole remains upright. The episode ends when the pole is more than 15 degrees from vertical, or the cart moves more than 2.4 units from the center of the track. A visual summary of the cartpole environment is depicted below:\n",
        "\n",
        "<img width=\"400px\" src=\"https://danielpiedrahita.files.wordpress.com/2017/02/cart-pole.png\"></img>\n",
        "\n",
        "Given this setup for the environment and the objective of the game, we can think about: 1) what observations help define the environment's state; 2) what actions the agent can take. \n",
        "\n",
        "First, let's consider the observation space. In this Cartpole environment our observations are:\n",
        "\n",
        "1. Cart position\n",
        "2. Cart velocity\n",
        "3. Pole angle\n",
        "4. Pole rotation rate\n",
        "\n",
        "We can confirm the size of the space by querying the environment's observation space:\n"
      ]
    },
    {
      "cell_type": "code",
      "metadata": {
        "id": "UVJaEcbdIX82",
        "colab_type": "code",
        "outputId": "30dd0970-6458-4be6-c2f2-b15fa8b4888c",
        "colab": {
          "base_uri": "https://localhost:8080/",
          "height": 36
        }
      },
      "source": [
        "n_observations = env.observation_space\n",
        "print(\"Environment has observation space =\", n_observations)"
      ],
      "execution_count": 0,
      "outputs": [
        {
          "output_type": "stream",
          "text": [
            "Environment has observation space = Box(4,)\n"
          ],
          "name": "stdout"
        }
      ]
    },
    {
      "cell_type": "markdown",
      "metadata": {
        "id": "ZibGgjrALgPM",
        "colab_type": "text"
      },
      "source": [
        "Second, we consider the action space. At every time step, the agent can move either right or left. Again we can confirm the size of the action space by querying the environment:"
      ]
    },
    {
      "cell_type": "code",
      "metadata": {
        "id": "qc9SIPxBIXrm",
        "colab_type": "code",
        "outputId": "54d5b906-5cc7-4167-ed7a-0b95b4130334",
        "colab": {
          "base_uri": "https://localhost:8080/",
          "height": 36
        }
      },
      "source": [
        "n_actions = env.action_space.n\n",
        "print(\"Number of possible actions that the agent can choose from =\", n_actions)"
      ],
      "execution_count": 0,
      "outputs": [
        {
          "output_type": "stream",
          "text": [
            "Number of possible actions that the agent can choose from = 2\n"
          ],
          "name": "stdout"
        }
      ]
    },
    {
      "cell_type": "markdown",
      "metadata": {
        "id": "pPfHME8aRKkb",
        "colab_type": "text"
      },
      "source": [
        "### Cartpole agent\n",
        "\n",
        "Now that we have instantiated the environment and understood the dimensionality of the observation and action spaces, we are ready to define our agent. In deep reinforcement learning, a deep neural network defines the agent. This network will take as input an observation of the environment and output the probability of taking each of the possible actions. Since Cartpole is defined by a low-dimensional observation space, a simple feed-forward neural network should work well for our agent. We will define this using the `Sequential` API.\n"
      ]
    },
    {
      "cell_type": "code",
      "metadata": {
        "id": "W-o_XK4oQ4eu",
        "colab_type": "code",
        "colab": {}
      },
      "source": [
        "### Define the Cartpole agent ###\n",
        "\n",
        "# Defines a feed-forward neural network\n",
        "def create_cartpole_model():\n",
        "  model = tf.keras.models.Sequential([\n",
        "      # First Dense layer\n",
        "      tf.keras.layers.Dense(units=32, activation='relu'),\n",
        "\n",
        "      tf.keras.layers.Dense(units = n_actions, activation= None)\n",
        "      # TODO: Define the last Dense layer, which will provide the network's output.\n",
        "      # Think about the space the agent needs to act in!\n",
        "      #'''TODO: Dense layer to output action probabilities'''\n",
        "      \n",
        "  ])\n",
        "  return model\n",
        "\n",
        "cartpole_model = create_cartpole_model()"
      ],
      "execution_count": 0,
      "outputs": []
    },
    {
      "cell_type": "markdown",
      "metadata": {
        "id": "d5D5NSIYS2IW",
        "colab_type": "text"
      },
      "source": [
        "Now that we have defined the core network architecture, we will define an *action function* that executes a forward pass through the network, given a set of observations, and samples from the output. This sampling from the output probabilities will be used to select the next action for the agent. \n",
        "\n",
        "**Critically, this action function is totally general -- we will use this function for both Cartpole and Pong, and it is applicable to other RL tasks, as well!**"
      ]
    },
    {
      "cell_type": "code",
      "metadata": {
        "id": "E_vVZRr8Q4R_",
        "colab_type": "code",
        "colab": {}
      },
      "source": [
        "### Define the agent's action function ###\n",
        "\n",
        "# Function that takes observations as input, executes a forward pass through model, \n",
        "#   and outputs a sampled action.\n",
        "# Arguments:\n",
        "#   model: the network that defines our agent\n",
        "#   observation: observation which is fed as input to the model\n",
        "# Returns:\n",
        "#   action: choice of agent action\n",
        "def choose_action(model, observation):\n",
        "  # add batch dimension to the observation\n",
        "  observation = np.expand_dims(observation, axis=0)\n",
        "\n",
        "  '''TODO: feed the observations through the model to predict the log probabilities of each possible action.'''\n",
        "  logits = model.predict(observation)\n",
        "  \n",
        "  # pass the log probabilities through a softmax to compute true probabilities\n",
        "  prob_weights = tf.nn.softmax(logits).numpy()\n",
        "  \n",
        "  '''TODO: randomly sample from the prob_weights to pick an action.\n",
        "  Hint: carefully consider the dimensionality of the input probabilities (vector) and the output action (scalar)'''\n",
        "  action = np.random.choice(n_actions, size=1, p=prob_weights.flatten())[0] \n",
        "  #le estamos pasando 2 posibles acciones, nos da 1 de las 2, con las probabilidades  de weights, el [0] creo solo es para que el array se haga int.\n",
        "\n",
        "  return action"
      ],
      "execution_count": 0,
      "outputs": []
    },
    {
      "cell_type": "markdown",
      "metadata": {
        "id": "CRbBR5WoqG_i",
        "colab_type": "text"
      },
      "source": [
        "###Some of my experiments"
      ]
    },
    {
      "cell_type": "code",
      "metadata": {
        "id": "NIAnQVf-pj5H",
        "colab_type": "code",
        "outputId": "fa2268a3-984b-4a86-a5f4-50e36422de92",
        "colab": {
          "base_uri": "https://localhost:8080/",
          "height": 36
        }
      },
      "source": [
        "ob = env.reset()\n",
        "ob = np.expand_dims(ob,axis = 0) #esto es lo mismo que ob[None]\n",
        "logts = cartpole_model.predict(ob) # te da logits #te da un array de ((1,2)), creo que son con la fomrmula de logaritmo. (log-its)\n",
        "prob_weights = tf.nn.softmax(logts).numpy() #te da un array de ((1,2)) que cada uno son 2 numeros con probabilidades que suman 1\n",
        "#print(prob_weights.shape)\n",
        "#print(prob_weights.flatten().shape) #el flatten te quita por así decirlo el \"batch\", que es el 1 antes.\n",
        "np.random.choice(n_actions, size=1, p=prob_weights.flatten())[0] #te da un array de acción y el [0] es para pasar a int"
      ],
      "execution_count": 0,
      "outputs": [
        {
          "output_type": "execute_result",
          "data": {
            "text/plain": [
              "1"
            ]
          },
          "metadata": {
            "tags": []
          },
          "execution_count": 18
        }
      ]
    },
    {
      "cell_type": "markdown",
      "metadata": {
        "id": "_tR9uAWcTnkr",
        "colab_type": "text"
      },
      "source": [
        "## 3.2 Define the agent's memory\n",
        "\n",
        "Now that we have instantiated the environment and defined the agent network architecture and action function, we are ready to move on to the next step in our RL workflow:\n",
        "1. **Initialize our environment and our agent**: here we will describe the different observations and actions the agent can make in the environemnt.\n",
        "2. **Define our agent's memory**: this will enable the agent to remember its past actions, observations, and rewards.\n",
        "3. **Define the learning algorithm**: this will be used to reinforce the agent's good behaviors and discourage bad behaviors.\n",
        "\n",
        "In reinforcement learning, training occurs alongside the agent's acting in the environment; an *episode* refers to a sequence of actions that ends in some terminal state, such as the pole falling down or the cart crashing. The agent will need to remember all of its observations and actions, such that once an episode ends, it can learn to \"reinforce\" the good actions and punish the undesirable actions via training. Our first step is to define a simple memory buffer that contains the agent's observations, actions, and received rewards from a given episode. \n",
        "\n",
        "**Once again, note the modularity of this memory buffer -- it can and will be applied to other RL tasks as well!**"
      ]
    },
    {
      "cell_type": "code",
      "metadata": {
        "id": "8MM6JwXVQ4JG",
        "colab_type": "code",
        "colab": {}
      },
      "source": [
        "### Agent Memory ###\n",
        "\n",
        "class Memory:\n",
        "  def __init__(self): \n",
        "      self.clear()\n",
        "\n",
        "  # Resets/restarts the memory buffer\n",
        "  def clear(self): \n",
        "      self.observations = []\n",
        "      self.actions = []\n",
        "      self.rewards = []\n",
        "\n",
        "  # Add observations, actions, rewards to memory\n",
        "  def add_to_memory(self, new_observation, new_action, new_reward): \n",
        "      self.observations.append(new_observation)\n",
        "      '''TODO: update the list of actions with new action'''\n",
        "      self.actions.append(new_action)\n",
        "      '''TODO: update the list of rewards with new reward'''\n",
        "      self.rewards.append(new_reward)\n",
        "        \n",
        "memory = Memory()"
      ],
      "execution_count": 0,
      "outputs": []
    },
    {
      "cell_type": "markdown",
      "metadata": {
        "id": "D4YhtPaUVj5m",
        "colab_type": "text"
      },
      "source": [
        "## 3.3 Reward function\n",
        "\n",
        "We're almost ready to begin the learning algorithm for our agent! The next step is to compute the rewards of our agent as it acts in the environment. Since we (and the agent) is uncertain about if and when the game or task will end (i.e., when the pole will fall), it is useful to emphasize getting rewards **now** rather than later in the future -- this is the idea of discounting. This is a similar concept to discounting money in the case of interest. ecall from lecture, we use reward discount to give more preference at getting rewards now rather than later in the future. The idea of discounting rewards is similar to discounting money in the case of interest.\n",
        "\n",
        "To compute the expected cumulative reward, known as the **return**, at a given timestep in a learning episode, we sum the discounted rewards expected at that time step $t$, within a learning episode, and projecting into the future. We define the return (cumulative reward) at a time step $t$, $R_{t}$ as:\n",
        "\n",
        ">$R_{t}=\\sum_{k=0}^\\infty\\gamma^kr_{t+k}$\n",
        "\n",
        "where  $0 < \\gamma < 1$ is the discount factor and $r_{t}$ is the reward at time step $t$, and the index $k$ increments projection into the future within a single learning episode. Intuitively, you can think of this function as depreciating any rewards received at later time steps, which will force the agent prioritize getting rewards now. Since we can't extend episodes to infinity, in practice the computation will be limited to the number of timesteps in an episode -- after that the reward is assumed to be zero.\n",
        "\n",
        "Take note of the form of this sum -- we'll have to be clever about how we implement this function. Specifically, we'll need to initialize an array of zeros, with length of the number of time steps, and fill it with the real discounted reward values as we loop through the rewards from the episode, which will have been saved in the agents memory. What we ultimately care about is which actions are better relative to other actions taken in that episode -- so, we'll normalize our computed rewards, using the mean and standard deviation of the rewards across the learning episode.\n"
      ]
    },
    {
      "cell_type": "code",
      "metadata": {
        "id": "5_Q2OFYtQ32X",
        "colab_type": "code",
        "colab": {}
      },
      "source": [
        "### Reward function ###\n",
        "\n",
        "# Helper function that normalizes an np.array x\n",
        "def normalize(x):\n",
        "  x -= np.mean(x)\n",
        "  x /= np.std(x)\n",
        "  return x.astype(np.float32)\n",
        "\n",
        "# Compute normalized, discounted, cumulative rewards (i.e., return)\n",
        "# Arguments:\n",
        "#   rewards: reward at timesteps in episode\n",
        "#   gamma: discounting factor\n",
        "# Returns:\n",
        "#   normalized discounted reward\n",
        "def discount_rewards(rewards, gamma=0.95): \n",
        "  discounted_rewards = np.zeros_like(rewards)\n",
        "  R = 0\n",
        "  #basicamente lo que hace es calcular R para cada paso y añadirlo a un array de discounted rewards\n",
        "  #Del cual podemos hacer la sumatoria y sacar Rtotal\n",
        "  for t in reversed(range(0, len(rewards))): \n",
        "      # update the total discounted reward\n",
        "      R = R * gamma + rewards[t]\n",
        "      discounted_rewards[t] = R\n",
        "      \n",
        "  return normalize(discounted_rewards)"
      ],
      "execution_count": 0,
      "outputs": []
    },
    {
      "cell_type": "markdown",
      "metadata": {
        "id": "QzbY-mjGYcmt",
        "colab_type": "text"
      },
      "source": [
        "## 3.4 Learning algorithm\n",
        "\n",
        "Now we can start to define the learing algorithm which will be used to reinforce good behaviors of the agent and discourage bad behaviours. In this lab, we will focus on *policy gradient* methods which aim to **maximize** the likelihood of actions that result in large rewards. Equivalently, this means that we want to **minimize** the negative likelihood of these same actions. We achieve this by simply **scaling** the probabilities by their associated rewards -- effectively amplifying the likelihood of actions that resujlt in large rewards.\n",
        "\n",
        "Since the log function is monotonically increasing, this means that minimizing **negative likelihood** is equivalent to minimizing **negative log-likelihood**.  Recall that we can easily compute the negative log-likelihood of a discrete action by evaluting its [softmax cross entropy](https://www.tensorflow.org/api_docs/python/tf/nn/sparse_softmax_cross_entropy_with_logits). Like in supervised learning, we can use stochastic gradient descent methods to achieve the desired minimization. \n",
        "\n",
        "Let's begin by defining the loss function."
      ]
    },
    {
      "cell_type": "code",
      "metadata": {
        "id": "fsgZ3IDCY_Zn",
        "colab_type": "code",
        "colab": {}
      },
      "source": [
        "### Loss function ###\n",
        "\n",
        "# Arguments:\n",
        "#   logits: network's predictions for actions to take\n",
        "#   actions: the actions the agent took in an episode\n",
        "#   rewards: the rewards the agent received in an episode\n",
        "# Returns:\n",
        "#   loss\n",
        "def compute_loss(logits, actions, rewards): \n",
        "  '''TODO: complete the function call to compute the negative log probabilities'''\n",
        "  neg_logprob = tf.nn.sparse_softmax_cross_entropy_with_logits(logits=logits, labels=actions)\n",
        "  \n",
        "  '''TODO: scale the negative log probability by the rewards'''\n",
        "  loss = tf.reduce_mean(neg_logprob * rewards) #reduce mean is literally the average\n",
        "  return loss"
      ],
      "execution_count": 0,
      "outputs": []
    },
    {
      "cell_type": "markdown",
      "metadata": {
        "id": "Rr5vQ9fqbPpp",
        "colab_type": "text"
      },
      "source": [
        "Now let's use the loss function to define a training step of our learning algorithm:"
      ]
    },
    {
      "cell_type": "code",
      "metadata": {
        "id": "_50ada7nbZ7L",
        "colab_type": "code",
        "colab": {}
      },
      "source": [
        "### Training step (forward and backpropagation) ###\n",
        "\n",
        "def train_step(model, optimizer, observations, actions, discounted_rewards):\n",
        "  with tf.GradientTape() as tape:\n",
        "      # Forward propagate through the agent network\n",
        "      logits = model(observations)\n",
        "\n",
        "      '''TODO: call the compute_loss function to compute the loss'''\n",
        "      loss = compute_loss(logits, actions, discounted_rewards)\n",
        "\n",
        "  '''TODO: run backpropagation to minimize the loss using the tape.gradient method.\n",
        "      Use `model.trainable_variables`'''\n",
        "  grads = tape.gradient(loss, model.trainable_variables)\n",
        "  optimizer.apply_gradients(zip(grads, model.trainable_variables))\n"
      ],
      "execution_count": 0,
      "outputs": []
    },
    {
      "cell_type": "markdown",
      "metadata": {
        "id": "XsjKXh6BcgjR",
        "colab_type": "text"
      },
      "source": [
        "## 3.5 Run cartpole!\n",
        "\n",
        "Having had no prior knowledge of the environment, the agent will begin to learn how to balance the pole on the cart based only on the feedback received from the environment! Having defined how our agent can move, how it takes in new observations, and how it updates its state, we'll see how it gradually learns a policy of actions to optimize balancing the pole as long as possible. To do this, we'll track how the rewards evolve as a function of training -- how should the rewards change as training progresses?"
      ]
    },
    {
      "cell_type": "code",
      "metadata": {
        "id": "XmOzc2rrcn8Q",
        "colab_type": "code",
        "colab": {}
      },
      "source": [
        "### Cartpole training! ###\n",
        "\n",
        "# Learning rate and optimizer\n",
        "learning_rate = 1e-3\n",
        "optimizer = tf.keras.optimizers.Adam(learning_rate)\n",
        "\n",
        "# instantiate cartpole agent\n",
        "cartpole_model = create_cartpole_model()\n",
        "\n",
        "# to track our progress\n",
        "smoothed_reward = mdl.util.LossHistory(smoothing_factor=0.9)\n",
        "plotter = mdl.util.PeriodicPlotter(sec=2, xlabel='Iterations', ylabel='Rewards')\n",
        "\n",
        "if hasattr(tqdm, '_instances'): tqdm._instances.clear() # clear if it exists\n",
        "for i_episode in range(1000):\n",
        "\n",
        "  plotter.plot(smoothed_reward.get())\n",
        "\n",
        "  # Restart the environment\n",
        "  observation = env.reset()\n",
        "  memory.clear()\n",
        "\n",
        "  while True:\n",
        "      # using our observation, choose an action and take it in the environment\n",
        "      action = choose_action(cartpole_model, observation)\n",
        "      next_observation, reward, done, info = env.step(action)\n",
        "      # add to memory\n",
        "      memory.add_to_memory(observation, action, reward)\n",
        "      \n",
        "      # is the episode over? did you crash or do so well that you're done?\n",
        "      if done:\n",
        "          # determine total reward and keep a record of this\n",
        "          total_reward = sum(memory.rewards)\n",
        "          smoothed_reward.append(total_reward)\n",
        "          \n",
        "          # initiate training - remember we don't know anything about how the \n",
        "          #   agent is doing until it has crashed!\n",
        "          train_step(cartpole_model, optimizer, \n",
        "                     observations=np.vstack(memory.observations),\n",
        "                     actions=np.array(memory.actions),\n",
        "                     discounted_rewards = discount_rewards(memory.rewards))\n",
        "          \n",
        "          # reset the memory\n",
        "          memory.clear()\n",
        "          break\n",
        "      # update our observatons\n",
        "      observation = next_observation"
      ],
      "execution_count": 0,
      "outputs": []
    },
    {
      "cell_type": "markdown",
      "metadata": {
        "id": "mkcUtGF1VE-K",
        "colab_type": "text"
      },
      "source": [
        "To get a sense of how our agent did, we can save a video of the trained model working on balancing the pole. Realize that this is a brand new environment that the agent has not seen before!\n",
        "\n",
        "Let's display the saved video to watch how our agent did!\n"
      ]
    },
    {
      "cell_type": "code",
      "metadata": {
        "id": "PAYBkv6Zbk0J",
        "colab_type": "code",
        "outputId": "f8cb7b6a-12f5-4664-8774-eeb09032886d",
        "colab": {
          "base_uri": "https://localhost:8080/",
          "height": 440
        }
      },
      "source": [
        "saved_cartpole = mdl.lab3.save_video_of_model(cartpole_model, \"CartPole-v0\")\n",
        "mdl.lab3.play_video(saved_cartpole)"
      ],
      "execution_count": 0,
      "outputs": [
        {
          "output_type": "stream",
          "text": [
            "Successfully saved 35 frames into CartPole-v0.mp4!\n"
          ],
          "name": "stdout"
        },
        {
          "output_type": "execute_result",
          "data": {
            "text/html": [
              "\n",
              "        <video controls>\n",
              "            <source src=\"data:video/mp4;base64,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\" type=\"video/mp4\" />\n",
              "        </video>"
            ],
            "text/plain": [
              "<IPython.core.display.HTML object>"
            ]
          },
          "metadata": {
            "tags": []
          },
          "execution_count": 13
        }
      ]
    },
    {
      "cell_type": "markdown",
      "metadata": {
        "id": "CSbVNDpaVb3_",
        "colab_type": "text"
      },
      "source": [
        "How does the agent perform? Could you train it for shorter amounts of time and still perform well? Do you think that training longer would help even more? "
      ]
    },
    {
      "cell_type": "markdown",
      "metadata": {
        "id": "Eu6Mqxc720ST",
        "colab_type": "text"
      },
      "source": [
        "#Part 2: Pong\n",
        "\n",
        "In Cartpole, we dealt with an environment that was static -- in other words, it didn't change over time. What happens if our environment is dynamic and unpredictable? Well that's exactly the case in [Pong](https://en.wikipedia.org/wiki/Pong), since part of the environment is the opposing player. We don't know how our opponent will act or react to our actions, so the complexity of our problem increases. It also becomes much more interesting, since we can compete to beat our opponent. RL provides a powerful framework for training AI systems with the ability to handle and interact with dynamic, unpredictable environments. In this part of the lab, we'll use the tools and workflow we explored in Part 1 to build an RL agent capable of playing the game of Pong.\n"
      ]
    },
    {
      "cell_type": "markdown",
      "metadata": {
        "id": "srZ4YE29isuA",
        "colab_type": "text"
      },
      "source": [
        "## 3.6 Define and inspect the Pong environment\n",
        "\n",
        "As with Cartpole, we'll instantiate the Pong environment in the OpenAI gym, using a seed of 1."
      ]
    },
    {
      "cell_type": "code",
      "metadata": {
        "id": "lbYHLr66i15n",
        "colab_type": "code",
        "colab": {}
      },
      "source": [
        "env = gym.make(\"Pong-v0\", frameskip=5)\n",
        "env.seed(1); # for reproducibility"
      ],
      "execution_count": 0,
      "outputs": []
    },
    {
      "cell_type": "markdown",
      "metadata": {
        "id": "52uZ2Xhyi-MW",
        "colab_type": "text"
      },
      "source": [
        "Let's next consider the observation space for the Pong environment. Instead of four physical descriptors of the cart-pole setup, in the case of Pong our observations are the individual video frames (i.e., images) that depict the state of the board. Thus, the observations are 210x160 RGB images (arrays of shape (210,160,3)).\n",
        "\n",
        "We can again confirm the size of the observation space by query:"
      ]
    },
    {
      "cell_type": "code",
      "metadata": {
        "id": "0yX4GWvxjnHS",
        "colab_type": "code",
        "outputId": "0bbc67aa-6508-42e2-ffc1-e7d8ecdcf7e1",
        "colab": {
          "base_uri": "https://localhost:8080/",
          "height": 36
        }
      },
      "source": [
        "print(\"Environment has observation space =\", env.observation_space)"
      ],
      "execution_count": 0,
      "outputs": [
        {
          "output_type": "stream",
          "text": [
            "Environment has observation space = Box(210, 160, 3)\n"
          ],
          "name": "stdout"
        }
      ]
    },
    {
      "cell_type": "markdown",
      "metadata": {
        "id": "uuEC2TdSjx9D",
        "colab_type": "text"
      },
      "source": [
        "In Pong, at every time step, the agent (which controls the paddle) has six actions to choose from: no-op (no operation), move right, move left, fire, fire right, and fire left. Let's confirm the size of the action space by querying the environment:"
      ]
    },
    {
      "cell_type": "code",
      "metadata": {
        "id": "Iuy9oPc1kag3",
        "colab_type": "code",
        "outputId": "9ff59ed6-4e8b-4ef7-b211-c3f667235283",
        "colab": {
          "base_uri": "https://localhost:8080/",
          "height": 36
        }
      },
      "source": [
        "n_actions = env.action_space.n\n",
        "print(\"Number of possible actions that the agent can choose from =\", n_actions)"
      ],
      "execution_count": 0,
      "outputs": [
        {
          "output_type": "stream",
          "text": [
            "Number of possible actions that the agent can choose from = 6\n"
          ],
          "name": "stdout"
        }
      ]
    },
    {
      "cell_type": "markdown",
      "metadata": {
        "id": "9-fghDRigUE5",
        "colab_type": "text"
      },
      "source": [
        "## 3.7 Define the Pong agent\n",
        "\n",
        "As before, we'll use a neural network to define our agent. What network architecture do you think would be especially well suited to this game? Since our observations are now in the form of images, we'll add convolutional layers to the network to increase the learning capacity of our network."
      ]
    },
    {
      "cell_type": "code",
      "metadata": {
        "id": "IJiqbFYpgYRH",
        "colab_type": "code",
        "colab": {}
      },
      "source": [
        "### Define the Pong agent ###\n",
        "\n",
        "# Functionally define layers for convenience\n",
        "# All convolutional layers will have ReLu activation\n",
        "Conv2D = functools.partial(tf.keras.layers.Conv2D, padding='same', activation='relu')\n",
        "Flatten = tf.keras.layers.Flatten\n",
        "Dense = tf.keras.layers.Dense\n",
        "\n",
        "# Defines a CNN for the Pong agent\n",
        "def create_pong_model():\n",
        "  model = tf.keras.models.Sequential([\n",
        "    # Convolutional layers\n",
        "    # First, 16 7x7 filters with 4x4 stride\n",
        "    Conv2D(filters=16, kernel_size=7, strides=4),\n",
        "\n",
        "    # TODO: define convolutional layers with 32 5x5 filters and 2x2 stride\n",
        "    Conv2D(filters = 32, kernel_size = 5, strides = 2),\n",
        "\n",
        "    # TODO: define convolutional layers with 48 3x3 filters and 2x2 stride\n",
        "    Conv2D(filters = 48, kernel_size = 3, strides = 2),\n",
        "\n",
        "    Flatten(),\n",
        "    \n",
        "    # Fully connected layer and output\n",
        "    Dense(units=64, activation='relu'),\n",
        "    # TODO: define the output dimension of the last Dense layer. \n",
        "    # Pay attention to the space the agent needs to act in\n",
        "    Dense(units = n_actions, activation=None)\n",
        "  \n",
        "  ])\n",
        "  return model\n",
        "\n",
        "pong_model = create_pong_model()"
      ],
      "execution_count": 0,
      "outputs": []
    },
    {
      "cell_type": "markdown",
      "metadata": {
        "id": "yaeZ067olFiJ",
        "colab_type": "text"
      },
      "source": [
        "Since we've already defined the action function, `choose_action(model, observation)`, we don't need to define it again. Instead, we'll be able to reuse it later on by passing in our new model we've just created, `pong_model`. This is awesome because our action function provides a modular and generalizable method for all sorts of RL agents!"
      ]
    },
    {
      "cell_type": "markdown",
      "metadata": {
        "id": "XAEMDxHNn8Zo",
        "colab_type": "text"
      },
      "source": [
        "#My experiments pong"
      ]
    },
    {
      "cell_type": "code",
      "metadata": {
        "id": "6D0WdvhFn-uA",
        "colab_type": "code",
        "colab": {}
      },
      "source": [
        "ob = obs_change #esta es de el loop de abajo, realmente le estamos metiendo eso\n",
        "print(ob.shape)\n",
        "ob = np.expand_dims(ob,axis = 0) #esto es lo mismo que ob[None]\n",
        "print(ob.shape)\n",
        "logts = pong_model.predict(ob) # \n",
        "print(logts.shape)\n",
        "prob_weights = tf.nn.softmax(logts).numpy()\n",
        "print(prob_weights.shape)\n",
        "print(prob_weights.flatten().shape) #el flatten te quita por así decirlo el \"batch\", que es el 1 antes.\n",
        "np.random.choice(n_actions, size=1, p=prob_weights.flatten())[0] #te da un array de acción y el [0] es para pasar a int\n"
      ],
      "execution_count": 0,
      "outputs": []
    },
    {
      "cell_type": "code",
      "metadata": {
        "id": "lj_9mNb8oBXl",
        "colab_type": "code",
        "colab": {}
      },
      "source": [
        "obs_change[50].shape"
      ],
      "execution_count": 0,
      "outputs": []
    },
    {
      "cell_type": "markdown",
      "metadata": {
        "id": "l0RvqOVkmc2r",
        "colab_type": "text"
      },
      "source": [
        "## 3.8 Pong-specific functions\n",
        "\n",
        "In Part 1 (Cartpole), we implemented some key functions and classes to build and train our RL agent -- `choose_action(model, observation)` and the `Memory` class, for example. However, in getting ready to apply these to a new game like Pong, we might need to make some slight modifications. \n",
        "\n",
        "Namely, we need to think about what happens when a game ends. In Pong, we know a game has ended if the reward is +1 (we won!) or -1 (we lost unfortunately). Otherwise, we expect the reward at a timestep to be zero -- the players (or agents) are just playing eachother. So, after a game ends, we will need to reset the reward to zero when a game ends. This will result in a modified reward function."
      ]
    },
    {
      "cell_type": "code",
      "metadata": {
        "id": "iEZG2o50luLu",
        "colab_type": "code",
        "colab": {}
      },
      "source": [
        "### Pong reward function ###\n",
        "\n",
        "# Compute normalized, discounted rewards for Pong (i.e., return)\n",
        "# Arguments:\n",
        "#   rewards: reward at timesteps in episode\n",
        "#   gamma: discounting factor. Note increase to 0.99 -- rate of depreciation will be slower.\n",
        "# Returns:\n",
        "#   normalized discounted reward\n",
        "def discount_rewards(rewards, gamma=0.99): \n",
        "  discounted_rewards = np.zeros_like(rewards)\n",
        "  R = 0\n",
        "  for t in reversed(range(0, len(rewards))):\n",
        "      # NEW: Reset the sum if the reward is not 0 (the game has ended!)\n",
        "      if rewards[t] != 0:\n",
        "        R = 0\n",
        "      # update the total discounted reward as before\n",
        "      R = R * gamma + rewards[t]\n",
        "      discounted_rewards[t] = R\n",
        "      \n",
        "  return normalize(discounted_rewards)"
      ],
      "execution_count": 0,
      "outputs": []
    },
    {
      "cell_type": "markdown",
      "metadata": {
        "id": "HopLpb4IoOqA",
        "colab_type": "text"
      },
      "source": [
        "Additionally, we have to consider the nature of the observations in the Pong environment, and how they will be fed into our network. Our observations in this case are images. Before we input an image into our network, we'll do a bit of pre-processing to crop and scale, clean up the background colors to a single color, and set the important game elements to a single color. Let's use this function to visualize what an observation might look like before and after pre-processing."
      ]
    },
    {
      "cell_type": "code",
      "metadata": {
        "id": "no5IIYtFm8pI",
        "colab_type": "code",
        "outputId": "f74c4b13-2725-470a-8b9f-58771ce0af21",
        "colab": {
          "base_uri": "https://localhost:8080/",
          "height": 227
        }
      },
      "source": [
        "observation = env.reset()\n",
        "for i in range(30):\n",
        "  observation, _,_,_ = env.step(0)\n",
        "observation_pp = mdl.lab3.preprocess_pong(observation)\n",
        "\n",
        "f = plt.figure(figsize=(10,3))\n",
        "ax = f.add_subplot(121)\n",
        "ax2 = f.add_subplot(122)\n",
        "ax.imshow(observation); ax.grid(False);\n",
        "ax2.imshow(np.squeeze(observation_pp)); ax2.grid(False); plt.title('Preprocessed Observation');"
      ],
      "execution_count": 0,
      "outputs": [
        {
          "output_type": "display_data",
          "data": {
            "image/png": "[encoded data removed]",
            "text/plain": [
              "<Figure size 720x216 with 2 Axes>"
            ]
          },
          "metadata": {
            "tags": []
          }
        }
      ]
    },
    {
      "cell_type": "markdown",
      "metadata": {
        "id": "bYwIWC-Cz8F2",
        "colab_type": "text"
      },
      "source": [
        "What do you notice? How might these changes be important for training our RL algorithm?"
      ]
    },
    {
      "cell_type": "markdown",
      "metadata": {
        "id": "mRqcaDQ1pm3x",
        "colab_type": "text"
      },
      "source": [
        "## 3.9 Training Pong\n",
        "\n",
        "We're now all set up to start training our RL algorithm and agent for the game of Pong! We've already defined our loss function with `compute_loss`, which employs policy gradient learning, as well as our backpropagation step with `train_step` which is beautiful! We will use these functions to execute training the Pong agent. Let's walk through the training block.\n",
        "\n",
        "In Pong, rather than feeding our network one image at a time, it can actually improve performance to input the difference between two consecutive observations, which really gives us information about the movement between frames -- how the game is changing. We'll first pre-process the raw observation, `x`, and then we'll compute the difference with the image frame we saw one timestep before. \n",
        "\n",
        "This observation change will be forward propagated through our Pong agent, the CNN network model, which will then predict the next action to take based on this observation. The raw reward will be computed, and the observation, action, and reward will be recorded into memory. This will continue until a training episode, i.e., a game, ends.\n",
        "\n",
        "Then, we will compute the discounted rewards, and use this information to execute a training step. Memory will be cleared, and we will do it all over again!\n",
        "\n",
        "Let's run the code block to train our Pong agent. Note that completing training will take quite a bit of time (estimated at least a couple of hours). We will again visualize the evolution of the total reward as a function of training to get a sense of how the agent is learning."
      ]
    },
    {
      "cell_type": "code",
      "metadata": {
        "id": "xCwyQQrPnkZG",
        "colab_type": "code",
        "outputId": "da80200d-d270-4c3e-8120-a6089c23ccd0",
        "colab": {
          "base_uri": "https://localhost:8080/",
          "height": 541
        }
      },
      "source": [
        "### Training Pong ###\n",
        "\n",
        "# Hyperparameters\n",
        "learning_rate=1e-4\n",
        "MAX_ITERS = 5 # increase the maximum number of episodes, since Pong is more complex!\n",
        "\n",
        "# Model and optimizer\n",
        "pong_model = create_pong_model()\n",
        "optimizer = tf.keras.optimizers.Adam(learning_rate)\n",
        "\n",
        "# plotting\n",
        "smoothed_reward = mdl.util.LossHistory(smoothing_factor=0.9)\n",
        "plotter = mdl.util.PeriodicPlotter(sec=5, xlabel='Iterations', ylabel='Rewards')\n",
        "memory = Memory()\n",
        "\n",
        "for i_episode in range(MAX_ITERS):\n",
        "\n",
        "  plotter.plot(smoothed_reward.get())\n",
        "\n",
        "  # Restart the environment\n",
        "  observation = env.reset()\n",
        "  previous_frame = mdl.lab3.preprocess_pong(observation)\n",
        "\n",
        "  while True:\n",
        "      # Pre-process image \n",
        "      current_frame = mdl.lab3.preprocess_pong(observation)\n",
        "      \n",
        "      '''TODO: determine the observation change\n",
        "      Hint: this is the difference between the past two frames'''\n",
        "      obs_change = current_frame - previous_frame\n",
        "      \n",
        "      '''TODO: choose an action for the pong model, using the frame difference, and evaluate'''\n",
        "      action = choose_action(pong_model,obs_change)\n",
        "      # Take the chosen action\n",
        "      next_observation, reward, done, info = env.step(action)\n",
        "\n",
        "      '''TODO: save the observed frame difference, the action that was taken, and the resulting reward!'''\n",
        "      memory.add_to_memory(obs_change, action, reward)\n",
        "      \n",
        "      # is the episode over? did you crash or do so well that you're done?\n",
        "      if done:\n",
        "          # determine total reward and keep a record of this\n",
        "          total_reward = sum(memory.rewards)\n",
        "          smoothed_reward.append( total_reward )\n",
        "\n",
        "          # begin training\n",
        "          train_step(pong_model, \n",
        "                     optimizer, \n",
        "                     observations = np.stack(memory.observations, 0), \n",
        "                     actions = np.array(memory.actions),\n",
        "                     discounted_rewards = discount_rewards(memory.rewards))\n",
        "          \n",
        "          memory.clear()\n",
        "          break\n",
        "\n",
        "      observation = next_observation\n",
        "      previous_frame = current_frame"
      ],
      "execution_count": 0,
      "outputs": [
        {
          "output_type": "display_data",
          "data": {
            "image/png": "[encoded data removed]",
            "text/plain": [
              "<Figure size 432x288 with 1 Axes>"
            ]
          },
          "metadata": {
            "tags": []
          }
        },
        {
          "output_type": "display_data",
          "data": {
            "image/png": "[encoded data removed]",
            "text/plain": [
              "<Figure size 432x288 with 1 Axes>"
            ]
          },
          "metadata": {
            "tags": []
          }
        }
      ]
    },
    {
      "cell_type": "markdown",
      "metadata": {
        "id": "CFkScCbBEkce",
        "colab_type": "text"
      },
      "source": [
        "#Pong train_loop experiment"
      ]
    },
    {
      "cell_type": "code",
      "metadata": {
        "id": "LUDIaFGsEj1L",
        "colab_type": "code",
        "outputId": "86ba778d-8772-4e8f-bd58-5a7c58849268",
        "colab": {
          "base_uri": "https://localhost:8080/",
          "height": 129
        }
      },
      "source": [
        "print(np.stack(memory.observations,0).shape)\n",
        "with tf.GradientTape() as tape:\n",
        "  logtiis = pong_model(np.stack(memory.observations))\n",
        "  print(logtiis.shape)\n",
        "  print(np.array(memory.actions).shape)\n",
        "  print(discount_rewards(memory.rewards).shape)\n",
        "  loss = compute_loss(logtiis, np.array(memory.actions), discount_rewards(memory.rewards))\n",
        "  print(loss)\n",
        "  grads = tape.gradient(loss, pong_model.trainable_variables)\n",
        "  print(len(grads))"
      ],
      "execution_count": 0,
      "outputs": [
        {
          "output_type": "stream",
          "text": [
            "(697, 80, 80, 1)\n",
            "(697, 6)\n",
            "(697,)\n",
            "(697,)\n",
            "tf.Tensor(0.00019319772, shape=(), dtype=float32)\n",
            "10\n"
          ],
          "name": "stdout"
        }
      ]
    },
    {
      "cell_type": "code",
      "metadata": {
        "id": "Dn4BWaQuK8Sk",
        "colab_type": "code",
        "colab": {}
      },
      "source": [
        "### Training Pong ###\n",
        "\n",
        "# Hyperparameters\n",
        "learning_rate=1e-4\n",
        "\n",
        "\n",
        "# Model and optimizer\n",
        "pong_model = create_pong_model()\n",
        "optimizer = tf.keras.optimizers.Adam(learning_rate)\n",
        "\n",
        "# plotting\n",
        "smoothed_reward = mdl.util.LossHistory(smoothing_factor=0.9)\n",
        "plotter = mdl.util.PeriodicPlotter(sec=5, xlabel='Iterations', ylabel='Rewards')\n",
        "memory = Memory()\n",
        "\n",
        "for i_episode in range(1):\n",
        "\n",
        "  plotter.plot(smoothed_reward.get())\n",
        "\n",
        "  # Restart the environment\n",
        "  observation = env.reset()\n",
        "  previous_frame = mdl.lab3.preprocess_pong(observation)\n",
        "\n",
        "  while True:\n",
        "      # Pre-process image \n",
        "      current_frame = mdl.lab3.preprocess_pong(observation)\n",
        "      \n",
        "      '''TODO: determine the observation change\n",
        "      Hint: this is the difference between the past two frames'''\n",
        "      obs_change = current_frame - previous_frame\n",
        "      \n",
        "      '''TODO: choose an action for the pong model, using the frame difference, and evaluate'''\n",
        "      action = choose_action(pong_model,obs_change)\n",
        "      # Take the chosen action\n",
        "      next_observation, reward, done, info = env.step(action)\n",
        "\n",
        "      '''TODO: save the observed frame difference, the action that was taken, and the resulting reward!'''\n",
        "      memory.add_to_memory(obs_change, action, reward)\n",
        "      \n",
        "      # is the episode over? did you crash or do so well that you're done?\n",
        "      if done:\n",
        "          break\n",
        "\n",
        "      observation = next_observation\n",
        "      previous_frame = current_frame"
      ],
      "execution_count": 0,
      "outputs": []
    },
    {
      "cell_type": "markdown",
      "metadata": {
        "id": "8LiEY5Y_ts-Z",
        "colab_type": "text"
      },
      "source": [
        "Finally we can put our trained agent to the test! It will play in a newly instantiated Pong environment against the \"computer\", a base AI system for Pong. Your agent plays as the green paddle. Let's watch the match instant replay!"
      ]
    },
    {
      "cell_type": "code",
      "metadata": {
        "id": "TvHXbkL0tR6M",
        "colab_type": "code",
        "outputId": "f2c02fdb-0b20-4a88-e257-6f96b5311638",
        "colab": {
          "base_uri": "https://localhost:8080/",
          "height": 249
        }
      },
      "source": [
        "saved_pong = mdl.lab3.save_video_of_model(\n",
        "    pong_model, \"Pong-v0\", obs_diff=True, \n",
        "    pp_fn=mdl.lab3.preprocess_pong)\n",
        "mdl.lab3.play_video(saved_pong)"
      ],
      "execution_count": 0,
      "outputs": [
        {
          "output_type": "stream",
          "text": [
            "Successfully saved 1024 frames into Pong-v0.mp4!\n"
          ],
          "name": "stdout"
        },
        {
          "output_type": "execute_result",
          "data": {
            "text/html": [
              "\n",
              "        <video controls>\n",
              "            <source src=\"data:video/mp4;base64,AAAAIGZ0eXBpc29tAAACAGlzb21pc28yYXZjMW1wNDEAAAAIZnJlZQAApTJtZGF0AAACrQYF//+p3EXpvebZSLeWLNgg2SPu73gyNjQgLSBjb3JlIDE1MiByMjg1NCBlOWE1OTAzIC0gSC4yNjQvTVBFRy00IEFWQyBjb2RlYyAtIENvcHlsZWZ0IDIwMDMtMjAxNyAtIGh0dHA6Ly93d3cudmlkZW9sYW4ub3JnL3gyNjQuaHRtbCAtIG9wdGlvbnM6IGNhYmFjPTEgcmVmPTMgZGVibG9jaz0xOjA6MCBhbmFseXNlPTB4MToweDExMSBtZT1oZXggc3VibWU9NyBwc3k9MSBwc3lfcmQ9MS4wMDowLjAwIG1peGVkX3JlZj0xIG1lX3JhbmdlPTE2IGNocm9tYV9tZT0xIHRyZWxsaXM9MSA4eDhkY3Q9MCBjcW09MCBkZWFkem9uZT0yMSwxMSBmYXN0X3Bza2lwPTEgY2hyb21hX3FwX29mZnNldD00IHRocmVhZHM9MyBsb29rYWhlYWRfdGhyZWFkcz0xIHNsaWNlZF90aHJlYWRzPTAgbnI9MCBkZWNpbWF0ZT0xIGludGVybGFjZWQ9MCBibHVyYXlfY29tcGF0PTAgY29uc3RyYWluZWRfaW50cmE9MCBiZnJhbWVzPTMgYl9weXJhbWlkPTIgYl9hZGFwdD0xIGJfYmlhcz0wIGRpcmVjdD0xIHdlaWdodGI9MSBvcGVuX2dvcD0wIHdlaWdodHA9MiBrZXlpbnQ9MjUwIGtleWludF9taW49MjUgc2NlbmVjdXQ9NDAgaW50cmFfcmVmcmVzaD0wIHJjX2xvb2thaGVhZD00MCByYz1jcmYgbWJ0cmVlPTEgY3JmPTIzLjAgcWNvbXA9MC42MCBxcG1pbj0wIHFwbWF4PTY5IHFwc3RlcD00IGlwX3JhdGlvPTEuNDAgYXE9MToxLjAwAIAAAAEZZYiEAHdjav19XzLkKh56gOVPCryA+KKMDgB8b43W8tPRIP43KHwXqptBbWZD4wCpqKXJ4k2tk8D03Or9KI/8PUar/TP2dy+rzRnIANQ1XS/cn31NGQ5cNVitFKrn0rUBRCRQlmIlqTiGFnzCwOCD7JOpwbeHLNCJ/56IrM2cogWjgXQueo9rGd+Lx5U/DBmeqc/UKi5yr2LnqbGVI14ZqZemNxOo83XFcuOhLS0rSBVPY6GPcIEl+qbjd/RqZRii3VAe02wiXV7O9V33udUu0x0yevVV46zSBdEIZ68HsdCdgiYc3mJn7VSwAs7oCs8Crc7/prc+9HMnCs3FMBe/sA4K5QhkOnx9x6mafO+pWyilA0vcutk4lYEAAAE5QYiIQ/+7RjVqvUPwG2PzbgbRI+7enCirO27+uWnf2TnbYQxqwBF3Filu0Zf9DOPZjf2JXtfbIpHHe22hZgLr4RE5z6IhdvP/cx+zrP9BL9tIYeqbwwVAxHI/4DEAT/c00mzKWkVcJbZnK9HWnryRjRBr0nYDWUv9XmWF4Vo9fPb32/N9pfL6Fcfna5slFkqcgv3o1dPJCl0Ib0xLFhaw5UU0A7P0F8aSN/290/W3o+llTyAgy2KeW/wOZ9TslHCxSroGGM2tpAIwDU7EgROWQvUtugx5zTpy4o4i2AkxLdt3a9a8M9LIVAAAhMTYrGeEHGBgAAMbgsJ1zXXHEo/ylfnRvBSru68VQGoygbpaePe/9V+rJBe8xM9B20F7QA2bEXjUuiKaFbio+9ErTDheEcNnqsUj7ZXJ4AAAACdBmkQ8IZMphP/kQMvpW9W6gkUypvDP3MrYR9H62zGRknE/b2lBqrEAAAAQQZ5ialPGfxcpN92aO/FV0AAAAAwBnoNqR38YYLdhYPUAAAAxQZqHSahBaJlMCf/kQErpmU1nwEI6quU1/kG+sNIfrIV2k27OMsb7ui9Kt4R+1ao74QAAABBBnqVFESxnJob6KT1A6lC5AAAADwGexmpHfyi0SrJ0LdfZUQAAADJBmstJqEFsmUwJ/+RA+A68hsNwAuZ7XM/Lbn3qeynmg7JH9Xd3/SMVrP9mchnB1bBtgAAAAA5BnulFFSxXLkuQqyjwvgAAAB0Bnwh0R380GeJFY/fFIf/MDLPLLxi5nMQJHtScnwAAAAoBnwpqR380Gf5gAAAAD0GbDkmoQWyZTAn/5EACygAAAA1BnyxFFSxnMoyMcxLxAAAACgGfTWpHfzSU/zEAAAAiQZtQSahBbJlMFEz/5EDY4z85dSMwALmg7CMJvJU3j/gNOQAAABUBn29qR380Kjbc59/DZM+X4edt1M4AAABUQZt0SeEKUmUwJ//kQPA0b13gP75dj/QTTs3ECB9JDuEb/UsoVFXhQR6rG0pmBPOG0n21PQUZC67bk8NDYq0gXb1gr5O8FiEfbT51l3GCAahr6nCMAAAAEUGfkkU0TFctcECR2fPiPY4FAAAADQGfsXRHfzUKCvSqR0gAAAATAZ+zakd/J5ZWhBLWs529oEdqwAAAAFVBm7VJqEFomUwJ/+Xr0/7SXQjlRueUV9bwASh9qjr5k6Wdro3OhZEQ0sc4swWdwx4Gyy6g9P6mssBVafmTv1Q4sj2jMk93hDHVI3+FVSd7XSfu/5ZNAAAAVUGb2EnhClJlMCf/5ED17/XWACgQv7byf/7QYz1XGfAAzmKGj/WTcoSY/+IxgJsYzHYu1MUYjkyrzcY9OioD5L2imkludkBYcWsDZYgcyGj+J+WjBxkAAAAYQZ/2RTRMZzIKALIqWTR+eVPLQpeXdVgRAAAAFwGeF2pHfzUDz40YjxTQ+zmDIc2sU35hAAAAPUGaGUmoQWiZTAn/5ED4maWY9pgTWYgD36quWRXyDfWMUBt2UwxXuzjLHZuaZpxWLS4d1jIgTbF/uJ0jL/gAAAA8QZo7SeEKUmUwURLP/+RA6ZVc/hiSQQzwTLI7Y1YUQZLq+z/cwUyxzCt51tnY1P/+f8DPwP9Q8D+dToRJAAAAFAGeWmpHfyhAFR51Wo6KmxRM1p/bAAAAUEGaXknhDomUwJ//5EEQjeJQcx1BIplTeGfuZWwj2MiUMiQFi/MWsdnbcEtbK7/7YjqIrzcY9LCoFkK2imkmlEMR2bAxLr4jWgqpLrfrqIsdAAAAF0GefEUVPGcy/lsYpeIsftmJZLkDN+7VAAAAFAGenWpHfyi0StsN899UK7gAwIfAAAAAM0Gan0moQWiZTAn/5EFCBk1ttZAMUZ2XcBvI3nfEnQBPV51Isl5gBGvbxFlx6B+yOrdbgQAAAD9BmqBJ4QpSZTAn/+RBfyoojI6OHB9AATeFbI/Bus5DJDd3lGcWfap0wsyA/oXJMT37hV3MyhwkwdYdpOp/0bEAAABTQZrDSeEOiZTAn//kQdPjRqD7//I8QE11ySUmjpkYidLjmemT4yljm1Kr80QONpUC6KcPyJdtEaCTLEbDRwicR04IiUt3Ynto8gSUtG9u6GaeqjgAAAAXQZ7hRRE8ZzepT2Z3oEwRLCQSCsuXRwcAAAAVAZ8Cakd/NQ8f9Cc3xwPbAMKeEWOgAAAAHEGbBEmoQWiZTAn/5EI6DJhcMwWcnVlxwIqYrJUAAABOQZsoSeEKUmUwJ//kQr9f5mHNCN0D8AUiWXDL5kn4luqFT3AFDZGSrMME/vsaZqO1gMBO/8+VxrVXuanZK9wgGl8mqrBwZ/P85DKzZfv1AAAAIUGfRkU0TFc25zXoF7NxXx4edneT709QojcC3TSlk5q1EQAAABMBn2V0R38ICEdtacwqb/rToekLAAAAHQGfZ2pHfwp1JyUDe5fIkXdEgG/+076/D9aoweBuAAAANEGbaUmoQWiZTAn/5ENwmTCzh4UXrkQLzgxw1vkhVuwTfLjo3ZuV/hwz/H7g2XpJ/Yf2mFgAAABMQZuMSeEKUmUwJ//kREfoGfEb6QUt//8u8DE2qt//27wPjNaIG9Jreb2O0f4k6wWqEe4ooGmLpKNalIhtQIzeVH7q2tJH8ZHqjdf6owAAAC1Bn6pFNExnP57gzzIywfWN3+V/Dkdxw/JHcyJpYjfuiDFvD9jVH/PBAv21qE4AAAAZAZ/Lakd/NQPPjRiFMYwujCsU6owTYTn82AAAAFdBm89JqEFomUwJ/+RA9jb69NsHWnTAJw1OFKKz/o/Aoi5WOiHU0mZalC+7an4hESRO7tgA93JEd61X0+JLfpNnkbAjMw/9hYDy3tX5Ky/IPZxE/yVe1/EAAAA1QZ/tRREsZzJ/UL1XPbArNZdChju2ARNUfYyxASji18ocaErZn84Db9GUGV5s2TbsuE18ag8AAAAYAZ4Oakd/NM+FYF2vi9VxgsLqSg3IG845AAAASUGaEkmoQWyZTAn/5ED1UbbTWf9BNO6KWI7Jw9AP6lnOSvjconrTC0lsWC1kQ+7m8XnIeu0LujMB58Jx+0L1eFBz8efSSM/1OYAAAABEQZ4wRRUsZzKMkCfkfL9P39KGyzIcT8ELfID4wQz61KqoU8lfbhizp0zQ+dIUbJA8VJMUj13o/P2nhG79H+YXrteHicAAAAAVAZ5Rakd/NBuUE/v/MTnhqPtlJTMxAAAALUGaU0moQWyZTAn/5EAb+YUCpAy/nAbpsA8rqWDAj2F0g9a5OkX9oV2jY1GsdwAAADNBmnVJ4QpSZTBRUs//5EAeqoePtY1AneobROs1f2PHeUey76ZO+9qTOs/s9zsocdmejoAAAAAZAZ6Uakd/IovJPCOOsj4AH3rLs+OsxYn6QQAAADZBmpdJ4Q6JlMFEz//kQDjY1qu3zC/uA0KMcN/7KsqNP5CzZS1i85GL4nw25WP/pJ4D/KYhaKoAAAAdAZ62akd/JYyYuynf2UEUtgwbGe4si6j+gYzVh4EAAAA0QZq5SeEPJlMFPP/kQGVfMN3gBoUY4b/2VZUafyFmylrF5yMXxPhup5m1+kyYD/km8+GK8QAAACUBnthqR38s2q9YwQY3NEPfueGNGHywhUDhijJXgMOu98TcbIfuAAAANEGa2knhDyZTAn/kQYNpAA0aOFil7mfIxyfdV9lqV/hwz/H7jBKjaxDIkn9Ubn9u98amh2MAAABBQZr+SeEPJlMCf+RDfARALuZw6RX+5/+gJ0x5HQXvTTvTR4CTacRw67dmWGv79rzJaQv5LBMgd45999nmlt/o81IAAAAoQZ8cRRE8VzquTUUT/N4GS4roroZvzVyvrgiins3yEJ0GYokX1axuzwAAABoBnzt0R39A+9Urtq9hFho+FJ49oz6UsMp8YQAAAD4Bnz1qR39B1Bp3xCaf2swNmA1I8bBxJegpHuk9nTojf0l16RHuFuGNf94s/959ofJRzy8kGUBcoZ2Q86qXHQAAAF1BmyJJqEFomUwJ/+RDlVCUr8VuCfXlAJn1VYiP3WOZS2HHRMiuf1LWXdt7/LJ/vWG6sNuJBb/wjKzb7BYl820zTZ5VbBK43zI/XJRw0ZskB5yk4vWsFhYsRIPxaRoAAAA0QZ9ARREsVzkOqSGqUBS4BGT+d2EWk6hpppnDMpZf/eICvWDBUg7cbqBTyubbMEpmARdkcQAAAC8Bn390R38/6yegPaa/zf1Q1YeCFy4bR/1J3K5N3nsfpYQMyC6LCfQahgqF1RGneAAAABkBn2FqR381Er+V2JuezIcwdRs8+kvdv1cZAAAARkGbZEmoQWyZTBRM/+RA9z9penHkU7NQC1/eZxLaHdr5vdiMBjCsANp+fxyo3QjgmsPlqh7ZZ/4XSpmLNcYmVPy2auDM9ZgAAAAzAZ+Dakd/NQ8ddMHD38RXPzvqTy1eahqFO2S5wu8FmVT+8g2Vqi4IPX2AeXQaAb8aUpeBAAAAI0GbhUnhClJlMCf/5EDwNHOSxZLRaXBAzHYdj9FJccf/2QWBAAAAHUGbpknhDomUwJ//5EAeqirFaJICDfJOnEuir7/BAAAAF0Gbx0nhDyZTAn/kQB6qKo+3AK/ttdR5AAAAHEGb6EnhDyZTAn/kQB6q7Y/hB8m8BkckjSleqYAAAAAbQZoJSeEPJlMCf+RAHxsagTv4qdg3Z6k6v56iAAAALEGaK0nhDyZTBRE8/+RAFS47wAnP8ma6oY6KjIdFAbl+Nx3lHHGzD3fakporAAAAHAGeSmpHfxZ11n+6FdzGe7/Qoilr7NRl3b8KF60AAAA2QZpNSeEPJlMFPP/kQA/EzYo0ybwGR90SNgeKFgFv+66HrhpNSzk+ME3mR3UtYvORi+J8NpOiAAAAHAGebGpHfxEjH/7nMr9Zrfj0RS19moy7t9+j7PcAAAAtQZpxSeEPJlMCf+RAD98d4HN9Uu3elFtFNZMZBETfoKmbL+cC1KOCJ+IjYZnJAAAAO0Gej0URPFcOzORVpHUvLqggZaO069ZhTnrPonDu9tMQVB+RBGxsOxKYhKSJL1ichXrNjip4/M05VqexAAAAEwGernRHfxEWTj6oLkQDqXySnD4AAAAVAZ6wakd/DV2E1gp5R7Hx6uk8xud/AAAASEGaskmoQWiZTAn/4+cWCI8P99cCY/YV/4KnNZsxCWfXtqVB/phYCeJ//8DV6tytG61Fcp/+jtThg2/8UcsnYTYd3uGmVp3j7QAAADNBmtVJ4QpSZTAn/+RA6W3coBaV4rIR3MpbDVgewLuu1+8n4C76PO/ttFRQx8hIL9cd+CIAAAAdQZ7zRTRMZzKMi6Vu+wcBCF8IrYxv7gKUJO6FYOAAAAAXAZ8Uakd/NE4l/zR7kbe8fj5Dxslp38EAAAAnQZsXSahBaJlMFPP/5EDwN4oJHP////k//+dnuToj+1uFuqm7rCMIAAAAHwGfNmpHfzUGBI6lzzu4w5XyN927Jm4RKFKxOmDwxyMAAAAdQZs4SeEKUmUwJ//kQPVS3RapWEePNzk7wBEPqLkAAAAYQZtZSeEOiZTAn//kQPVR99TVKx1KrPXmAAAAG0Gbe0nhDyZTBRE8/+RAHqp65/bh5DUBkfkfgQAAAA0Bn5pqR38crxecS+YMAAAAGUGbnknhDyZTAn/kQDjY1pqkgM3tAAyv04kAAAAPQZ+8RRE8ZyQj8Mo0riypAAAADQGf3WpHfyWJ+qxdHP8AAAAVQZvfSahBaJlMCf/kQDjYD2oHtSmgAAAAFEGb4EnhClJlMCf/5EA4122n3VKbAAAAG0GaAknhDomUwU0TP+RAnah4kojE1CSAWv5o2AAAAA0BniFqR38wxnL+W17XAAAAFEGaI0nhDyZTAn/kQJ2lMkj29bPAAAAAE0GaREnhDyZTAn/kQJ2iCc11ZVEAAABYQZpnSeEPJlMCf+RApLGocHxEYp+77dAKmWi5ujtIdwjf6dNZ20haEQe6bHRDqZgTm378nHQnHOEWuhbDK3sHShJr4RXcz7tpE4DkuIUbQHYihQbAtLAaYQAAABNBnoVFETxnPwrrTFzRF9t6D/uBAAAAEwGepmpHfz/reuYwP5lyjdv95zkAAAAYQZqoSahBaJlMCf/kQA/EuOatM7QljWZ8AAAAKEGayUnhClJlMCf/5EAPxLjm+Cn3lby4Xy2DJgSirbBM/+fZme3+ncQAAABIQZrtSeEOiZTAn//kQA/fHeALv/SKlRCbEop+s2/YvE+/vao6+ZOlnb7JU/Z/RZdGoyWy0nVf7mX6AZL93bTuwbTV/zyqYBH5AAAAIkGfC0URPFcOz0vSKi76O9zin8////B5D8lZ7HYa0LyNcjEAAAAVAZ8qdEd/EZBNM8ZHBXyKiSYCBingAAAAFAGfLGpHfxHEQpn0bRxnPBOz3BvDAAAAGEGbLkmoQWiZTAn/5EAMePsNp3aBfTsi0QAAABlBm09J4QpSZTAn/+RADHj7Dad2gX047qMNAAAAPkGbcknhDomUwJ//5EAMfrc8BzybwJ37do+MZ5PctBFY3weGpV8E5b+W+gGKQyvjqiqtC9NEIiHpkvXODZRyAAAAGUGfkEURPGcPLWHJpYaEzMcpCYw6Wd6aN9gAAAATAZ+xakd/D82sS7rOsXdaalXNCQAAABxBm7NJqEFomUwJ/+RA9VILrKwp6OOg8hnHVFMgAAAAIEGb1EnhClJlMCf/5ED1Uv4VYU4aI0kK/TI757SAg3gpAAAAHEGb9UnhDomUwJ//5EBI0raPahYr9KRS1ayC8zsAAABWQZoZSeEPJlMCf+RA6X1FKAhHVVymu5lLYasD2BdH+gnQP81Y+XnKpSyowXQYsoNhJDqeoO5HgbltUKp6hPev8KCw7/PsSQfUNTw7tpbY/cBJwLihAUAAAAAXQZ43RRE8Vy5LjKkfoTWwdggFHnxUW9sAAAAWAZ5WdEd/NJjTVYdoJnssWVDdPlNm8QAAABUBnlhqR381A8+Iz0klkJvwb5agV1YAAAAbQZpaSahBaJlMCf/kQO+okztJtHBbPvUggn+hAAAANEGae0nhClJlMCf/5GP0KzUgz3gAKBC/tvJ//rkrUYsjriM1FK+TdjdcGIlDGRYwx+b7xOoAAABHQZqcSeEOiZTAn//kQPgOjhzHr8EP5Nll/ltsM7QQ36ORf9y23KvKNIJP/K6Mp7PrRXwl0gYZ1P+8UtvABHulu1tpFvVEFv8AAAAxQZq/SeEPJlMCf+RA9VG20oMH8q4h3gJrlTMESt7+x47yjgjSCIpao6rJZBkdT/2u+QAAABJBnt1FETxnMgs6X2VnEaCjrkAAAAARAZ7+akd/NBpCSXwHxKvDsSwAAAAgQZrgSahBaJlMCf/kYH/IHME0hUKUdOQaTp8vLYyCd8EAAABRQZsCSeEKUmUwURLP/+PlmC8dCVh32lwJj9jztbXGMhn1JdJTqcYoKf/q03LH/d+bKJT847RpbZ2p11HxIZMOtQo/YMr6EuUx6co3GQBYO3HAAAAAKAGfIWpHf8s93Nig1oKDVFWcmWCeAUO4xZbgTkm1GbQTYjndxOD1bgkAAAAsQZslSeEOiZTAn//6JMh0ApHDQTTojrhHaQ7dlfUIkZABS2sb8Z/E83ORoEQAAAAOQZ9DRRU8ZweMI6ivOB0AAAAQAZ9kakd/CCFs/uvifoA07wAAACRBm2hJqEFomUwJ/+RA9VILrKwptoJ8qSBO9cf0hUE6KJNEk7kAAAASQZ+GRREsZzILWQguFPxh1p6hAAAAEAGfp2pHfzTQUjIOvqj60dQAAAAeQZurSahBbJlMCf/kQPePttpaQUgAoTnrhyAOD7mQAAAAIEGfyUUVLGcygEAaAVFunwJuhKs1KLv5xr9cD+l8gJ3BAAAAEQGf6mpHfzTPl7zvAAO6fO8gAAAAF0Gb7EmoQWyZTAn/5EDwNHE7OQ940scMAAAAIEGaDknhClJlMFFSz//kQPc/aXxc/DmUoXghW0gMj7PpAAAAHAGeLWpHfzUPHYMyzzu4w5XySgdyCkuKkHqXPW0AAAAbQZoxSeEOiZTAn//kQPVRttNUr2fLsmmsBojhAAAAEEGeT0UVPGcyVQZTR5kRejgAAAAPAZ5wakd/NBuW1T+PxDlAAAAAFUGackmoQWiZTAn/5EAU+W25u67ZgQAAABVBmpNJ4QpSZTAn/+RAFPmB7nD27ZgAAAA5QZq3SeEOiZTAn//kQBUuO8AMr93dCloJAj8r2PlNyIPDUwAip71AugFclMpcr4YMu6sh/IR1XWeQAAAAFUGe1UURPFcZQmfuzg4N695etxAojQAAABEBnvR0R38c5/VeSrg3u7sVsAAAABQBnvZqR38dE+4DHKy6kjMMUiTygQAAADVBmvlJqEFomUwU8//kQA/EwXm+31QKEpfCHRM8XYSLz5W8MuXoKnq3XftYzuHgVT56sTxiwQAAABQBnxhqR38R1jdXdwaRqZUWhZdYoAAAADZBmxpJ4QpSZTAn/+RA+A6wT5uABP+qrER+6xzKWw47KsxRe/u+6sNuJQddBU89sFnwW3C9P4EAAABMQZs8SeEOiZTBTRM/5EDvVHjUAMTrEwvDp1jFAZg7M1jnS87GGQUH/aZV1dX7pMV1NQdL+djEqg6ZDf/e/dle1i1W8115bqPB8TY8lAAAABcBn1tqR380rpJTkM7bRbhjlsHTYY10ZwAAADBBm19J4Q8mUwJ/5ED1Uba7gPQnTvAf35u7UQsOF1V983Vu////g8pMZEkxJdUBAqcAAAAaQZ99RRE8ZzHFT7x/jeqNMs8OlAdWa2mh6kAAAAAUAZ+eakd/NJP3r4eBvK/XB25SJPkAAABeQZuBSahBaJlMFPP/5ED4Do4cx6/An3Ji8/LbgXRyEv3kpMX+VmG+kTdWf9qevkCUaK6pT2P8HSIae5HfbgzQmJRyxDz45D7K+eTKlJYc6Ok1h0cptS/NtKECfFMogQAAAB8Bn6BqR381A84IiDeXMYSyeIgfweSwUozgA75Ue0aQAAAAHEGboknhClJlMCf/5EAMePsOeTeBO/XuAUGH7w0AAABHQZvESeEOiZTBTRM/5EAMjx3gCIfkQF5WsqNSONunqXnPXwDR8ydLO16jkqsHLuVgOcRbyFPgt78kPS5K19O6StNX/AEGrGAAAAAYAZ/jakd/NQ8fssTLYkLTIs6JfYJxHMCBAAAAMkGb5UnhDyZTAn/kQPgOsCOOIF5QZvGEW+hWwjyQ2xm1tvdfrqYifLFz3VNFM7B/aQDxAAAAM0GaBknhDyZTAn/kQPiZrV5IEVpdW0AXS0CcRdWu0ADFkg38GEv0xwfv8KJ7AqPmfmna4QAAACZBmidJ4Q8mUwJ/5EDKeaYBDDkDT01g6muR7nxyzkS/qw+oDjHvtwAAAEdBmkpJ4Q8mUwJ/5ED4Do4cOS4Am6D7Zf+rvN88n7WjkX/fV3polIJ0R/Y53lZJgf4DqFTPSbMAMhf/xxEpB97cbl0phfK2UAAAACNBnmhFETxnMhAIgCeBZPShChyZxB+h4rjp9li5B2YJl92KGAAAABUBnolqR381Cg1ym9idCI5GqhZohWEAAAAbQZqLSahBaJlMCf/kQPVS3RUwZjqU8nD9iWaUAAAAHUGarEnhClJlMCf/5ED1UbbSmDNbszSRZ+nvvs2mAAAAQEGazknhDomUwU0TP+RAB3OO8ARD+XqlTH1Lx+FgGvQIVxHXUJDC5HShKIkiZGpQpjIFDZSPC0jur0GIF//Z1IEAAAAZAZ7takd/C4D0+VauA3P8ABLzniTJB/1/wQAAAEhBmvBJ4Q8mUwU8/+RABiebQAy/p+K1vDD0YLoMWRcHPwDR8ydLO32Sp+z+iyp9Ob3PUOMvtzI1LgMJd20r2LrHdyVY4bdRqREAAAA4AZ8Pakd/C4DvDe6QZ92epj9f1O1Kmi5bDPfJDZNElVk+XcdyjcI5ycA28zy4bCc2u5OOoxRnd5wAAAA1QZsUSeEPJlMCf81aXR6z6nfaXAmP2e/7If4Xm+0rpxqcLDy06hB64BDYypi+cZAFg1wQ8jAAAAAyQZ8yRRE8V8RhnkZKqgCZ8SvMl0XsKlLBdG1FudlHg+D7I5b4JyBbgD/sR5EILMXJvsEAAAAaAZ9RdEd/C3xrKHeSEN+PRFLYOe+T3b8SYDwAAAARAZ9Takd/w2fpVdrcuBmGRiMAAAAiQZtXSahBaJlMCf/kQAmkwUwanZVCL0v/DyyqjMhcDVfXKQAAABBBn3VFESxnCw/AYDQtI+5pAAAAEAGflmpHfwuXHEdbQLLuV8EAAAAXQZuZSahBbJlMFEz/5EAJpkovTRvY04EAAAARAZ+4akd/DXJVp6hxfia/JYAAAAAdQZu9SeEKUmUwJ//kQA/E0oJUYzG6BIBa/qcteOEAAAATQZ/bRTRMVw7rVJF0obAySvz7tgAAABABn/p0R38NWb921YFsETrBAAAAEAGf/GpHfxFEw9uRawbyIZkAAAAVQZv+SahBaJlMCf/kQA/Ett0d19mAAAAAHEGaAEnhClJlMFESz//kQBT5mtOf/KGpyAOD8+cAAAAPAZ4/akd/FpwMAiWo9NGTAAAAFUGaIUnhDomUwJ//5EAU+ZHOcpXtmAAAABNBmkJJ4Q8mUwJ/5EAU+W3Bg8bNAAAAGUGaY0nhDyZTAn/kQB6qeuf24eQ1AZH5H4AAAAA/QZqGSeEPJlMCf+RAHxsahwfP7Inex2iAVL63tqdk4egH9Oms9a6uD1//vwMx8eKb4rHbiG/s52VhdJBKF3rZAAAAE0GepEURPGcb4ohH9JqtwWzjrBkAAAARAZ7Fakd/HJrRodLaqn3NZDkAAAArQZrHSahBaJlMCf/kQA/EuOb7U6AyAf////B5YPyJg+S7GS7wxbf8T/xZEQAAACZBmuhJ4QpSZTAn/+RAD8S45wBlkKeNYgOwR////B5SYyJJiS8gfAAAAEVBmwtJ4Q6JlMCf/+RAD98d4BDPs0bgbHqA3Nv2LwuL72qOvmTpZ2+yVP2f0WXRqMlstJ1X+5l+gGS/d207sG01f+IddlIAAAAUQZ8pRRE8ZxAXzT8GTwlQ6nQIDdEAAAAUAZ9Kakd/NQ8f9MU4TsdbfFzBRcAAAAAcQZtMSahBaJlMCf/kQAx4+w2ndn7DUCd+2gFDqwAAABlBm21J4QpSZTAn/+RADH4DVoP27ciGyNFNAAAAHEGbjknhDomUwJ//5EAMePsOeTeBO/XuAUGH7w0AAAA8QZuwSeEPJlMFETz/5EAMjx3gCIfkQlpWsoyO/+kUyIPDUq+Cct/LfQDFIZXx1RVWhemiERD0yXrq/R1jAAAAEQGfz2pHfw1UlYIDr2M/UBGEAAAAMEGb0UnhDyZTAn/kQPVSDChANTMXn4+dYaQfet0Q3kt0wJulTQwR0ztv4r2lcR5JgAAAADxBm/JJ4Q8mUwJ/5EDvVKurfrbLRcO6QQ/kmF+3eSthDNA2s5hgIkdq/M6kfds0P6KyaZbyPmFYMb5zzoEAAAAnQZoTSeEPJlMCf+RASM+qU96jdVh3gA+/3FqMcvTCGsJB/aQ5oeeAAAAAO0GaN0nhDyZTAn/kQPgOsCOOIBluFZCNb6FLYcTlyKiRcGjAMq3Ld6fuQTgBy+x+lEFsmKsckQoUuyfwAAAAJUGeVUURPFct1tCZUrq+GYJnqAeIR3fqoIpbBU2f1KejVqAwvWEAAAAbAZ50dEd/KQoA6bfHXzd6IwAH32JdeqhGy/dAAAAAFQGedmpHfzSUVIPQXdrriVnmzXFEJwAAADtBmnlJqEFomUwU8//kQPgOjhwp4UCfcmLz7yT9doKjb4F5BvP2knDxjZn3/g7vtXPyjXvSed0bVHQ7+wAAAB4BnphqR381A84IiDeXMYSyeIgfvEC7myeRUnv/t4sAAABWQZqcSeEKUmUwJ//kija6rb8qdB+Bkuf0ywBEPufT/7VKV9ZHyNunrC4Hr4Bo+ZOlna9RyVWDl3KwHOIt5CnwW9+SHpcla+ndJWmr8YdEobnUFnEcsaEAAAAoQZ66RTRMZzKMkCUuXr4AmfhlQoSbHALvaA//+f8DOXV16XVncbOsUAAAABoBnttqR380GnUJlBy2IUy7f+b+NcSZIP+o/QAAABhBmt1JqEFomUwJ/+RABc2ewk5vJYBHHssAAABHQZrgSeEKUmUwJ//NnFH/0cxIH++uBMfr2n82rCxcEuAuGaovhqwhDwPP2bypKLCWRoiTBsjOwruYPZVwtsCZzKfX/A/PK7AAAAAiQZ8eRTRMZ8g0xEYn9//VUOo0HaYVRx+3Eaq/z7j0A1PZiAAAABABnz9qR3/DZ+Xh+M2UsxphAAAAHEGbIUmoQWiZTAn/5EAF1OqRqqAgBgzQIb//9AIAAAAkQZtESeEKUmUwJ//kQAmkwUwanZVCL0v/Dy0QIzIXAovwLdRHAAAAE0GfYkU0TGcJ5SRdniMQL3iOZOAAAAARAZ+Dakd/CrzM9S1uk+zWKYEAAAAzQZuGSahBaJlMFPP/5EDpbdygVGZU3jCXMrYR9vn7JNTUG9aBgTkUiu8DLTgPqUaMgFAhAAAAJgGfpWpHfzUPHnAEu6LI1fiMSRqVYlKNASWyj5oDJSnUI3TaHuV3AAAAJkGbqEnhClJlMFLP/+RA+JmlcGa+CEUgQmLhJOYw55mZAcgpH0b9AAAAEAGfx2pHfzSTps+b7pvF35EAAAAhQZvKSeEOiZTBRM//5EBK7GocHxl4qFm8Xs9b02nGDe9GAAAAEwGf6WpHfyhQE8g8CUajpiww0YEAAAA0QZvsSeEPJlMFPP/kQPgOvIGTcAlE9qW9b6FLYcTgzS4XQ/tSYWX4f53oyS0McVlxcuxEwAAAABsBngtqR380munux/pd2P/qECesCgXJjtLWYggAAAApQZoPSeEPJlMCf+RA9jKsTNQQzJoEEtQ9dqdlUIvS/0V4qjgr6iWH7NsAAAAVQZ4tRRE8ZzKMkBrXhYpZ65iuCOpBAAAAEAGeTmpHfzSWHSUgT4W9+LEAAAAWQZpQSahBaJlMCf/kQB6q2Q/OGR6rQAAAABVBmnFJ4QpSZTAn/+RAHqp65/biBrAAAABQQZqUSeEOiZTAn//kQB8bGocHz+yJ3sdogFS+t7anZOHoB/TprPW2hlUA/CTfbfRzuquz7BWv6liCXho6+xOwumRDR8Lw8PQp7nlqORD8vjcAAAARQZ6yRRE8Zxvihy/SarcFpmYAAAARAZ7Takd/HJrRwpvpjq0EccAAAAAfQZrVSahBaJlMCf/kQA/EuOatM7UOty+ijqSCGfFkQQAAABpBmvZJ4QpSZTAn/+RAD8Tf4/BCN2njmP/9AgAAADNBmxlJ4Q6JlMCf/+RA9VHGswFWagEN/hCyHwYnpjISirV6JzEf///weUmMiSYkuMGQuoEAAAAXQZ83RRE8ZzKMj7bhwWBFtBTDCFTFuYEAAAAoAZ9Yakd/NCqyNzn38Mt+1d95JQRy3+x4uzf0pe8OmlsWuvU8NLOXxwAAAYhliIIAG//HWBLUjbTw0DG+Ap7OcdOlkAlaVTUlFpfL4JaWGf8e8fcA/vVgBNT3/jvgwNiabUQHzKbh4PL6GKavS+eGoN9IKjwIvkS1d/s88EdbSBy+JoYX7gE+et9Ez//5Kfw9a2Nh1eXt+0fsWv6unkvxqbRsTQ8idDhBaBjm9erI28DrUrAtw5lZqNrnZWS6oo5OO3MeL8vA9Pq6g/R7Iqu2GrLBxJARxHLe9d2hmjdiAAm9x/WiXTtSVR2yw8sgjmNhtfb7cCIRIdmBM8kjvFK/9G3Slv6G4wpAbJ8m5rq2bdOWiqZBuUKHCb30zyWzZnsbSNBiO40r/5mKByTbHM1X+YrnVRksgEvZx7x+wpesVBrOcgaAeWwyhPgAAAMAD1IAAH4gCN+aBz+NiSRLsbOYi/6usR9RvOY8gTdeQRwRKArW2Uq9KkgqEwnvK3iKYTXUMClEDZZMYXMVB60BQO60TCJTwMefjnG9XRJwad9H5EJ9SyPDOC+T8MPgeWRoB4mv1nhpGQAAAFZBmiJsT//bl40HGJhtf4m07vhv7J+zuW9e9atuJvVEQAIeKHlsAlYeE3DTH8ksvXUp/9iLDB8y06A/uZ0i0ZZ8hqhK/AqfjjliSwCpaFnAy8BeO0e8wAAAABcBnkF5Hf/Di5x1eVCSmhwKG4b0We+rDwAAAFRBmkU8IZMphP/kQPgOsE+bgA9+qrlkV8g31jFAbcmn8kKcGmCIRYeYLlOrbH/GGbHVQpszR39TO/fXdtlp8JsqhsgJsGw+pAsVCJF6j1RwMgEN1KEAAAAXQZ5jalPGfzIKDWGcD+h3Qs50AU85UBAAAAAYAZ6Eakd/NRQdzjEWRp3VwF3RF2bmiO5jAAAAMkGahkmoQWiZTAn/5EDrybAdsF7dRFZ4cCOTFASww73dfjopaqiv1Rq3tZUoK7egftZRAAAAH0Gap0nhClJlMCf/5EAJpj1ZaxT7ybDUCd+7pwVFzbAAAABcQZrJSeEOiZTBTRM/5ED41WbK4n7hTHl8/pOeAzbcBEdgHNzuruM4on9hd70qzJNcGvq+DnSp738kMe0aQS9DyY4rYOkflPKE5EfWac+JCnjuEnSJOrZb+TCckVcAAAAYAZ7oakd/NQJBq7JnvM2gKc0DStDutUiQAAAAOEGa7UnhDyZTAn/kQO+okzqXeAmvtIizLnpXvhuOCbmelRfAP///weWD8iYPkdY37NLtvAEf9e2BAAAAJEGfC0URPFct1tFI9t+3v8JYv2qWeT1xA4ovTavpFwVLYinNnQAAACABnyp0R38pCiEf/mnuUa6ev7KCKWwYNjPcWRgnz0U01QAAACEBnyxqR380lFSUqYWuTnAz7SIrf///4JtBXZpdWTPafWcAAABMQZsuSahBaJlMCf/kQOuQoFSn//v/J//87PcnUz+VfRD5f9I426eosK3lwyZAfezteQ5KmqJdyrxzhYXEp6FvXwhlJI7tpCK7S7EB9gAAADpBm1BJ4QpSZTBREs//5ED1UgjG4moPVagKRJhS8/+AzT/w1KTh6IxsIpzPjMtckaADh49xGsppIbZWAAAAEwGfb2pHfzUPH/PuHXoVv/7i/vUAAABFQZtySeEOiZTBRM//2mao77S4Ex+l/aOnpLGz78BbeRNw8B6xMf07vhvZZrXA/5IZ3jg/mvHD22BuoA0rDU6RMkD89H2AAAAAKAGfkWpHf8s93Nipa4UGqKs5MsE8Aodxiy3AnJNqM27UfVFB52yz6XAAAAAoQZuUSeEPJlMFPP/kQAdp6ofKeTeBO/JLRxtBgzZAyDFZm2Brs2jMcQAAAAwBn7NqR38H5mHsapMAAAAoQZu3SeEPJlMCf+RA2KKTLrKwu1XpanZOHoB/w3div1Y5tA3zZMip8QAAABVBn9VFETxnMgtZCE7O1oeJrH/p4cAAAAASAZ/2akd/NJVODH0gDbciWYX4AAAAH0Gb+UmoQWiZTBTz/+RA9VG20rCm2fU6b8cm0Dh+2yEAAAATAZ4Yakd/NQvJXRqH0r16YyWrgAAAAB5BmhpJ4QpSZTAn/+RA8DRxOzkPeNLBDvAEQ+dUE7QAAAAVQZo7SeEOiZTAn//kQAx4467Ee4B5AAAAE0GaXEnhDyZTAn/kQAx4+AIOl6gAAAAfQZp+SeEPJlMFETz/5EDYopMusv93TBKCLnjUBBvk9QAAABABnp1qR380lZfCRKO61mRbAAAAF0Gan0nhDyZTAn/kQPVS3RX+OTNABsXAAAAAFkGaoEnhDyZTAn/kQPVS3RX+OTRHA8kAAAAmQZrDSeEPJlMCf+RA9VG21Cwqkdvo7OHoB/vebwcaTJwIT9jft58AAAASQZ7hRRE8ZzGVrsM6rmo6EDwbAAAADwGfAmpHfxzZiJpBT2kETQAAABVBmwRJqEFomUwJ/+RAHqpTJ/JWBrAAAABAQZsoSeEKUmUwJ//kQB8bGocHz+yJ3sdogFS+t7anZOHoB/TprPWurg9f/78DMfHim+Kx24hv7OdlYXSQShd62AAAADBBn0ZFNExXGQsf73fxK4oQuU8+mYZP2t07Qvl6mIpgP62xdAOrin7WpEUoDdnWKOEAAAASAZ9ldEd/HOf1Xk12w3Ic2ntWAAAAEwGfZ2pHfxQrYleqUMvtEEDtumEAAAAsQZtqSahBaJlMFPP/5EAPxLjnAItQGQD////4PLB+RMHyXYxQ+GLb/if+LIgAAAATAZ+Jakd/F0IUtRxTiKvFDP52bwAAADdBm4tJ4QpSZTAn/+RAD8S45xl8IAp1jfB4alWvFWMqsXfrAYtr/7EXM/nr3lHrCPei7l4yFMP3AAAAYkGbrUnhDomUwU0TP+RA+A6wI44gGW4VkI1voUthxRsZt4ZtnpiXelbwdtyiXf8/Q541hwWPNTAHqwxcr/aIsgt7ph9weDNCVx7LElV4muQTal+b7gHz1KUpUjvm59yr6FdBAAAAGgGfzGpHfzUSv5URUNXTGLefl31oB0iMWl7pAAAAL0GbzknhDyZTAn/kQPVQ3NuAoK8Vymu5lLYanuzlRLIbn/N3aVk3rJ6cduqkZoIoAAAAIUGb70nhDyZTAn/kQPeh96oDWEAeGHBkc2jUkbrQ5dQXTAAAABtBmhBJ4Q8mUwJ/5ED1Ut0VpRQOuGZ+1n50350AAABKQZozSeEPJlMCf+RA9VLdFaVPaUZyxwDL9qzSUHuD8TN09X7iK/ANHzJ0s7XqOSqwcu5WA5xFvIU+C3vyQ9LkrX07pK01f43HLmAAAAAXQZ5RRRE8ZzGUvfouLACqBskiFlSby4AAAAAUAZ5yakd/C8CTwFlKMRsDaSKWNzMAAAAyQZp0SahBaJlMCf/kQOuQoB/n/7k3r9vf/pkadq8pZ7P5DNhXE+xCYI8vssw2MRHC+h8AAAA1QZqYSeEKUmUwJ//kQPiZpXBruKkLYQ+ujtgEM+jvaXDdoCzFi8csvxuO8o442Ye77NzJa4EAAAAqQZ62RTRMVy1w14QPRLw+ri9g+PDHs7Y4G8mv//v+CKn52LhpqZBa91CmAAAAFwGe1XRHfzQOZal3awJtQ8VIjf22iUPgAAAAGQGe12pHfykO4h/g0pLuOp5y1LWhRfsOBMEAAABTQZrcSahBaJlMCf/kQPgOjhyF1dhoP641uPJSQRoK42uMw0gE9/K6MpRvrRXwmt/TwDE8aba86GmrYd4tusxIvIjMnOt/Eio6I+36KKio3//6Y0AAAAAjQZ76RREsVy5LkKvIYcadDJYpZ5PXEDii9Nq+kU9+vLFaJVgAAAAiAZ8ZdEd/NQ7rOmDRlTRetid/ZQRS2DBsZ7iyMM/J7ka2oQAAACABnxtqR380GmrSAp2WqIx+cyv///8E2grs0urJpmMMnQAAAElBmx5JqEFsmUwUTP/kQAYnjvAMv6fitbw4tGC6DFkXBz8A0fMnSzt9kqfs/osqfTm9z1DjL7cyNS4DCXdtK9i6x3clWOG3UakRAAAAKgGfPWpHfwgrVCMvfeemaRzVRVnJlgngDzUZwPmg+mzKw0zz1VbhNnuNIQAAADVBmyFJ4QpSZTAn/81WZwm4uyGVAEgTv+5gw1F8DxwF0B/jPuVOYY0B+rokLFzn/4A1eqfAmAAAAB5Bn19FNExnyDTEPCXHL7+21+SA+Sh3lF67VjfPakEAAAAmAZ9gakd/yz3c2Cwr8iYloafi0ubCYP0bWv0O3NEfp+pyDt/H0rAAAAATQZtiSahBaJlMCf/kQAXU6pHJRQAAACNBm4VJ4QpSZTAn/+RAB3A6QKy02vXUAg7JLtlnJ//NYf8lwQAAABFBn6NFNExnB8J9v/BFxl1fgAAAAA4Bn8RqR38H29VkiH7IkgAAABhBm8hJqEFomUwJ/+RACaZMq00vRQLeqCEAAAASQZ/mRREsZwnnnZ0uAVP9ilYwAAAAEQGeB2pHfwpi7HI9YEURqHfBAAAAGkGaCUmoQWyZTAn/5EAMeOOuxHtxjUBkfqJAAAAAHEGaK0nhClJlMFFSz//kQA/EzWnT/lEc5AUz6PsAAAAOAZ5Kakd/EUTEFWCnNYEAAAAWQZpOSeEOiZTAn//kQA/Ez2XUDWHZgQAAAA5BnmxFFTxnEEmamf5rQQAAAA0Bno1qR38RSbK6GqygAAAAH0GakEmoQWiZTBTz/+RA2KKTLrNVKep01/4XeA/vg3AAAAAPAZ6vakd/NJXJ2mSjZX75AAAAG0GasknhClJlMFLP/+RAHqqbagUseebwJ38j8AAAAB0BntFqR381EBjlhIixnv3+yd5YY9pJMVJsKkQzLwAAAC5BmtVJ4Q6JlMCf/+RA8DRzp0SQ4PIDz/9A5jARuAcRt3///8HlJjIkmJLXRzFxAAAAFEGe80UVPGcyjJApTr4OWsQ6YAXBAAAAEgGfFGpHfzQcIRdoxFMGZKI3JwAAACVBmxZJqEFomUwJ/+RAD8S45vtToDIB////8Hlg/ImD5LT+kNnwAAAAKkGbN0nhClJlMCf/5EAPxLjnWxqAyPq/bQos4Pt3//v+Cb3H8thMc6lH7AAAAENBm1tJ4Q6JlMCf/+RAD98d4AiH5ELjnAcU3BdBiyPgg5cMvmTs5LdWrnhh8iJ8mczWKnUFZjBASKRKTYPTG/PCPZwpAAAAFkGfeUURPFcuGQGMAkkIwmp9MfgBLg0AAAATAZ+YdEd/NBI4Y2UGprNtieqNXAAAABkBn5pqR380Gtpm9Ftt6s4AYmwsxyOh4CDRAAAASEGbnEmoQWiZTAn/5EAMeN2HBj6AGEllwy+ZOlna6NzoWRENLHVMME/vsaZqNPUYX9eTUxkggyurSWfWq8Vr6le4P/2Jf/+RUgAAACNBm71J4QpSZTAn/+RADHj7Dnk3gMj69wCgxE511hodMP+QLQAAAGhBm8FJ4Q6JlMCf/+RA6W1DwIBNb9qDcsymmiqk4qbxP2cbr0xQBn7/22cPuMg67EThEIyI/5R2xIBpBJKXHUrEWQO6tS37+gh5fytjUJJFUx+K+K8Ows92Dswx2lncrJv5tpQXce1SQQAAAD9Bn/9FETxXLhjnNnjjmjHhfKVMYGkeqYUFOes+h6zJlRwJxhmOTccOHY1C4DdevdhAJbbHkdJYungBTy1ZSWAAAAATAZ4edEd/NJptNplAovdMHOXe0QAAACUBngBqR380JdMr5G+Af7l+KexWT/tGnTr4HlxgqqV+I7gLcQAEAAAAKkGaAkmoQWiZTAn/5EDNLuAEF3zmz2Y/3wJlz/IsU/TWtOZMvtaWutHvLQAAAElBmiZJ4QpSZTAn/+RA8DRvXeBzew7FKydmY2Vbj8mAswXQY2ShsHLhl8ydnJbq1c8MPkRPkzmaxU6grMYICRSJSbB6Y31HSsdPAAAAGkGeREU0TFcuS4zawX7beLcoBYAqKpAN2fVlAAAAJQGeY3RHfzUKDYpl3RZGr8RiSNSmPhevZjhdhGoiZveYAsmNmggAAAAcAZ5lakd/NQ8f9CA/fnfhddWIdlF7ZO67KxpzpQAAAEtBmmdJqEFomUwJ/+RA9VLdFTBmOpimQAMJLLhl8ydLO10bnQsiIaWOqYYJ/fY0zUTKU0nbvS65IIM210ln1qvFa+pXuD/9iX//rUQAAAAjQZqISeEKUmUwJ//kQAdmb+5Mm8Hb7lKkLrbLinhodMP+5tEAAAAoQZqpSeEOiZTAn//kQAdzjvACc/kPji3GGA5Z326a6h6fMWQz//8XvgAAAEBBmstJ4Q8mUwURPP/kQAXNogiwucgKZ4uC6DFIzaDlwy+ZOzkt1aueGHyIXpze6NG8ZMSBvlgEwRKTYPTG+77tAAAANQGe6mpHfwZCwKb/oVMfrdTtSpouWwz3yQ2TRJVZPl3Hco3COcnANvM8uGwnNruTjqMUZ6U5AAAAOUGa70nhDyZTAn/j5ZguD4yTvtLgTH7Hna2uMZDP/+fT739ji0wGmPUR0A8UBAmuRcaooBP1j9nGxwAAABBBnw1FETxXvMeImGUSMvJRAAAAJgGfLHRHf8tsPqqkAgwQs25FDxlPvMV+nSg493MLdlniXCDukZL4AAAADQGfLmpHfwY21WVy7DAAAAAjQZsySahBaJlMCf/6acQSAK/IgLcBzmkPREc+AXQH/6QybjEAAAAPQZ9QRREsZwePeTGYyY3wAAAADQGfcWpHfwfo0TzLdVAAAAAnQZt2SahBbJlMCf/kQAx3LxHxJo85qVf/xH//h5bXkZhkh+/x48wjAAAAEkGflEUVLFcL++2ZP6Al2DgigQAAAA4Bn7N0R38KYZ6I4okagQAAABIBn7VqR381Dx14aNM9Q/AZchIAAAAXQZu4SahBbJlMFEz/5EAMeOunszsYB4AAAAARAZ/Xakd/EUXEaDVlF3w/l4EAAAAbQZvaSeEKUmUwUs//5EAPxMtt0+9BGNQC1/ejAAAADQGf+WpHfxEjKIPE3QgAAAAUQZv7SeEOiZTAn//kQA/EtuEB5s0AAAAZQZocSeEPJlMCf+RAFPmRznKV2hqAQ38+cAAAABRBmj1J4Q8mUwJ/5EAU+W25u67ZgQAAABNBml5J4Q8mUwJ/5EAU+W3Bg8bNAAAAG0GaYEnhDyZTBRE8/+RAHqqHigSQ+ebwJ38j8AAAAA0Bnp9qR38c40UjiTl3AAAAV0GahEnhDyZTAn/kQB8bGocHz+zG+x8PRN6DaLnZSHcI3+pZbFKdhGss0NpTMCc2/nYllGYlmMulv0mZcuH5x0f+whGx3bS3BQdIHiejht23ZRq0LIZjYAAAAB5BnqJFETxXGQgthKjSnPX2f///weQ/JWex2JROOYEAAAAPAZ7BdEd/HOf1v+TrxohHAAAAEAGew2pHfxEj7qfTGgBcnrwAAAAfQZrFSahBaJlMCf/kQA/E3+Nh8G8B3vQUOpIE7+uggAAAABlBmuZJ4QpSZTAn/+RAD8Tf42Hwamh5x8gfAAAAVEGbCUnhDomUwJ//5EDpbaYxmU1bwKlP//PICy//3osJbfyMgz/+WpWPPaCQT51w/zyXZXy+DrBqSXZTa17sA/JTD4BvciST1BctOIOifAq3B4x+QAAAAFRBnydFETxnMm+IC5P8tiTsY4VzEohQ7jTHV5HTlOwMepskK2X9NeaSorl5xCfS3RxpM1Xn9ME1lW3LerB0jlybDFsS9dGwxDHLdIXFQzjPcoOHmdEAAAAXAZ9Iakd/NBZRXJuz1zG24MvSckktE7gAAABSQZtNSahBaJlMCf/kQOuQoCEwv/ZqT//vQCYjf27Ufc8fzeKBPP0h0F8s85/U0+cTXy+EHtzktkXupIQ9IAiqzXXltIT6V45XzqrMegNvrGxd6QAAACJBn2tFESxXLdazHcU4PtT/X//xP8Bdc6+Nb2c7k52dL1exAAAAFQGfinRHfyjSzM56peR8ZrJyrsIoQQAAABkBn4xqR381Dx/sov+CGL9jQJeXUHIUf46BAAAAMkGbkEmoQWyZTAn/5EDvqOaNQC1+FxG3/2L/pVmSqiQWuaCVx////weUmMiSYkussGKMAAAAF0GfrkUVLGcygD+KN+ZQ66UStHd3WTQwAAAAFAGfz2pHfzQWVfap8oSw3F69Z/ldAAAAM0Gb0kmoQWyZTBRM/+RAz1yAGi7Gr7u0gTvPvpDJbd1UwjSD///P+BnnQeWyD+dMAq42wAAAABMBn/FqR38evxjfpM00HEmt/g0+AAAAIkGb80nhClJlMCf/5EBJWGCV0DxJAZH4m/vmJLp4TbJS4RkAAABKQZoXSeEOiZTAn//kQPgOjhzHr8CfcmLz8tuBdHIS/eSkxf5WYb6RN1TP5GOwCj/q4J9eDmA3VKw9jfUIsA///AXmmNXgA0jzAoMAAAAXQZ41RRE8Vy5LjbKwX7cHHorsMgBiJF8AAAAhAZ5UdEd/NJmh/tkDVDy5jCWTxED+QsD7waFpMUyUvAtKAAAAEwGeVmpHfzUPH/QgP3s511E77UAAAAApQZpZSahBaJlMFPP/5ED1UTfSmDOp7NZcAD0/L+Nx3lHHGzD3faBj4VUAAAA4AZ54akd/NBpsNfxvEUrnFZnuCNFy2Ge+Su5Yu9k0VA7ZFhZjCW31inNQuB4TC76SejUxu5ArGL0AAAA1QZp8SeEKUmUwJ//kQAdzjvAEQ/l6pVDHL68empbb2I//8/4Gd271C7dzpN8eRvxWn6//k9oAAAAhQZ6aRTRMZwd+/1W+7CE+x77jvKLi0/in/sXIOA69923HAAAAGwGeu2pHfwarjE5xQtST////BNht8rLk34SU8AAAAEZBmqBJqEFomUwJ/9r6ZIH++uBMfsi3+CxsW8SX8viTtdMryRD1tveaK8wDbQDaiZSy8XuQU4SPTXXpAV3jRTGXs4AcXM2BAAAAHEGe3kURLFfEYZ1iShN+A9tPeiB3lF6bV9ItYYEAAAAQAZ79dEd/BkQHpnlSnmeu/AAAAA4Bnv9qR3/DZ+NXxrNdcQAAABNBmuFJqEFsmUwJ/+RABdTqkclEAAAAI0GbBEnhClJlMCf/5EAHcDpArID690kDKhGg4OAl/+76pyeBAAAAD0GfIkU0TGcHj4kkZJJjfQAAAA4Bn0NqR38H28aQjjO5MAAAADVBm0VJqEFomUwJ/+RA+A6wT5uAD36quWRXyDfWMUBtyafyQpwaYIhFh5gjp71bFt2xQm39twAAABdBm2ZJ4QpSZTAn/+RAQvC+x1HZOqBqMQAAAB1Bm4dJ4Q6JlMCf/+RA96H4VoDWEm/4gbj9TUm2agAAABpBm6lJ4Q8mUwURPP/kQPVSJ3S0hBS0apurkQAAABABn8hqR381Dx/0xTF0W3b6AAAAGUGbyknhDyZTAn/kQA/EwPdIe3GNQEG+9GEAAAAhQZvsSeEPJlMFETz/5EAU+ZrTn/yhucgGx/UBh8W79wklAAAADgGeC2pHfxacDAIlpweBAAAAGUGaEEnhDyZTAn/kQB7MZ7T52BUhqBO/kfkAAAAPQZ4uRRE8Vxk7aSKNeuMgAAAADQGeTXRHfxZzPRHHqIAAAAANAZ5Pakd/HLAm/0NjsQAAABZBmlJJqEFomUwU8//kQB6qkXoE3ryVAAAADQGecWpHfxyvVTfoqSAAAABNQZp0SeEKUmUwUs//5EAfGxqHB8/sid7Hw9E3obC5HaQ7hG/1LK185rk/Cp8MfMmE4nB77bxo6qAmuu7ZM+UcS8JwuUl/u7TKtusXlcMAAAAuAZ6Takd/HJrRodP+ux/VDVh4IXLhtIw7TuVybvPY/ZYQNAo9KXPpGGZVUBK4YQAAACNBmpVJ4Q6JlMCf/+RA9VL+Ff45i+m4Y20I41eCaZICa/jnIQAAAGNBmrhJ4Q8mUwJ/5EDpbdygFpXishHcylsNakKYPy81HOI76diqMfIuVVHsIjcsdya2nun/E1a5nK5Iif8TISuD7G0YIxMnjw/F4HQNrg2WW2GjZe4xpwQ5ReXEl40MUut7mF8AAAAYQZ7WRRE8ZzKMi6VuslEcbEgzWJyQXBUgAAAAGQGe92pHfzROJPALmzB/JzJ9k3b8Zw8Ga/UAAAA1QZr8SahBaJlMCf/kQPec/wY69x1/azUAPX+oHEZ0qL8qcIOwuzIg////+DywfkTB8lSPSWQAAABEQZ8aRREsVy4YzJxZFM/iOHx0kSgp40Tj68kesmS5UkmFRb/Apq7a3xFG1vgwEeh2jnUWGr+eDr/tPqRkDdRc/16HXsAAAAAaAZ85dEd/NQ7rOmFNpm/jfz6VeaMPXnQX9iEAAAATAZ87akd/NBrZuTMbMwhtfB5L9gAAADVBmyBJqEFsmUwJ/+RA2LrebOusAFAhf23k//2jtECRc3C6ExSy/r/gvMDNkf6hR6vbo4uSYwAAABZBn15FFSxXLlAezMIb8lLm0XUv7bUZAAAAEgGffXRHfzSaRWj7pPsdTa3owAAAABMBn39qR381Cd3a+Oxcp+o9/r3rAAAAK0GbYUmoQWyZTAn/5EDphpkoCEdVXKa7mUthrJDf8qB3AfZPpunXmKmdKaAAAABGQZuFSeEKUmUwJ//kQPVS3Oc3b4WQQuViOW2bol16Idy/fH0hTHG26OgFVpXMM6XUMGFyOlCURJEyNMJclumGykfUYpdqcQAAACZBn6NFNExXLZ41GiV/mSX21VwjrGO8tp70QO8ovTavpFRF/affgQAAABsBn8J0R380bZOj+9Vp0KyZVhv96JGwKWYzLcAAAAAbAZ/Eakd/NJP2poumk8ULIZsOcvemp8LzcF+YAAAARUGbx0moQWiZTBTz/+RA+A6OHDkuAFzQdnP9Xev2JP2tHIv++rvTRGk+OeZ19Ut1h/hjL3O/CDAchf//wF5pjV2hSaUNoQAAACABn+ZqR381DxzA8s87uMOV8koHKlbMCi9FomH/sRcRogAAACpBm+hJ4QpSZTAn/+RA9VG20pjypIAx/qMt6FmjfxYvpRlZ8xeg9H/6yOEAAABHQZoJSeEOiZTAn//kQPVR0CSgwi4AQ7wBd+7fiZCVgYqSy4hJ+6b8S3W3lF+VjsSumqrDadBCElzFAd+e3JWvp3SVpq/unUAAAAAZQZorSeEPJlMFETz/5EAFzZ7CTm8lgEceywAAABABnkpqR38GQsCm2iywqpGfAAAALkGaT0nhDyZTAn/aRkxx3spQHv9a/+x2L+5AGnpBSRB8O8Ay+B41bptgR/iONjEAAAAQQZ5tRRE8V7zHiJhlEjLyUQAAACYBnox0R3/LbD6qpAIJPrOUenjcWPDBj06UE6HOwZ8SiX14CaEvgAAAAA0Bno5qR38GNtVlcuwwAAAAKEGak0moQWiZTAn/5EAJpMFMGp2VQi9L/w8tECIqnxA8ZADn8Is6tsEAAAAQQZ6xRREsVwk+wutha14KOAAAAA4BntB0R38H6gew/KEPEAAAAA4BntJqR38KvMs0lIN8FQAAACVBmtZJqEFsmUwJ/+RA65CgMO//3lGkdZ//274SgVksPY12WG8RAAAAEEGe9EUVLGcyC1uAwpmu9PUAAAARAZ8Vakd/NNBSMhCsI76IB0AAAAAhQZsYSahBbJlMFEz/5ED1Uge0tIQChGkmhHeAQz3UbTtAAAAAEgGfN2pHfzUPH/TFK9BbuoLrLQAAABZBmzlJ4QpSZTAn/+RA8DRxOzhum/EGAAAAIEGbXUnhDomUwJ//5ED1UcazVLAKeRqwDTaATT2iTRHgAAAALEGfe0URPFcuTNG5RSQUUcnqey3PD/X1MQ+hWDfdOOVuYf0nNaN/e0r/D7o1AAAAHQGfmnRHfzUO6o+Jd0WRq/EYkjUpWgtByX3HgDoeAAAAEwGfnGpHfzUPH+2AaFyF3pQ0cG8AAAAYQZufSahBaJlMFPP/5EDwNHIc264d3H7ZAAAAEgGfvmpHfzUPH/XWK1KQSV1TQAAAABtBm6FJ4QpSZTBSz//kQB6qeuf24eU5AHB+R+EAAAANAZ/Aakd/HNn72eo6tgAAABZBm8NJ4Q6JlMFEz//kQB6qeuf24gaxAAAADAGf4mpHfxywJv9hnQAAAEtBm+ZJ4Q8mUwJ/5EAfGxqHB8/sfL7Hw9E3omDNHaQ7dlfUItupZarXwqfDcIA6eTi7O28b5GAJrru2TThHE0Tka53wW4wSsIDTGtgAAAARQZ4ERRE8ZxuGDzCtm7ujlMAAAAAuAZ4lakd/HJrRodP+ux/VDVh4IXLhtIw7TuVybvPY/ZYQNAo9KXPpGGZVUBK4YQAAACBBmidJqEFomUwJ/+RAD8S45q0ztQ63L5w1otpAnf5XlAAAAD9BmkpJ4QpSZTAn/+RA9VL+FgKs1AGP/WrNkvYPZet1jQ+2RCHRM8XYSLz5W8MuXoKnq3XftYzuHgVT2ceZEi0AAAAZQZ5oRTRMZzKMi+P/5OWhWMltclw2JmIKaAAAADgBnolqR381A8+6lzzu4w5XySgdvMbn8HIZXyRNb+xAb6/kjcaWQvd83nq3w2/0A3b604HAxOhHLwAAABxBmotJqEFomUwJ/+RA8DRxOziP5b4LcYLsXO9RAAAATUGar0nhClJlMCf/5ED3SdJYm7hSqY2vTCvaQJ31p31MJRwXQZElbnPwDR8ydLO32Sp+z+iy6NRktlpOq/3Mv0AyX7u2ndg2mr/keGPhAAAAMUGezUU0TFct1rec8iWqcy3LLqg+KkPZ+L/8HCdoXy9TEUwH9bYugHVxT9rUiKrG2V0AAAATAZ7sdEd/DVUc9e32k9/9d/Xm5gAAABUBnu5qR380k82LgSQSYQO8ZecI3xAAAAApQZrwSahBaJlMCf/kQPSgOUoBWYL0CHo5GkMJKuPvJLsWxzxn5zDX4ZMAAABLQZsRSeEKUmUwJ//kQPjYLEE13CmO7Q8kWtj7mZgKZFwxtclYYv8rUtSZi+Dw1KteKsZVYu/V3hIH+AqSS/O95R6wj3ou5eMhTQNAAAAAW0GbNUnhDomUwJ//5ED2VGUACgQv7byf/7PuNrOfH6zihJ/sjZY5T29tZBGOqH/vytUdNRfvZ2uXc5+epDSxqIS6x2EG6HLMg9ZEkED3/cVjWL2tg1YYMQAnlEIAAAA0QZ9TRRE8Vy3W0UoVTkBIluc7zY5bq0Daz9BTDjtGcvIRy8igQsk5ZU9Y2qxyrBtWbq0kqwAAABgBn3J0R38pCiEgC0FWHzKrL4DyI0DSPUEAAAAsAZ90akd/NJRUlKmE2EVgM/wpeaAgngEZqhF4JxTmioLaSSS83CVk11XB/TEAAABTQZt4SahBaJlMCf/kQPYz9UjYVOXBOA9UnFbNQXly1G3qdHKJhLf4oNia24xcKowDco9mMUr1IdWw7QzAZD28k2PrWd5LIjPZfYCNTB15k4CpM4AAAAAfQZ+WRREsZzKMkBtYYpDCTHTpOI/5thXt2f/yEH8WcAAAABYBn7dqR380lSZDFh9NvVNK636uaU0hAAAAF0GbuUmoQWyZTAjvADBujRxPUIEl+jrAAAABcWWIhABvx1gS1I208NAxvgKeznHTpZAJWlU1JRaXy+CWlhn/HvH3AP71YBuHt8fh0w95F13gY8Y/TH1VCXurblK+fAemixQf9M+HidAAZkMZ4aTegRXZ8//+Sn8PVXTHcxuqUNDgnXA05PjMDpC51s33MO+mFEPhE5ApeFeaZBHwpGHGfi5TdGIkpAHX4odg4quKRmqGSdQfqBNNT/q4ALhjaxz33Le0ZCGpdI8P1s1fHIXg1n30JJR3M3K1EIODLchUhdjgrChKdV7rL7BkK72AqxlrB6whwjkTKaI+WyL2cNYMpM5c03cNJLGYO7oBk6algXE0NzeCBKrBdF3D25x0xh2OZGSxPtS1DaHG1CRqEtaEOVPPMhtao3JghOo2AahABSRFy8MZfZnCysm5+wR29ugsAdRlWl5c7gziTuSFH9FT7tXRVh4ZLDCpd1OzstebOrZBJhRGX1zxOfceTVZhHeBaQDbu6fN/PpT2Z+K5BwAAAFhBmiFsT//MTcAPHh/vrgTH7Cv/BU5rNmCvvQ+KGlPv4lx3RU5+JfbIi2ZZqfE+fyjKUefwYR1jY+jMGzK9Ci4yoKpklYh9nZpHwrH8zfGBIt1hMvqFW1K3AAAAHkGaQjwhkymE/+RABdeDdAKnqTLdHX1s//j51nU+gAAAABdBmmNJ4Q8mUwJ/5EAF/47wOaQq3lnUYwAAACFBmoZJ4Q8mUwJ/5EAHZma1EAHZt11FnfRoILsv/nXzeeEAAAAVQZ6kRRE8ZweNWpuqOuO8RhBj/wuAAAAADgGexWpHfwfo0TyxLjyBAAAAIUGayUmoQWiZTAn/5EAJqodr1cWAVUmwXQxuwtibwJ383AAAABFBnudFESxnCeScN1VIiJOwYwAAABEBnwhqR38KYtRB6Rgj8NrugQAAACBBmwtJqEFsmUwUTP/kQAx47SqzSArcBrzsaghnXNee7AAAAA8BnypqR38NcZy/ltl4JUcAAAAVQZssSeEKUmUwJ//kQAx4467Ee4B5AAAAGEGbTUnhDomUwJ//5ED1Uv4VpB1aVtdwuAAAADZBm3FJ4Q8mUwJ/5ED0oE0MvuAoK8Vymu5lLYauWCJCVFWa0d//vCSUrHmoOAe3QELAown9yYEAAAAXQZ+PRRE8Vy3rZ0JstBCGgnIPCm2TPI4AAAAfAZ+udEd/NBnkWM99gH+5finsVk/7Qn9+BnnV83mkYQAAABMBn7BqR380k/V27o8eZMjYrilxAAAAHEGbskmoQWiZTAn/5ED3ofq1n5vGdyfiOnIce4EAAAAXQZvTSeEKUmUwJ//kQPVS3RapUmgxVDUAAAA8QZv3SeEOiZTAn//kQPVS3RazccgGx81e2YAT7R4HzRa6WL4Q6JoWHC+I5hD0yjnbl5+G20th4g6nJ8lgAAAAFUGeFUURPFctdPUs/AKEmumjWFMN2AAAABABnjR0R380Eu7hpABC1zHhAAAAGAGeNmpHfx0T7gN30mvNhSJpbd/wTJ9RdQAAAEJBmjtJqEFomUwJ/+RA8DRxjSxF1O+0qBM8v/2HSiCtzq+EnIyJyj8yd5e9W8iOLwd/AVF/nYv2CmNElfn076wSixAAAAA9QZ5ZRREsVy3YHAXXBs7cAk+48+xOYU56z6HrMxlGHWg99A/HZeZmlbfWVPZmmqkaxPI6Ue9PG3tZp7NdgQAAABIBnnh0R38W9Qem8KndoFZKtEEAAAAzAZ56akd/NQ8dePZw1qYS3t5XVDVh4IXLhtJs0x4fLn1AwtdCOEqn1ybvPY+253emG1kTAAAATUGaf0moQWyZTAn/5ED0oE0Lq0Le4BbSGK2NQdv3bQdzFCRTp1QNGAkpMIHLF8IdE0LDhfGrz8Ng9GQuCLiILynvtQbvD0vj1QfNEf7gAAAAS0GenUUVLFctf1Qoi6mN0JEqpRVr5s17feU8/hV1gSq63Z+7vWOM62g9/4Ghti1kRlYvV6i0er6WBasmi8bwRlGB3Iu5A3trpuvnHAAAABgBnrx0R381EuAY5noQXFpuPZS8228jr2cAAAAhAZ6+akd/NE4zz5pD33HEYkjWwZKDP091KCspuRr3dU9MAAAAQEGaoUmoQWyZTBRM/+RA96H6tcbdAfazAVx3gA+/4wcUOORKyQ2sskgyIQ6JoWHC+D3CHplHNpbrzAXDw+JAHuAAAAAXAZ7Aakd/NQW5eflof5Ie3/VEP2iZt90AAAA8QZrDSeEKUmUwUs//5ED1Uv4VYUwc85UkBkcqZg7W2RCHRM8XYSLz5W8MuXoKnq3XftYzuHgVT3wiN3pgAAAAMQGe4mpHfzUDzhPQLK0KVzUu7bN/gk6hztIw7TuVybvPY/ZYQNAo9KXPpGGZUl7QN8EAAAAzQZrkSeEOiZTAn//kQPAU0oJ1sA86gEE3ikfc78pch3WhIUIWU46K9g2pYNp56hILvtOhAAAAI0GbBUnhDyZTAn/kQEmt3Yt2lUZToEJzDvk2gJSItijhSP5lAAAAPkGbKUnhDyZTAn/kQPZVsG0AU3WJhbm3MrYR9dn1wxWQSf+VlWUEcxlGzTy0a7+v/+fgLbKfy1f1oGPGqfPRAAAAIkGfR0URPFcuCboGBrfa7o7OvhOLPJ64gcUXptX0i5lEW0AAAAAcAZ9mdEd/KP69QAe2pIZK7WdLwT3KWXYVserEwQAAABYBn2hqR380lIfGDK0jD4kzpX1skoKdAAAAM0GbakmoQWiZTAn/5EDrybBRUGbwvDd1Hn8lbCHsbe4umlNiudnQVBeOzWhkz5EzRfXcgAAAACtBm4tJ4QpSZTAn/+RA65ChEZ////8n//67PcnLD+Vz0BasF3JxLJfCT1TAAAAAKkGbrEnhDomUwJ//5ED1Ut0VMeVJAGP9Rh1n6ebb0eK7RWfMXoPR/+sjgQAAACZBm81J4Q8mUwJ/5EAFza2FhY1AZHUNorfyy/G47yjjjZh7vtCvYAAAADlBm/BJ4Q8mUwJ/5ED1UgjHCZpLoaFrTEcWMygIv57MJFAxRneUJDC5HShKIkiZGfIfDz1hspH1TqEAAAAqQZ4ORRE8ZzGUVM19oSqkHPgeZrwtw9t3XsiuOJOyl9FjGNEEWEsnLdvgAAAAFAGeL2pHfwZCwK6Zys1H5EnX2sARAAAAQUGaNEmoQWiZTAn/4+cWCI8P99cCY/YV/4KnNZsxCWfXtqVB/phYCeJ//8CyVPsFXpEgyALB0D5debW9/vT5qpkxAAAALEGeUkURLFfEYZ1kZPb7MunMF0bUW1YCm2/B9kcWZXWwy3AH/YjyIQWYuT/JAAAAGwGecXRHfwYyfMV9LseDnNNTGmxwwlwDC2+iIQAAABIBnnNqR3/DZ+NX1XFpgsA7vSQAAAAoQZp3SahBbJlMCf/kQAdmZ7MQXeA1SgdQGXfzk//yUZAi30j8lGVvbAAAABFBnpVFFSxnB495MZMyQFbqQQAAAA8BnrZqR38H28aMZZ+ue3UAAAAfQZq7SahBbJlMCf/kQAmmTRBcUTcAh53t3/u9pEYZQAAAABFBntlFFSxXCQNfyOahtvArIQAAAA4Bnvh0R38KYZ6I4c380QAAAA4BnvpqR38KY0FR4t0YoQAAACJBmv1JqEFsmUwUTP/kQAx46brFSsaQhaoA4PpVreHzQ2JEAAAADgGfHGpHfw1di84l36ZAAAAAFUGbHknhClJlMCf/5EAMeOOuxHuAeQAAABRBmz9J4Q6JlMCf/+RADHj4Ag6XqAAAABlBm0FJ4Q8mUwURPP/kQA/Ey23T7zaMVSIIAAAADQGfYGpHfxFJspHEnZcAAAAUQZtiSeEPJlMCf+RAD8S23R3X2YAAAAAfQZuESeEPJlMFETz/5EAU+ZHOcpSRZWeIBl/Unxs+cQAAAA0Bn6NqR38WdaiDxNqNAAAAGUGbp0nhDyZTAn/kQB6qkXoE3rn/gAu/11oAAAAPQZ/FRRE8Zxt/Uv7zw2mBAAAADQGf5mpHfxzZ+9nqOrYAAAAVQZvoSahBaJlMCf/kQB6qUyfyVgaxAAAAQEGaDEnhClJlMCf/5EAfGxqHB8/sfL7HaIBUvv/X0dnD0A/p01nrXWAcP/9+BmPjxTfFY7cQ4/vOysLpIJQu9bEAAAAsQZ4qRTRMVxkILYDjwTIXKbNTMMn7W6doXy9TEUwH9bYugHVxT9rUiKbDM9IAAAARAZ5JdEd/HOf1v+id0rhg0YgAAAARAZ5Lakd/FCtiV6qL4CIEFfkAAAA4QZpNSahBaJlMCf/kQA/EuOdaZjlhEBr6fncNTACKnvUC6AVyUylyvhgy7qyH85xYSQKH/wH/FkQAAAA4QZpuSeEKUmUwJ//kQPVS/hX+OYvgrWAQVyxvg8NSrXirR9npNl/Yi5989e8o9YR8M1lVVSk5QsUAAABHQZqSSeEOiZTAn//kQO+o7AWxqAQ3+PTC9+SJdjOtn4LoMbXnp3wDR8ydnJbq1c8MPkRPkzmaxU6grMYICRSJSbB6Y30ipn8AAAAzQZ6wRRE8Vy10avOE9VT6Ht5bYZP53YPpKK4LVSpB243nsfst2pUrvIg4mjCaM+AgZCeBAAAAFAGez3RHfzQSOIhEFlRkVPUKRXctAAAAEwGe0WpHfw1eCP+F82H/ukI+uYEAAAA9QZrTSahBaJlMCf/kQAx43Yc8MxPUgA9Vi+EOiaFhwvjV5+GwejIY7/z38r6U5vlKzzOiH/yd8eqD5onQqQAAAB1BmvRJ4QpSZTAn/+RADH4ErabRJAZH1dihNm3U0AAAAD1BmxhJ4Q6JlMCf/+RA+A6wT5uABP+qrER+6xzKWw47KsxRe/u+6sNuJQXGJvhqrR0stMO+UkbrcXqhnc50AAAAF0GfNkURPFct1qeEJbD/7DqV77TanDxZAAAAEgGfVXRHfw1T6edORDxO/UPUhAAAABYBn1dqR381Er+VEU9oxdjpwBAmhJ1wAAAAZ0GbXEmoQWiZTAn/5ED4mahQvL7OB/TdnAXhy/nJMLw230K2EeSRR55ZorQMvdTD9+wnKZh/YMOFPIzyUZNawVwFj/B0hmrUt+/oIeX9CNFjU5bSzrm1L820oN3qUpSpGzNxfkP38sEAAAAbQZ96RREsVy1zcZ7WR7lwUfwU6SuUP2LrNR4TAAAAIQGfmXRHfzRlWTdD/m92P/qR6Lm4XSw91uX+C+SgUnxU8QAAABcBn5tqR38oY3Iu1AxB8z8z785BtNDWEAAAADFBm51JqEFsmUwJ/+RAy+nSiCRhy1zLaAC7/cdIiYMRuv4+3f///weUmMiSYkvGPbtwAAAAMEGbvknhClJlMCf/5GP0Kw+hRu1MQzUCd40Fw5JpBvNiavgH///4PLB+RMHyU3P4IwAAADxBm99J4Q6JlMCf/+RAzS7gBBbr/uHUBcot74lVOdXsQpLqF6HGtaodXF/jtyjNaQZtJGojR+j5wcbP1WAAAABPQZvhSeEPJlMFETz/5ED4DrAjjiASu/9sWJ3/+q/e5yrerQzy23l9WRXKnqTwjK3JPX8IpYUdMcpsBcdPKL4SgcUelY9QBYzcGlgTf3k5ZwAAACcBngBqR380munpIe+44jEka2BKhL7a4Ng/xUtWhgowi+hM/5r9UYEAAABSQZoFSeEPJlMCf+Rgf8gcw/CaQqE+zejo4chWPY8ubLC+/XCCPF7J/OAOyWqhmVmr3/BSfBwdqIPTSvRtQ6sj8Dqf1F6sMiBpAuZwprWkUNSZgAAAACpBniNFETxXLkuM2s2SuthjhV5MjdEcdozl7OHLyKBCyLVqdoxkJm4a8P0AAAAYAZ5CdEd/NQ7sdsFZiOzQbv01g6gm907LAAAAGwGeRGpHfzQaQNas+dfuwE1MabHDCXAMLb6agAAAAGFBmklJqEFomUwJ/+PlmC8dCVh32lwJj9jztbXGMhn1JdJTqcYoKf/q03LH/d+bKJT847RpbZ2p11HxIZMOtQo/YMr6EuUyhlekqoiLXcmILmaxrzvWBBJi1koE/8Dagu3tAAAAGkGeZ0URLFe8x4o30/sAIVu5OhlYzlC/pKiAAAAADwGehnRHf8Mftsf6tlvvJwAAAA4BnohqR38IIW02VPPkKQAAABtBmotJqEFsmUwUTP/6acQSAN+5ttPGogV17BgAAAAQAZ6qakd/CnbAoeTK2jJ4wAAAAB1Bmq5J4QpSZTAn/+RADH63tv+nEMjmc5HeA/vwjQAAABFBnsxFNExnDM+FIaWduLPKKAAAAA8Bnu1qR38NcZ0h30r8Z4cAAAAXQZrvSahBaJlMCf/kQAx4461uRlzaVgwAAAAxQZsQSeEKUmUwJ//kQPgOsE+bgAbWYvPx/3WOZS2HHZVmKHX3dC7b5l+0/8Ha9m5isQAAACdBmzFJ4Q6JlMCf/+RA9KA5SgFZgvQIejkaQCxVksDGZihjJISKUa0AAAAjQZtSSeEPJlMCf+RA9VE0tR5NKsUos99t2DEHCTIEJ9S4OX0AAAAyQZt0SeEPJlMFETz/5ED4Do4cKeFAYFB2c/CMrjqQzfud3EqKIDaTJMpYhdDpI3eWwIEAAAAZAZ+Takd/NJyrgDBmzikl5YpCa9yznggjsAAAAB1Bm5ZJ4Q8mUwU8/+RA9VG201SuFCswSTvAEQ+ouAAAABABn7VqR381Dx/11itSjnAlAAAAFEGbt0nhDyZTAn/kQBT5bbm7rtmAAAAAFkGb2EnhDyZTAn/kQPVS/hapUmgxVDQAAAA5QZv8SeEPJlMCf+RA76jtZ2NQBM/l3TL8hHCPyvp+Q3Ig8NTACKnvUC6AVyUylyvhgy7qyH8XBhktAAAAFEGeGkURPFctdPUtTKFwU6a0hbPlAAAADwGeOXRHfzSbO/ygXsqZgQAAABEBnjtqR38dE+4DHKpPvLJRwAAAADdBmj5JqEFomUwU8//kQA/EwXnWmalDtiCk43sDX6Z4M4UyYtEP7U8AwwDccpjefjqWGtwkPCrwAAAAEQGeXWpHfxFJ+4UMzh09G3ShAAAAIUGaX0nhClJlMCf/5ED1Ugusv8hSBlMDKd7KoHOQCafBYgAAACpBmmFJ4Q6JlMFNEz/kQA/EuOb+8avzEjreLYwF/Mf///weUmMiSYkvIHwAAAAgAZ6Aakd/NRAY5Ypl3RZGr8RiSNUsxKYxGXskilRa1WUAAAA8QZqDSeEPJlMFPP/kQPA0cY/jvADK+tKiNqzFXkNFMiDw1KvgnLfy30AxSGV8dUVVoXpohEQ9Ml63N/1DAAAAFAGeompHfzUPH/Uw6brNY9azPOkPAAAAF0GapEnhDyZTAn/kQAx43YbSWC2vW2zjAAAAGEGaxUnhDyZTAn/kQAx4+w2ndoF9OO6jDQAAAFlBmuhJ4Q8mUwJ/5EDrkKAf5/+5N6/b3/6ZGncPMwqIqrP+8Zqxh/y1bGCD/64Zsj1xfBHSQzthz8N7e9Fi24Pky80c5DEylBpiPjIZlNrsGefeoUtKKPdqlQAAACxBnwZFETxnMgoNYZygGr5QI7IBlmPikzMo+e5TuYFxw8vI0ylt/JnMNkM9gAAAABQBnydqR380k82bcFvk0Mh2vJN8wQAAACpBmylJqEFomUwJ/+RA9KA5SgMCe1zX/eSthGEFXH/dwHDxlmJ6/53gSYEAAAAfQZtKSeEKUmUwJ//kQEijYAPqVZ6FbvoW35+C6SlEyAAAAClBm2tJ4Q6JlMCf/+RA2MhUqgAUCF/beT//aAtdM3AF7Y+TiIksGS9ygAAAAEZBm49J4Q8mUwJ/5ED1EqL3JmFdC8E57yVs6C8ubTSsP3lSBvvrZqlodXnB+astK0L7kn4kOyQA65M4mGSPNKJfpWgW/N9dAAAAIkGfrUURPFcuS5Cryat/zqm5xHltPeiB3lF6bV9IuZnbC/AAAAAXAZ/MdEd/NQ7sdsIDsp0EFDvHt6SbO8EAAAAdAZ/Oakd/NBpq0gN3Vhx/HoilsGDYz3FkYH35UqMAAAAxQZvSSahBaJlMCf/kQAdzjvAEQ/lNM31EGBWSAx/L+Nx3lHHGzD3fK6pEw/T9zf/JOwAAABRBn/BFESxnB4+did9ZxDHg2QUQYQAAABgBnhFqR38H19u8fb4y1hijwdN+8yQf9uMAAAAjQZoTSahBbJlMCf/kQAXNnsJK31QGDvf2PHeUcEaQRFL5OYEAAAAjQZo0SeEKUmUwJ//kQAXNnsJMItQGR+X8bjvKOONmHu+z38AAAAA1QZpXSeEOiZTAn//NWl0es+p32lwJj9nv+yCScK80rpxqcLDy06hB65acVL6vs+B6P8D88rsAAAArQZ51RRE8Z8g0zlXZlZe4Qy8jNeFuHtvBGMhIS8Pb0HkwX/YjyI7LVXGjgQAAABIBnpZqR3/DaCHU6E7a4QkRvoAAAAApQZqbSahBaJlMCf/kQO+o6mPdEKCjCAUNzgVtSd/kTPG7QKsVJe43G9AAAAATQZ65RREsVy10HDHFOuzCKV69oQAAAA8Bnth0R380mirztIMejmEAAAAPAZ7aakd/CnbAmCGg2F+9AAAAHEGa3EmoQWyZTAn/5EAJpkJmZ5N4E73xVOcWoWAAAAAsQZr+SeEKUmUwUVLP/+RADHcv8N0fW1l1b/5QW6Ef7kpngeGpuHYyAcD9RIAAAAAQAZ8dakd/DXIumBqlhkG54QAAABxBmx9J4Q6JlMCf/+RADHjpvEOO8BNd8UzG2lfAAAAAH0GbIUnhDyZTBRU8/+RA9VILrL/H0woqTP+kgDH/J6AAAAAPAZ9Aakd/NJWY1H9iGhMxAAAAM0GbQknhDyZTAn/kQOmVH1TfqApgdFUar3GjDTqMAg3iLsUFy6k4EY4P6Ya+8GSDphqnCAAAABxBm2NJ4Q8mUwJ/5EBIz6OJDaO0ghmZbpxtQwy5AAAAL0GbhEnhDyZTAn/kQPgOsCOOIBluFZCNb6FLYcTlw6jk/HCjf7+YEwW7gyGXfJlBAAAAOkGbpUnhDyZTAn/kQPVQ3NuA7YVNRad/8xRyNId/f/+sUb1f66DE2nSv/H5q/zXu59XcG2PjikhLZiAAAAApQZvHSeEPJlMFETz/5EDrkKAWlei/U51Vcpi+5P0/7mb2s0mH/IDK20EAAAASAZ/makd/NRQZz0jO8BiyaGnAAAAAVUGb60nhDyZTAn/kQPUTeLaf1+5RKo9pDg8zZ6ntnQTUKwbRc7KQ7hG/1LISzgMTi4dFDN4XCW3xZOdlX0So6vMgaZV12WakCVeQ7ALfgII04vF34aEAAAAwQZ4JRRE8Vy1gFhUVi2OS/8HxUd1Mwyftbp2hfL1MRTAf1ti6AdXFP2tSIpobnnWhAAAAFQGeKHRHfzUO7HbFjO/1avk7y0gvYAAAABIBnipqR38UK2JXqovfymDPZoAAAAAeQZosSahBaJlMCf/kQO+o6/7C8CamHqHjcuaS0lpzAAAALUGaTknhClJlMFESz//kQPVS/hX+OYv7JpvEKvR1YAdcx////B5SYyJJiS7SiAAAABMBnm1qR380lZfIelpK3fHu2JFBAAAAO0GacUnhDomUwJ//5EAP3x3gGX+RCWnAcNDaesqxvg8NSr4Jy38t9AMUhlfHVFVaF6aIREPTJeujdOykAAAAEkGej0UVPGcQFy4Dt899YZwVTQAAABMBnrBqR381Dx14Yp+GwK+he8PBAAAAGUGaskmoQWiZTAn/5EAMePsOGv4UP6sPOIEAAAAdQZrTSeEKUmUwJ//kQPVS3RWkIQcoeOaxbc61/4EAAAApQZr0SeEOiZTAn//kQAx43Yc8m8BkfXm16F5bdu////g8pMZEkxJeimgAAABHQZsWSeEPJlMFETz/5EAMjx3gGX+RAXlayo1I426epa5yWXDL5k6Wdr1HJVYOXcrAc4i3kKfBb35IelyVr6d0laav+AINWMAAAAARAZ81akd/DVSXHodexT+wEYUAAAArQZs5SeEPJlMCf+RA9VILrKw+ONYyh3gJr3CpkX08cf///8HlJjIkmJLytwAAABRBn1dFETxnMZSSXPxcGrVZzb/cFAAAABoBn3hqR381DyAEhJgaU0UJxfMeItqGBpOVVQAAADtBm3xJqEFomUwJ/+RA9KBOAfIEAaS6Fhska2QJZmbJ6Iu9BV/Km8+fkA/iXa/seO8lR7yFn6L+JkXWUQAAAB9Bn5pFESxnMaF30nwU3HEqzUoJls5NvCekMFAYmJtxAAAAEgGfu2pHfzSTzNOm3sbmY7EzoAAAACtBm71JqEFsmUwJ/+RA8DRvdoAmvtJOAj0mL9p+/l/G47yjjjZh7vsvSYfoAAAANUGb3knhClJlMCf/5ED1UbbSmPKkgCZ/mazZ82Ty5JOxy/G47yjgjSCIpe6M2K3ESYTf/ofhAAAAM0Gb4EnhDomUwU0TP+RA9VL+FQYOtKhMmgQnKmYIkTH///8HlJjIkmJKaOqya1miX/+13wAAAB4Bnh9qR381A84TBRFEPQO6kn///+CbDb5WXJvwhrIAAABPQZoDSeEPJlMCf82cUf/RzEgf764Ex+vafzasLFwS4C4Zqi+GrCEPA8/ZvKkosJZfb9heRrzkjHYVv2+GQ5q3s3tYNi5KwuudSByeDmRVQQAAACxBniFFETxnyDTOVdlR95JTAdxbL33SJ6QZZeU33QsUGGuzzVeN2BD0DsRBvAAAACoBnkJqR3/LPevQUFk3CP1NWqzkywTwCh3GLLaeFd20lSo1iPIh52yzybEAAAAcQZpESahBaJlMCf/Nb4R65AuJv/w38BOUJgAM4QAAACJBmmhJ4QpSZTAn/+RAB2wHLNOAvmOuoD2UysRb//hR/5LgAAAAE0GehkU0TFcG5095zMBpMp/26WUAAAAPAZ6ldEd/B9kqrLh1OvqAAAAADQGep2pHfwfcCwgATekAAAAiQZqpSahBaJlMCf/kQAmmQmUwOHAgdf6gClJ3JVrcgC/JywAAABtBmspJ4QpSZTAn/+RACaZCZTBOKIUQJRx/lqgAAAAUQZrrSeEOiZTAn//kQAmmPBcl7HQAAAAbQZsNSeEPJlMFETz/5EAMeOunWTDG6BIDI/UTAAAADQGfLGpHfw1eE3+hv/AAAAAcQZsvSeEPJlMFPP/kQPVS/hX+PN/0s+U3ib6egQAAAA8Bn05qR380lZjQTDXt4rAAAAAgQZtRSeEPJlMFPP/kQO+o7VU38N0fW1l1b/whfgJKzB0AAAAQAZ9wakd/NBudLfQf0OVtlwAAABRBm3JJ4Q8mUwJ/5EAU+W25u67ZgQAAABxBm5RJ4Q8mUwURPP/kQPVSC60LQlzcVKFLClkxAAAAEQGfs2pHfzUSwGsa2o/mSztgAAAAF0GbtUnhDyZTAn/kQPeP26MLTZo8o/ETAAAAHEGb1knhDyZTAn/kQPVS3SJkmoDI2BdBuaAQNoEAAABRQZv6SeEPJlMCf+RA9VHGtDsqSDt8gPEtNWthujtIdwjf/bE06z18KnwyZQ6iPxiiCToyGTDcQxISydjDHc1LreuAUB3miDoIXPWOmrE6tisqAAAAMEGeGEURPFcuS6r+dbxXAIkIG+qOGT+d2EWk6hkKpUg7cgzl7hTTOMyylm2LCtvUgAAAABIBnjd0R380EvSkrdVHGFDnJk0AAAAtAZ45akd/NJWbk5OC+DMy+oasPBC5cNpBZlU+uTd57HOAxmub3q9Dew40Y9UlAAAARkGaPkmoQWiZTAn/5ED1Ut0WAqzUCd/hGeQzXKA79fxjwsLD8b1176bh81yI8MFhly9BU9W679rGdw8Cqe+AlPVXN3L3+oEAAAAjQZ5cRREsVy5BQ3PjimaAH6w1p/P///weQ/JWex2FZ+TQ7SgAAAAgAZ57dEd/NBySzzu4w5XyN9z+Jg9Q6LuT/R8K766M4dAAAAATAZ59akd/NJWXYAXzwXuygjUtxQAAADlBmmBJqEFsmUwUTP/kQPVRttLSp7ys3we/N/pod4Bl+1Z0I/h9USuSE9xu3/8f8zhbH6WRZ4mVC4AAAAAVAZ6fakd/NQ8f9MU4TR1rJ8l5vMdAAAAAO0Gag0nhClJlMCf/5EAMjx3gCIfkQlpWsoyO/+kUyIPDUq+Cct/LfQDFIZXx1RVWhemiERD0yXrq/R1jAAAAE0GeoUU0TGcMtGs/6yisGPOsk4QAAAAQAZ7Cakd/CmM2+vpQJkd6+QAAADRBmsRJqEFomUwJ/+RA65CgH+f/uTev29/+mRp2ryMK5/6gnEb8XE/4LyWLjtS/pjseIXknAAAAOUGa5knhClJlMFESz//kQPSgOUoDOlWefruNWgB5AsnAVJBTyiifjN5c7GiXz///+DZPvcyZ4+KZQAAAAB4BnwVqR380KjcAYM2cUkvLFA6ehUiMUlRlwEsRD3EAAAAzQZsKSeEOiZTAn//kQPVRxpuDxXiAmt/at1bfMwdpuISsqJv4B///+DywfkTB8lVbPDsoAAAAF0GfKEUVPFcuS5CqkIIK2s9EUsRteHhJAAAAFgGfR3RHfzS7NYql7G6qkNjGSB5UPuEAAAASAZ9Jakd/NJPM06bexuZkR5aAAAAAP0GbS0moQWiZTAn/5EDwOxsAmkL+28n/+z+ONiudWXPtkorbFJWME1y7I6Aq9/zO+FZSvC/pO5GjTvRHiUWAYAAAAGJBm25J4QpSZTAn/+RA9RKi9yZhXQvBOe8lbOgvLJeJVx2zvnIbP91Ih3V8AiJg2457WzNv2Mt7DxowRd1Xjw/56MotR9567l/riwlIQSWU1cBXHyd5k5brVJJkAux4hk85gQAAACtBn4xFNExnMoyL3ibvln+mOiW+fVUYq8EMUl4rRWnVEad6cc8Bxkwtz0bGAAAAJwGfrWpHfzQaQkl71jSRuHEcmWCeAPNRnA+aD6bMrDTPPVVuE2fBOQAAAExBm7JJqEFomUwJ/9pmqO+0uAyjLypEyZ9xGXBlOeZX1jFD+d1+Px8N7LNa4H/JDO8cMih44evNtZLNjIAsHwq1Wvv423B8E4m/8JjAAAAAEkGf0EURLFe8aeTaE4+VrfIwwQAAACsBn+90R3/K3T6vAwBSWOeTKc2rxKNo5Xkmyngx/6fefaHbk/1ctwFhL6blAAAADwGf8WpHf7nFdvwh+58zwQAAACZBm/VJqEFsmUwJ/+RAB2wHLNJ0qRggdQGWyzk//wmmSMp2aAaGkQAAABJBnhNFFSxnulh+7XSpM0eM2KAAAAARAZ40akd/ucWRB1ZJXrtgqIAAAAAbQZo4SahBbJlMCf/kQAmmTKtkG89xD/BDPrlBAAAAEkGeVkUVLGe6WIi+tfWPSEK2IAAAAA4BnndqR3+5xbrJFUvZIAAAABhBmnlJqEFsmUwI7wBoWll7M0yrgB6+5kEAAAF+ZYiCABv/x1gS1I208NAxvgKeznHTpZAJWlU1JRaXy+CWlhn/HvH3AD1zFPt/iF/ioRBsK7fiZ7gTuABhRwMd1kQM+a/LH2cSmJnkUVv4Wy88x8L/auj2kYA8YZ24rgB1fsGUAbiB18Qf/im/t5IBbYjeQ16xAxapttzlTpckFZVsuUu8GDcMdIWA3G3gcQpMvC3F2ZdNDdooHaad1fbgGaGull2fT5Lwcram3sek8eB1cechVkPA27h3gc7XU3yae0X83vuLFXHVXMqgddiOW4+OwdZVEyxpRaVRBh4Mu7bz0USsAG48NQXRtYJRgZ3TMSatolsysrf0sO7R+tuwRQzuppPkD/a9Ep0wxCbNQnn/kQ7XwayIA2Pv8o90i13uUDB3ACc2YTg1h44BOHpexEj58Ev53iHRxvJfZRaAOs4AfPxn/LkCjzWmRkQKwmU0LAygUkYYaMw+MPw+0brMaUBRI/ojsLUtcwKcIU199MUAjSGue+Gu4nCtZAaZaQAAACJBmiFsT//kQAx+OC8pRtlSQQzihKtHCpb0+D4f9uqppqhTAAAAG0GaQjwhkymE/+RA9VILrL/Hwogb+jHIApXyegAAADBBmmNJ4Q8mUwJ/5ED0oE4G0AFHXiuU13MpbDVOFo2tuc1H/ei2u6zan/IUrqI8rIAAAAAhQZqESeEPJlMCf+RA68mwCZ9YX1DOqrJZ05dvW05QFI/BAAAAIUGapknhDyZTBRE8/+RA96H3gmJmoE79thySE2AmOYV0MAAAAA8BnsVqR380FcgFnS+G4CgAAAAWQZrHSeEPJlMCf+RA9VLdFqlem7BWGwAAABlBmulJ4Q8mUwURPP/kQB6qkXoE3qsMc3vwAAAADgGfCGpHfxzZ+v4XR1bBAAAAUUGbDUnhDyZTAn/kQB8bGocHz+ygPY7RAKl9U6+js4ee7/6dNZ7Yzx69Aw6+IJpB+TSfz0QmIEBQo9AKN7/fbXQPeAFU53SSs4c5BEzS5n1EbQAAABNBnytFETxXGUJn8oOfnDKKrZTwAAAADAGfSnRHfxzoi3AElwAAABQBn0xqR38cmtHCn+W89kzLhxZ2wAAAABxBm05JqEFomUwJ/+RAD8Tf5Cse06bhngU3pYs5AAAAGEGbb0nhClJlMCf/5EAPxN/jYfBqaH2z4QAAABxBm5BJ4Q6JlMCf/+RA9VL+Ff5ANtq0G52W80JEAAAAPkGbs0nhDyZTAn/kQO+o7AWxqAg361UoyF4DaaCuFC5mL4PDUq+Cct/LfQDFIZXx1RVWhemiERD0yXrZl1nqAAAALUGf0UURPGcygDJY8Ojio8dqAEdkAyzHxSZmUfPcp3MC44eXkaZS2/k0T9n33QAAABIBn/JqR3800GJb/5meLt7vyNoAAAAZQZv0SahBaJlMCf/kQAx4+w4a/hQ/qw84gQAAABpBmhVJ4QpSZTAn/+RADHjdhtJYLa9bRWow0AAAAEtBmjhJ4Q6JlMCf/+RADH63kS3PJvAZH27K9jQBJHGhK5bHK/APCfum/Et1t5RflY7Erpqqw2nQQhJcxQHfntyVr6d0laav9axlHIEAAAAwQZ5WRRE8Zw59VgJs059yAZVySTznuH7UAhInu7cM1p02uyRnY6/6C1KiymR0jptxAAAAEwGed2pHfw1WpkrNiIraAyQ6dH8AAAAZQZp6SahBaJlMFPP/5EAJpj1ZTHktti6ENwAAABQBnplqR38PLCslIy986enpkYgXUAAAAEFBmptJ4QpSZTAn/+RACaY9WZUzEBqAGEllwy+ZOlna9RyVWDl3PC920uvcldPaTGvtGr3OIt5CnwW9+SHpn/0d4AAAABxBmrxJ4Q6JlMCf/+RACaZVwSsagTv2bFBvwRHvAAAAK0Ga30nhDyZTAn/kQAm3RJAZH5ELjkGyjBq1dXF/G47yjgjSCIpfwBBAk8AAAAAWQZ79RRE8ZwnN5vAF9/BGwLJOlz3M0AAAABABnx5qR38H3AQ121xFS4aBAAAAJUGbAEmoQWiZTAn/5EAHZm/uDr6AD0B////8Hlg/ImD5La/w8JEAAAAzQZshSeEKUmUwJ//kQAdmXHGQ+PADFUKkuoXoca1KW5pJ+dljy5NEoiRqI0zUKdMaqfrRAAAANEGbREnhDomUwJ//5EAHc47wCGfse2UyJBLx7Netay3v7HjvKOCNIIilmd6T2NW8AP/k9oAAAAAoQZ9iRRE8ZwgszZ+sXzsyxn1VGKvBDFJeK0Vp1RGnenHPAcZMLc82WgAAAA8Bn4NqR38GQqVcmMrD6IEAAAAnQZuFSahBaJlMCf/kQAXNnsLCxqBO9VhAij+X8bjvKOONmHu+0K9gAAAAN0Gbp0nhClJlMFESz//NVmcIershlQBIE7/uYMNRfA8cBdAf4z7lTgaTpY1+TzdF7mBfdb+71QwAAAArAZ/Gakd/yz3diD6lASkvDTVqs5MsE8Aodxiy2nSMm1GbdqPqig87ZZ4ygQAAABtBm8hJ4Q6JlMCf/+RAQecRgGWlYjq+0NSQ8AgAAAAjQZvsSeEPJlMCf+RA9VL+FTGEO5c5dQbRVEmvgF0B/+HAasMAAAASQZ4KRRE8Vy3XzMhrANcBj5n/AAAADgGeKXRHfwfZKiC5tmaAAAAADgGeK2pHfzTQSfnJ3L91AAAAKkGaMEmoQWiZTAn/5EAMjvoJpwRSxHZOHoB//LqOd0i565AJ7/T3DaTmYAAAABZBnk5FESxXLhj/VInuEARW0R2iF1fxAAAAEgGebXRHfzSacad2ToMdPFqxgQAAABEBnm9qR380lW0GXTksthImgAAAACJBmnJJqEFsmUwUTP/kQPVSC6lIyTKeGaeTfNs5M4gGx9LYAAAAEwGekWpHfzQXwku+8l+OP/h0bEkAAAAVQZqTSeEKUmUwJ//kQA/L1k/XHcuzAAAAHkGatUnhDomUwU0TP+RA8DRN0VX94eMq6yLvATXzIQAAABMBntRqR381Dx/t4l1o/1BIQ3EoAAAAHEGa10nhDyZTBTz/5ED1Ut0YZJN70pgMmCsmAEEAAAARAZ72akd/NBwn5Zkq0TCps4EAAAAUQZr4SeEPJlMCf+RAHv5APaWe2h8AAAAUQZsZSeEPJlMCf+RAHqpTJ/JWBrEAAABMQZs8SeEPJlMCf+RAHxsahwfP7Inex2iAVL63tqdk4egH9Oms9sZ49eNAdfCTfcH9ndTD/YKVySx8Ak50jPIKTbZU0Wl3r5gvtrMbhgAAABNBn1pFETxnG4Z1AVs3blLyJDjgAAAAEQGfe2pHfxya0cKb6Y6tBHHBAAAAHEGbfUmoQWiZTAn/5EAPxLjmrTO0JY0PtAbnvoEAAAAiQZueSeEKUmUwJ//kQA/EuOatM7MpvAZH8YEi86XkIq9mXQAAACdBm6FJ4Q6JlMCf/+RA9VL+FgKs1AIb/HpWJewey92z8BiDux1HC/EAAAAwQZ/fRRE8ZzGU8rWjN9FUC06sp1tIBlXJKF8AWdWSM7HW2Et0fbdGSJLjM/bxQtHRAAAAMQGf4GpHfzUPHXh8AnFj4yexv6oao/lS7gCTKTuYKEYsNNZQmwIsxj8+Wq3N83jQpIEAAAA6QZvjSahBaJlMFPP/5EDwNHE7OI/pSIAKdY3weGpVrxVjKrF36sB/HL8BVPvnr3lHrCPei7l4yFLD8AAAABUBngJqR380Gtpm8gDqFpfSNBcItOAAAABQQZoHSeEKUmUwJ//kQAx+BpDptEkCd9Vl46gd4GEKVoHJZcMvmTpZ2ujc6FkRDSx1TDBP77GmajY/rLtwNAsqauzRmSe7whjqkb/CqpO/95cAAAAzQZ4lRTRMVy4KAq/Mof9ocKqoU7abNsMn7W6doXybVTd5+22xjtpnBuyGx8hyj19xPImAAAAAMAGeRHRHfzSabVOBv4m072/qGqP5Uu4AsxXYzBQjFhprGLZnBozBlypLN8WcfHBowAAAABUBnkZqR380GprgaXsNpu3vq4inyuEAAAAvQZpKSahBaJlMCf/kQAm3RJALX+60xSgkE0JxVELEEx//5/wM7t3qF27nUgs/zSAAAAAWQZ5oRREsZwnN8Uh+uptO2A2XkDWs4QAAABMBnolqR38IydQAWBCDMWd/S9SBAAAAGEGai0moQWyZTAn/5EAHZlxxbSWt4QNMJgAAABpBmqxJ4QpSZTAn/+RAB2Zv7geIEtI5XJ9wZQAAADRBms5J4Q6JlMFNEz/kQAdzjvAF3/Y+68yHqvBf5C+9yy/G47yjjjZh7vlhUTwat4Af/J7QAAAAGAGe7WpHfwfX2knDNWMyppnjXgQhh/txgQAAACZBmu9J4Q8mUwJ/5EAFzZ7CwsagTvUHYIlb39jx3lHBGkERS+XYQQAAACJBmxBJ4Q8mUwJ/5EAFzZ7CTCLUBkfl/G47yjjjZh7vs9/AAAAAN0GbMknhDyZTBRE8/+PlmC4PjJO+0uBMfsedra4xkM//59Pvf2Q0zd9wa/vvwFWXJHLqAgTXldgAAAAqAZ9Rakd/yz3sGOnAUks4+dWqzkywTwCh3GLLa1QD+ozbtR9UUHnbLPP5AAAAMEGbVEnhDyZTBTz/5ED1Uguspgm6ohrU4kD6D/5Uyp6C5v0fmynDZsaqQ8FhINt10AAAABMBn3NqR381Dx+yIdsP7o+IH6SBAAAAIUGbd0nhDyZTAn/kQPA0cQZF8FnfR2cPQD/cr+c5jzbukAAAABZBn5VFETxnMoyL40IPypIXIkm2EdFhAAAAEQGftmpHfzQanD925hKYl0CVAAAAF0GbuUmoQWiZTBTz/+RACaZLbU0lkNOBAAAAEgGf2GpHfwpi7JcZkn23Jns94QAAAClBm9xJ4QpSZTAn/+RAD8KpAn26K8cii/95ch5yWZFV5lQ2P6nKzGHScAAAABRBn/pFNExnEER/wQsbHMy5XRXmTgAAABQBnhtqR381Dx/1Rdrr63soLTqAcQAAAB5Bmh5JqEFomUwU8//kQA/EzWpQZqQdoQJKSBO/jhAAAAAWAZ49akd/NQ8f9dsx172uhbHQgVn0kAAAABpBmj9J4QpSZTAn/+RAFPmB7nD22hqBO/nzgQAAABtBmkFJ4Q6JlMFNEz/kQB6qm2gFUxkhqAWv660AAAAPAZ5gakd/HNmImkFO1yGFAAAAFUGaY0nhDyZTBTz/5EAeqnrn9uIGsAAAAA4BnoJqR38crxecVeGmqAAAAEBBmodJ4Q8mUwJ/5ED1Uv4YdlSQ4PID5j2joJp2QZ/U7Jw9AP6lj1mLIW//j8xkyP9Qt595KWYHo3eeIvaS+wP5AAAASUGepUURPFcuTNG5hqcQqdPNxxIlVKlM4rmwDlkMWXD63Fd5we9I3vuttxf6bZJavdasOjLR87ZB9XXapR2PiVzR8h764RINzYAAAAAWAZ7EdEd/NQvIvYNG1cVCYM3RGW5UMAAAABwBnsZqR380nKuAMU0CKSHv0+9e2PDRa4lEsVKBAAAAIEGayEmoQWiZTAn/5EAPxN/jYfBvAd7z+taLaQQz7SGgAAAAIkGa6UnhClJlMCf/5ED1Ut0WAqzUATP+PSsS44dRqXXTc+EAAAA6QZsLSeEOiZTBTRM/5EAMeOQSDybwEG2XRIZMxfB4alXwTlv5b6AYpDK+OqKq0L00QiIemS9dqiUn2QAAABIBnypqR38NdYGVAShzu9qyFRgAAAAXQZssSeEPJlMCf+RADHjdhtJYLa9bbOMAAAA5QZtOSeEPJlMFETz/5EAMeN2HBj6AKdY3weGpVrxVjKrF36wXDZr+xFvtngNlYwBKRVp+Xh3I0EIsAAAAFAGfbWpHfw1eCOUHZPKqjDB6mm9ZAAAAVkGbcUnhDyZTAn/kQPVSDChAUFeK5TXcylsZiNCVG5+0/TLbhxCVf+ZQDQ15SXff7eyJup9387IoH+7bLDtfXO7LZ/hfnkoGRw5gl8hMQCdV4r8exv3lAAAAGEGfj0URPGcyCg1hm5UK52/8q3aJQjcwcAAAABUBn7BqR381A8+NQGskay8YMqIBKSAAAAAzQZuySahBaJlMCf/kQO9N9m1AL+p17fnvQcKNoAYH0H4AKAObGs8dtH2DBQfj6Kn1E1yBAAAAQUGb1EnhClJlMFESz//kQEjStmfc5qBO8w74qr5LDhG1Y3weGpVrxVjKrF36qolVf2Iuoj873lHrCPei7l4yFLZoAAAAFgGf82pHfyhPpfMXsWYv36Halctu/78AAABFQZv2SeEOiZTBRM//5EBJbsflJIE7ulmFCCaML//ryAsv/+/P7N/bx7Tfn+IJx+QtPW1o2gMsfwXXQPB5R61vnq5t5NMKAAAAGgGeFWpHfyhQFXzs9uLLDsijZNoGgoan1ZPxAAAAWEGaGUnhDyZTAn/kQOuQoCEdVXKa7mUthq5mk/pZDS/odaHe+Ozd0+JCzLoiY2jBGGM7kd9gjJ4TIwcu/wELsAuMuhxf5/Bl24EL0J10M5XHekPt7kgnld8AAAAxQZ43RRE8ZzIKCQxhBlmwC0iVziTNd9GKvBDFJaCImN1RGnvLGMaIIsJZOXS+f4rJgQAAAC4BnlhqR380k/bnKVkAQLzbOJgkEGqzkywTwCM1Qi8E4pzRUFtJJJebhM8iViLDAAAAUEGaXEmoQWiZTAn/5ED4Do4cx6/B+8myxf5ba+V6CG/RyMAvLbcn89khOAtXf1ax0l9aK7YDWu+u+/cUUM3/+OJMwfe3IH8++2PIpYKxs0GwAAAAGkGeekURLGcykR5J2fTWjvDMyaETWT0t5tXYAAAAFgGem2pHfzUDzggNnE9qhQHWJ+TfskEAAAAZQZqdSahBbJlMCf/kQPVRttKDB1ucKPQPngAAAEtBmr9J4QpSZTBRUs//2vpkgf764Ex+yLf4LGxbxJfy+JO10yvJEPW295orzANtANqJlLLxe5BThI9NdekBXeNFMen6F7oZAFg7ccAAAAAfAZ7eakd/yz3c2KDXUeJdD7gZrgcRYMaAbh4RKcCjeQAAAB9BmsFJ4Q6JlMFEz//kQAXW7wTvrSflADBmgQ3//6ARAAAADAGe4GpHfwY3ChtZgQAAACBBmuRJ4Q8mUwJ/5EAHZmezEF3gNUoD2UysP3//hLf5LgAAAA9BnwJFETxnB4LDJNWll5AAAAAPAZ8jakd/B9wLDXRCRomBAAAAJEGbJ0moQWiZTAn/5EAJpkovANEGIIUQJRx/rOv+H79iV30esAAAABNBn0VFESxnMoyQJYR3XKPSg1O4AAAADgGfZmpHfzSVTWciUg8ZAAAAFUGbaEmoQWyZTAn/5EAJpjwVvKAgeQAAABpBm4lJ4QpSZTAn/+RADHjpusVK8Y1AZH6iQQAAABhBm6xJ4Q6JlMCf/+RAD8TPZdQNVoxVIgkAAAAQQZ/KRRE8ZzJVABd2Czif1gAAAA8Bn+tqR380GzHyzUaiLsEAAAAYQZvvSahBaJlMCf/kQBT5nsugGru69sdTAAAADkGeDUURLGcVeThrtpxHAAAADQGeLmpHfxacXX8tsA8AAAAWQZoySahBbJlMCf/kQBT5nsugGsLZgAAAAA1BnlBFFSxnFX+FfT0RAAAADQGecWpHfxaimq7Wr8EAAAAbQZp0SahBbJlMFEz/5EAeqoeKBJD55vAnfyPwAAAADQGek2pHfxzjRSOJOXcAAABPQZqYSeEKUmUwJ//kQB8bGocHz+ygPY+Hom9DBZo7SHbsr6hFvmkJvvqrXxDN4Y8F4tSedlX0SpIQsitjG67MrSBKvTp/oD4EEac/NNRwwAAAAC9BnrZFNExXGQg7xPL7Sn0HxTz6Zhk/a3TtC+XqYimA/rbF0A6uKftakRTvHHwXYQAAABIBntV0R38c5/XGbZDnGXu2QkEAAAATAZ7Xakd/FCvA0AmwOnqio/C04QAAAB1BmtlJqEFomUwJ/+RAD8Tf5BNvWkNWdceI5fzQQQAAAC9BmvtJ4QpSZTBREs//5ED1Uv4V/jmMJDvAMv2O3zsFxomP//P+Bndu9Qu3c6kFiAAAABMBnxpqR380lZfIelpK3fHu2JFAAAAAPEGbHknhDomUwJ//5EDvqOwFsagIN60rwePTxJVvDBkQh0TPF2Ei8+VvDLl6Cp6t137WM7h4FU9tIBNIYQAAABVBnzxFFTxnMguJOFZ81/Q2N6l3U4sAAAATAZ9dakd/NBraXXVRxmy2J3BeJAAAAB5Bm19JqEFomUwJ/+RADHj7DhoyF6hcpegk0OD5AsEAAAA4QZtgSeEKUmUwJ//kQAx+t2xm9YNZQSNTIg8NSrXirGVWLv1hC5Mr0rfQDFf+3EIWoTQEhnrwRYEAAABKQZuDSeEOiZTAn//kQAyIpBeXVmoE76tSOL3LKJkUjjbp6p0z9fANHzJ0s7XqOSqwcu5WA5xFvIU+C3vyQ9LkrX07pK01f6k62AkAAAAUQZ+hRRE8Zwy15DrL69LR0zCcF8AAAAASAZ/Cakd/C332ly0Y2np0QS/AAAAAHEGbxEmoQWiZTAn/5ED1UgusrD41AMRJJD4h73MAAAAyQZvlSeEKUmUwJ//kQPSgTgHyA7YL27f9HJigA0nFjXQLv+J/7s0AZM+VAsqtcEUhApwAAAA/QZoJSeEOiZTAn//kQPiZqFkPMBDENzhW5nq/J8EOafpIegYGxLDYRgNiysPBmf0eXz///+DZv9YH2XnHLMlwAAAAOkGeJ0URPFcte8PSnTz3+JFV4JvzinLs2PRKu80HxSsYRkeA5cKYlwnuYOgFS22tnL0rzBY9/P8qJ8EAAAAXAZ5GdEd/NRLgUB9vdEuoHVqXo/aeaS4AAAAZAZ5Iakd/NJPGwI4I51XgIPFLsRbptZ5uwQAAAC1BmkpJqEFomUwJ/+RA8DRN0PZvAnftIC7QnJKweB0H///4PLB+RMHyVXBy+oEAAABJQZprSeEKUmUwJ//kQPVQ3NuA7YL24Sj/n6OTFAVK/+9ktPJbJIaxQ9el8wrabkCUN5tmyHQFH7FrBg9JYZgJrkBGjaYMWnYBgAAAAERBmo1J4Q6JlMFNEz/kQPUSnsIDthS2KD0ckwv2jOe0ke6OUTZf/FBsTZC+cElOD6Z4D2oVognY2X83kUJzBteZxtf5nQAAABoBnqxqR380Fb4AImNPiGhQhtSvdjEmSD/tRgAAAElBmq9J4Q8mUwU8/+RA9VG7G4moPVagKRJezz/4LoMTcMfANHzJ0s7epVzx4sFEbzL/c9Q4y+3MjUuAwBXfoUikAViVODhtvarBAAAAGwGezmpHfzQaQkv7TAgVf///4JtBXZpdWTTQgQAAAC5BmtNJ4Q8mUwJ/2kZMcd7KUB7/Wv/sjO3n4fgDS15WAmO8BNca0uaBtgR/iONjAAAAKkGe8UURPFfEYZ1kX/b8D5YLo2otzso8HwfZHFF8b7LcA8IfVFBBZi5QXgAAABgBnxB0R38GMm749Q349EUtg575Pdp+EmkAAAAOAZ8Sakd/w2fjaHFaFg8AAAAnQZsWSahBaJlMCf/kQAmkwfDdH1tZdW/+gIICoo1rAeNQBl+EWdW3AAAAEEGfNEURLGcJ5Jv/Zh8uVzAAAAAOAZ9Vakd/CnYu2yW2LkEAAAA1QZtXSahBbJlMCf/kQPgOsE+bgAbWYvPx/3WOZS2M/sqzFDr7uhdt8zBYI6eP7DIbFKX/bcEAAAAmQZt4SeEKUmUwJ//kQPSgOUoBWYL0CHo5GkMJKsnZRIxa8EEOpMEAAAAlQZuZSeEOiZTAn//kQO+6YApusYoAOnVV2QYc2SpjjFNVXsyHQQAAABxBm7xJ4Q8mUwJ/5EAP3x3gBOfyIeyttUFSFvHAAAAAG0Gf2kURPGcxoXTdFjG6ZdRPPJSYpz9Y05++wAAAABIBn/tqR381EBi501V3sOTa3oEAAAAlQZv9SahBaJlMCf/kQO+o5s5A4fl1wBtPZIRESrrmTVqZoAZcwAAAABhBmh5J4QpSZTAn/+RA9VG20v8dMn7XUIAAAAAgQZo/SeEOiZTAn//kQPVS3SGcAQCaSsRzasqz7v03n5kAAAAkQZpBSeEPJlMFETz/5ED2Nvi5ZWKewz9Ia/yBW3NykzCofg3BAAAADwGeYGpHfzQblt1S0zma4QAAABRBmmJJ4Q8mUwJ/5EAU+W25u67ZgAAAABtBmoRJ4Q8mUwURPP/kQB6qkXoE3rnm8BBvrrQAAAAOAZ6jakd/HNmIKsFNyYEAAAATQZqlSeEPJlMCf+RAHqogn7JgawAAAE5BmslJ4Q8mUwJ/5EAfGxqHB8/soD2Ph6JvQwWaO0h27K+oRb5pCb76q18QzeGPBeLUnnZV9EqSELIrYxuuzK0gSr06f6A+BBGnPzTUcMAAAAAfQZ7nRRE8VxkIO8Ty+zFJ2XZ////B5D8lZ7HY+83WFwAAABABnwZ0R38c5/XGbHK1vcJRAAAAEQGfCGpHfxHWN+9goi7zfdGtAAAAIEGbCkmoQWiZTAn/5EAPxN/kE29aQ1Z1x4mKm8Cd/XQRAAAAIEGbLEnhClJlMFESz//kQPVSC6y/x1qdfva1oAhW88iAAAAAEwGfS2pHfzSVmReclSIRx3o9YUEAAAA+QZtQSeEOiZTAn//kQPVS3RYCrNQEG/WrNkvYPZfX5jlr1qD+9cvuPRhOiud7yjxOs6eF8imXdWQ/hu0MJdQAAAA/QZ9uRRU8Vy5M0bkCnEKnTzccSJVSnJmpGcSLNNO7YZRTwv8hn7sRUs8umowHAs1EAWxmUqV3JK9glsM1qxc9AAAAFQGfjXRHfzSYfFHP++RoFlze8UPswQAAABUBn49qR380z5e9UAC04LyWfn3Ec+QAAAAiQZuRSahBaJlMCf/kQPVRttLSEXCo9OF47wCGef91kY1tgAAAAEtBm7NJ4QpSZTBREs//5EAMjx3gBlf4xUqQH1d0/SRxoSuGplfgHhP3TfiW628ovysdiV01VYbToIQkuYoDvz25K19O6StNX+qHZjkAAAATAZ/Sakd/DVao7hVuqli3cXIRQAAAABpBm9RJ4Q6JlMCf/+RACaY9WYhSVssW0co0MQAAACVBm/VJ4Q8mUwJ/5EAJplXA3otQRzQf/8/4GedB5bIP51B60PRQAAAAGEGaFknhDyZTAn/kQAmmVcCbj6foO5nrnwAAAFdBmjlJ4Q8mUwJ/5EDrkKBQ+//hkQc5ZNf/+3eB7VkXoJoJ/qAbqC5W8QnpHG3T1L5qcuGVC797O15Dkqg3l3K0nOBtas2NJiV7Cg6rbtznERxnnj+8GcEAAAAWQZ5XRRE8ZzILWGlpD2jb3GVw1pn1wQAAABYBnnhqR381Dx+yOQ/wNdRS65mhospvAAAAKEGaekmoQWiZTAn/5ED1UbbSmHEeVZKSVAYO9/Y8d5RwRpBEUvmtgqAAAAAkQZqcSeEKUmUwURLP/+RA9VG20pgzW7E62RGHp2F1WWAmvZugAAAAFQGeu2pHfzUPH/QgP30P9OLOS95QIQAAABxBmr1J4Q6JlMCf/+RAB2Zv7kybwdvuUqQutUa0AAAAKkGa3knhDyZTAn/kQAdzjvADK/Xfqweb/CF1tSvHZ8xdQTn/9Id/ZSv/eAAAAD5Bmv9J4Q8mUwJ/5EAFza2ExRI40JXxBVpZcQk/dN+Jbrbyi/Kx2JXTVVhtOghCS5igO/PbkrX07pK01f4nMQAAABtBmwFJ4Q8mUwURPP/kQAXNnsIQs0aRAnvUyB0AAAASAZ8gakd/BkLAsBIbUwV5GK1JAAAAY0GbJEnhDyZTAn/MSZw8dCVh32lwJj9jztbXGMhn1JdJTqcYoKf/q03LH/dvFOfvVIjsCIdOPIThMeQ6SUFXqBoxdqS7zu9xgBKfqqcE1swqS3HYBcQoJBNoCEOqaQXA03Y3gAAAADRBn0JFETxn3CbU+Q/wEUc7Q9IQG14IXPIZJYIsgHxvTO/7v9n1J/emeUH2+bQejxqsHxm2AAAAHgGfY2pHf95bFKXqqlfMPBIa4HEWDGgG4eESnAolgQAAABNBm2VJqEFomUwJ/+RABdTuJFKIAAAAI0GbiEnhClJlMCf/5EAHcDpArLTa90ha6PyZzzeW//zWLPJcAAAAEEGfpkU0TGcHj3lTGv0jUREAAAANAZ/Hakd/B9vVTfpSoAAAAB5Bm8pJqEFomUwU8//kQPVRxrKwpoUTt/WzUAhv36kAAAAQAZ/pakd/NQ8fsmoIhMc5IwAAABhBm+tJ4QpSZTAn/+RA9VLdFWFKmaHP6UAAAAAWQZoMSeEOiZTAn//kQPA0cQZkbpvxywAAABtBmi5J4Q8mUwURPP/kQAx466ezOxcY1Anf1EgAAAANAZ5Nakd/DV4Tf6G/8QAAABpBmlBJ4Q8mUwU8/+RAD8TNadP+URjUBkfo+wAAAA4Bnm9qR38RRMQVYKc1gAAAABZBmnNJ4Q8mUwJ/5EAU+Z7LoBq8OaT4AAAAEkGekUURPGcyjIzVHH4VVaFi8QAAABABnrJqR381Dx/11kb6q774AAAAIEGatUmoQWiZTBTy/4cAcVKQ+ye9HD0A/7KLaMW7W6upAAAADgGe1GpHfxzZ+z7XR1bAAAAAFkGa10nhClJlMFLL/4cAcXltu7uhwwkAAAANAZ72akd/HK+Mp6hEsQAAADtBmvlJ4Q6JlMFEx38A418UAH3598mXjCKayAKcLRsoz3bZv8EpMzKPvOS4sp18KvywgasqXPqbBgfngQAAABMBnxhqR38cmtHCp7OMt/UM8fGJAAABn2WIhABfxZgSwXt24wpKqJEFhjmQfuG3W9k4ks6r/S7dhvi7G7c+xA3Dfyejb5c3IjLs+OY7/nSlShRPbINv1QQzyFszqx8Gu+ZOaOvuoBBhNBjJz5wPNh5+Eg++n7gOIh414ARb+N6blE/3mN/8038m1kaKJ2P6l4MRoKIdWaEbUGCv5HZVVLn042qnHoFEif+cnAsdz49no/S4wwm8VsZeS1ozRXoKI23kHGkJp0PCs6exoQhs1Lf3hCobcxGrBJnIRbmew2C+m32i/lzfu5rlZ8ea3jzgzAxDcnsHe5j+DcVKXSxU/Qc46V3UfUh78SAJp9g7y3cedlEZAIrExpN74W4c9ctaT18DK0yiuaM7m65NrHB/JjwsXrj77c/rqJuQpHr483uXHT1fxFsPRRiCgWS4x8AAAAUuAAApVqkAn/kQoKTI+7AbkEcz6dPv33KVlt6t8DouZumibGw/r74r+FT+PZ764wZA9Jdblt8pxEJ+XDtLFnfWYnbJYMYSHiMlbs2q7zHkTNLjxvlzmfxGFjKBmqTr0bVCT4ddr+AAAAAmQZohbEv/hwA9C0eZBkW82YbMcdYBl87UlZKAW0v36ls7GqNGtDQAAAAXQZpCPCGTKYS/hwA87q699Wq+l56kt+0AAAAvQZplSeEPJlMC/wAFJnBlHRyuQAnP7ANMiTgxEBDyG+Hf////B5P0sG+i0R8HL8AAAAAaQZ6DRRE8ZzKMi+Pw4FBzf+IGnUgwdaX5GVAAAAAUAZ6kakd/NQPPlI0x+a0yAFSYntcAAAA0QZqmSahBaJlMC/8ABQ209iabn7DAavEARP5K0+TPE5Ohy4oPwTNEc8Rytr0zgUEyRqwQMQAAAENBmsdJ4QpSZTAv/wAAWlHqBGD1QCc0unW+vXwE6Fp4Hv1UbNb7rCHdQ78CSSdk4EXVUa9ybGWlk9O1FW9EQHnvJl4jAAAALkGa60nhDomUwP8AD5xeex26UMAY/6ml4ajk0ZlAF8E+Lf///g8sI47Nis3JvcoAAAAiQZ8JRRE8Vy3X8wybDLyN0xYayXZ////B5D8lZ7H8vzPZ4AAAABUBnyh0R38NoCTqazJtSClv4frZz4EAAAAUAZ8qakd/NQ8f9JVEA7hS5Ifu9OoAAAAoQZssSahBaJlMD/8AD30ndC/pLaldqgMceHzW//7/gm5s/DWZG/JCdAAAAEZBm05J4QpSZTBREv8AAQbO/ACc/AslKP8l3LRLOwkrRTRIQrkSOuaFyqoZT6lZuVND15FwTFN/yhiASpl7dd6y0vPPMTLZAAAAEgGfbWpHfwpcBIHj5OHv9DTDjAAAACVBm29J4Q6JlMCvABxyteEF+bVx+qof1t+x47yjT6wd8s/HI1zhAAAAN0GbkEnhDyZTAr8AHHKXdxAk1qJCHzrgkz+cyaeoKLB2dQjBECVaFaa//EJAh0qe5OAV+MevHGEAAAApQZuxSeEPJlMCvwAaxkgKbvAbw4kfEZYWjLpsRrDjgLyJlERYg+fv+oAAAAAqQZvSSeEPJlMCTwAxSq+k6lWDafD5ACK/hO0ZfrKqmdzFwi92Lde3/8GpAAAALEGb80nhDyZTAk8AAlr5DgW1gENw9FxocA////B5MAkc3AUsFlrKEKS//JYEAAAAOEGaFUnhDyZTBRE8RwCLgEKK+1mwF/mGbB4c4v+75I6Mx/3GSTsgIPzTfh8fWyB0ogf/oFf9UAOBAAAAOAGeNGpHfzSTzHcncbG4Epj9f1O1Kmi5bDPfJDZNElVk+XcdyjcI5ycA28zy4bCc2u5OOoxRnmixAAAAS0GaN0nhDyZTBTx3AmLAPmG5z72+yZ8wIFKbb07zvq57kmEp21/c3lwseDPJ2ouUcIz4qemrFtbkTVXO5Pf1g5/uh/bomm4HEM+0jAAAABMBnlZqR381Dx/t2kDp9INgDBypAAAswm1vb3YAAABsbXZoZAAAAAAAAAAAAAAAAAAAA+gAAKAAAAEAAAEAAAAAAAAAAAAAAAABAAAAAAAAAAAAAAAAAAAAAQAAAAAAAAAAAAAAAAAAQAAAAAAAAAAAAAAAAAAAAAAAAAAAAAAAAAAAAAAAAAIAACvsdHJhawAAAFx0a2hkAAAAAwAAAAAAAAAAAAAAAQAAAAAAAKAAAAAAAAAAAAAAAAAAAAAAAAABAAAAAAAAAAAAAAAAAAAAAQAAAAAAAAAAAAAAAAAAQAAAAACgAAAA0gAAAAAAJGVkdHMAAAAcZWxzdAAAAAAAAAABAACgAAAABAAAAQAAAAArZG1kaWEAAAAgbWRoZAAAAAAAAAAAAAAAAAAAMgAACAAAVcQAAAAAAC1oZGxyAAAAAAAAAAB2aWRlAAAAAAAAAAAAAAAAVmlkZW9IYW5kbGVyAAAAKw9taW5mAAAAFHZtaGQAAAABAAAAAAAAAAAAAAAkZGluZgAAABxkcmVmAAAAAAAAAAEAAAAMdXJsIAAAAAEAACrPc3RibAAAAJdzdHNkAAAAAAAAAAEAAACHYXZjMQAAAAAAAAABAAAAAAAAAAAAAAAAAAAAAACgANIASAAAAEgAAAAAAAAAAQAAAAAAAAAAAAAAAAAAAAAAAAAAAAAAAAAAAAAAAAAAABj//wAAADFhdmNDAfQADP/hABln9AAMkZsoUO/HwgAAAwACAAADAGQeKFMsAQAFaOvjxEgAAAAYc3R0cwAAAAAAAAABAAAEAAAAAgAAAAAkc3RzcwAAAAAAAAAFAAAAAQAAAPsAAAH1AAAC7wAAA+kAABmwY3R0cwAAAAAAAAM0AAAAAgAABAAAAAABAAAIAAAAAAIAAAIAAAAAAQAACAAAAAACAAACAAAAAAEAAAoAAAAAAQAABAAAAAABAAAAAAAAAAEAAAIAAAAAAQAACAAAAAACAAACAAAAAAEAAAYAAAAAAQAAAgAAAAABAAAKAAAAAAEAAAQAAAAAAQAAAAAAAAABAAACAAAAAAEAAAQAAAAAAQAACAAAAAACAAACAAAAAAEAAAQAAAAAAQAABgAAAAABAAACAAAAAAEAAAgAAAAAAgAAAgAAAAACAAAEAAAAAAEAAAgAAAAAAgAAAgAAAAABAAAEAAAAAAEAAAoAAAAAAQAABAAAAAABAAAAAAAAAAEAAAIAAAAAAQAABAAAAAABAAAIAAAAAAIAAAIAAAAAAQAACAAAAAACAAACAAAAAAEAAAgAAAAAAgAAAgAAAAABAAAEAAAAAAEAAAYAAAAAAQAAAgAAAAABAAAGAAAAAAEAAAIAAAAAAQAABgAAAAABAAACAAAAAAEAAAQAAAAAAQAACgAAAAABAAAEAAAAAAEAAAAAAAAAAQAAAgAAAAABAAAKAAAAAAEAAAQAAAAAAQAAAAAAAAABAAACAAAAAAEAAAYAAAAAAQAAAgAAAAAFAAAEAAAAAAEAAAYAAAAAAQAAAgAAAAABAAAGAAAAAAEAAAIAAAAAAQAACgAAAAABAAAEAAAAAAEAAAAAAAAAAQAAAgAAAAABAAAEAAAAAAEAAAgAAAAAAgAAAgAAAAABAAAGAAAAAAEAAAIAAAAAAgAABAAAAAABAAAGAAAAAAEAAAIAAAAAAQAACAAAAAACAAACAAAAAAIAAAQAAAAAAQAABgAAAAABAAACAAAAAAIAAAQAAAAAAQAACAAAAAACAAACAAAAAAIAAAQAAAAAAQAACgAAAAABAAAEAAAAAAEAAAAAAAAAAQAAAgAAAAACAAAEAAAAAAEAAAgAAAAAAgAAAgAAAAADAAAEAAAAAAEAAAoAAAAAAQAABAAAAAABAAAAAAAAAAEAAAIAAAAAAwAABAAAAAABAAAIAAAAAAIAAAIAAAAAAQAABAAAAAABAAAGAAAAAAEAAAIAAAAAAQAACAAAAAACAAACAAAAAAEAAAgAAAAAAgAAAgAAAAABAAAIAAAAAAIAAAIAAAAAAQAABAAAAAABAAAGAAAAAAEAAAIAAAAAAQAACAAAAAACAAACAAAAAAIAAAQAAAAAAQAACgAAAAABAAAEAAAAAAEAAAAAAAAAAQAAAgAAAAABAAAGAAAAAAEAAAIAAAAAAQAABAAAAAABAAAGAAAAAAEAAAIAAAAAAQAACAAAAAACAAACAAAAAAEAAAYAAAAAAQAAAgAAAAABAAAEAAAAAAEAAAYAAAAAAQAAAgAAAAADAAAEAAAAAAEAAAgAAAAAAgAAAgAAAAACAAAEAAAAAAEAAAYAAAAAAQAAAgAAAAABAAAGAAAAAAEAAAIAAAAAAQAACgAAAAABAAAEAAAAAAEAAAAAAAAAAQAAAgAAAAABAAAIAAAAAAIAAAIAAAAAAQAABgAAAAABAAACAAAAAAEAAAoAAAAAAQAABAAAAAABAAAAAAAAAAEAAAIAAAAAAQAABAAAAAABAAAGAAAAAAEAAAIAAAAAAwAABAAAAAABAAAIAAAAAAIAAAIAAAAAAgAABAAAAAABAAAIAAAAAAIAAAIAAAAAAwAABAAAAAABAAAGAAAAAAEAAAIAAAAAAwAABAAAAAABAAAKAAAAAAEAAAQAAAAAAQAAAAAAAAABAAACAAAAAAEAAAYAAAAAAQAAAgAAAAABAAAIAAAAAAIAAAIAAAAAAQAABAAAAAABAAAIAAAAAAIAAAIAAAAAAQAABAAAAAABAAAIAAAAAAIAAAIAAAAAAQAABgAAAAABAAACAAAAAAEAAAYAAAAAAQAAAgAAAAABAAAGAAAAAAEAAAIAAAAAAQAABgAAAAABAAACAAAAAAEAAAgAAAAAAgAAAgAAAAACAAAEAAAAAAEAAAgAAAAAAgAAAgAAAAACAAAEAAAAAAEAAAgAAAAAAgAAAgAAAAABAAAEAAAAAAEAAAYAAAAAAQAAAgAAAAABAAAIAAAAAAIAAAIAAAAAAgAABAAAAAABAAAGAAAAAAEAAAIAAAAAAQAACgAAAAABAAAEAAAAAAEAAAAAAAAAAQAAAgAAAAABAAAEAAAAAAEAAAYAAAAAAQAAAgAAAAABAAAGAAAAAAEAAAIAAAAAAQAABgAAAAABAAACAAAAAAEAAAgAAAAAAgAAAgAAAAABAAAGAAAAAAEAAAIAAAAAAwAABAAAAAABAAAGAAAAAAEAAAIAAAAAAgAABAAAAAABAAAIAAAAAAIAAAIAAAAAAQAABAAAAAABAAAKAAAAAAEAAAQAAAAAAQAAAAAAAAABAAACAAAAAAEAAAYAAAAAAQAAAgAAAAABAAAEAAAAAAEAAAYAAAAAAQAAAgAAAAADAAAEAAAAAAEAAAgAAAAAAgAAAgAAAAABAAAEAAAAAAEAAAoAAAAAAQAABAAAAAABAAAAAAAAAAEAAAIAAAAAAQAACgAAAAABAAAEAAAAAAEAAAAAAAAAAQAAAgAAAAABAAAGAAAAAAEAAAIAAAAAAQAACAAAAAACAAACAAAAAAEAAAQAAAAAAQAACAAAAAACAAACAAAAAAEAAAgAAAAAAgAAAgAAAAABAAAEAAAAAAEAAAYAAAAAAQAAAgAAAAABAAAIAAAAAAIAAAIAAAAAAQAABgAAAAABAAACAAAAAAEAAAYAAAAAAQAAAgAAAAABAAAIAAAAAAIAAAIAAAAAAgAABAAAAAABAAAKAAAAAAEAAAQAAAAAAQAAAAAAAAABAAACAAAAAAIAAAQAAAAAAQAACgAAAAABAAAEAAAAAAEAAAAAAAAAAQAAAgAAAAABAAAEAAAAAAEAAAoAAAAAAQAABAAAAAABAAAAAAAAAAEAAAIAAAAAAwAABAAAAAABAAAGAAAAAAEAAAIAAAAAAQAACgAAAAABAAAEAAAAAAEAAAAAAAAAAQAAAgAAAAABAAAIAAAAAAIAAAIAAAAAAQAACgAAAAABAAAEAAAAAAEAAAAAAAAAAQAAAgAAAAABAAAGAAAAAAEAAAIAAAAAAQAABgAAAAABAAACAAAAAAQAAAQAAAAAAQAABgAAAAABAAACAAAAAAEAAAoAAAAAAQAABAAAAAABAAAAAAAAAAEAAAIAAAAAAgAABAAAAAABAAAIAAAAAAIAAAIAAAAAAQAACgAAAAABAAAEAAAAAAEAAAAAAAAAAQAAAgAAAAABAAAIAAAAAAIAAAIAAAAAAQAABgAAAAABAAACAAAAAAEAAAQAAAAAAQAACgAAAAABAAAEAAAAAAEAAAAAAAAAAQAAAgAAAAABAAAGAAAAAAEAAAIAAAAAAQAACAAAAAACAAACAAAAAAEAAAoAAAAAAQAABAAAAAABAAAAAAAAAAEAAAIAAAAAAQAABAAAAAABAAAIAAAAAAIAAAIAAAAAAwAABAAAAAABAAAGAAAAAAEAAAIAAAAAAQAABAAAAAABAAAGAAAAAAEAAAIAAAAAAQAACgAAAAABAAAEAAAAAAEAAAAAAAAAAQAAAgAAAAABAAAGAAAAAAEAAAIAAAAAAQAABgAAAAABAAACAAAAAAEAAAQAAAAAAQAACAAAAAACAAACAAAAAAEAAAoAAAAAAQAABAAAAAABAAAAAAAAAAEAAAIAAAAAAQAACgAAAAABAAAEAAAAAAEAAAAAAAAAAQAAAgAAAAABAAAEAAAAAAEAAAoAAAAAAQAABAAAAAABAAAAAAAAAAEAAAIAAAAAAQAABgAAAAABAAACAAAAAAIAAAQAAAAAAQAABgAAAAABAAACAAAAAAEAAAoAAAAAAQAABAAAAAABAAAAAAAAAAEAAAIAAAAAAQAACgAAAAABAAAEAAAAAAEAAAAAAAAAAQAAAgAAAAABAAAIAAAAAAIAAAIAAAAAAQAABgAAAAABAAACAAAAAAEAAAQAAAAAAQAACgAAAAABAAAEAAAAAAEAAAAAAAAAAQAAAgAAAAABAAAGAAAAAAEAAAIAAAAAAQAABgAAAAABAAACAAAAAAEAAAYAAAAAAQAAAgAAAAABAAAIAAAAAAIAAAIAAAAAAQAABAAAAAABAAAIAAAAAAIAAAIAAAAAAQAABAAAAAABAAAKAAAAAAEAAAQAAAAAAQAAAAAAAAABAAACAAAAAAIAAAQAAAAAAQAACgAAAAABAAAEAAAAAAEAAAAAAAAAAQAAAgAAAAABAAAIAAAAAAIAAAIAAAAABQAABAAAAAABAAAIAAAAAAIAAAIAAAAAAQAACAAAAAACAAACAAAAAAEAAAYAAAAAAQAAAgAAAAACAAAEAAAAAAEAAAoAAAAAAQAABAAAAAABAAAAAAAAAAEAAAIAAAAAAgAABAAAAAABAAAKAAAAAAEAAAQAAAAAAQAAAAAAAAABAAACAAAAAAEAAAoAAAAAAQAABAAAAAABAAAAAAAAAAEAAAIAAAAAAQAACgAAAAABAAAEAAAAAAEAAAAAAAAAAQAAAgAAAAABAAAGAAAAAAEAAAIAAAAAAQAABgAAAAABAAACAAAAAAIAAAQAAAAAAQAACgAAAAABAAAEAAAAAAEAAAAAAAAAAQAAAgAAAAAEAAAEAAAAAAEAAAgAAAAAAgAAAgAAAAABAAAKAAAAAAEAAAQAAAAAAQAAAAAAAAABAAACAAAAAAEAAAgAAAAAAgAAAgAAAAABAAAKAAAAAAEAAAQAAAAAAQAAAAAAAAABAAACAAAAAAEAAAYAAAAAAQAAAgAAAAACAAAEAAAAAAEAAAYAAAAAAQAAAgAAAAABAAAEAAAAAAEAAAYAAAAAAQAAAgAAAAABAAAIAAAAAAIAAAIAAAAAAQAABAAAAAABAAAKAAAAAAEAAAQAAAAAAQAAAAAAAAABAAACAAAAAAIAAAQAAAAAAQAACgAAAAABAAAEAAAAAAEAAAAAAAAAAQAAAgAAAAACAAAEAAAAAAEAAAoAAAAAAQAABAAAAAABAAAAAAAAAAEAAAIAAAAAAQAACgAAAAABAAAEAAAAAAEAAAAAAAAAAQAAAgAAAAADAAAEAAAAAAEAAAYAAAAAAQAAAgAAAAABAAAKAAAAAAEAAAQAAAAAAQAAAAAAAAABAAACAAAAAAEAAAoAAAAAAQAABAAAAAABAAAAAAAAAAEAAAIAAAAAAQAABgAAAAABAAACAAAAAAEAAAgAAAAAAgAAAgAAAAAEAAAEAAAAAAEAAAYAAAAAAQAAAgAAAAABAAAGAAAAAAEAAAIAAAAAAgAABAAAAAABAAAKAAAAAAEAAAQAAAAAAQAAAAAAAAABAAACAAAAAAEAAAYAAAAAAQAAAgAAAAABAAAEAAAAAAEAAAYAAAAAAQAAAgAAAAABAAAGAAAAAAEAAAIAAAAAAgAABAAAAAABAAAIAAAAAAIAAAIAAAAAAwAABAAAAAABAAAKAAAAAAEAAAQAAAAAAQAAAAAAAAABAAACAAAAAAEAAAgAAAAAAgAAAgAAAAACAAAEAAAAAAEAAAgAAAAAAgAAAgAAAAABAAAKAAAAAAEAAAQAAAAAAQAAAAAAAAABAAACAAAAAAEAAAQAAAAAAQAABgAAAAABAAACAAAAAAEAAAQAAAAAAQAABgAAAAABAAACAAAAAAQAAAQAAAAAAQAABgAAAAABAAACAAAAAAEAAAoAAAAAAQAABAAAAAABAAAAAAAAAAEAAAIAAAAAAQAABAAAAAABAAAGAAAAAAEAAAIAAAAAAQAACAAAAAACAAACAAAAAAMAAAQAAAAAAQAABgAAAAABAAACAAAAAAEAAAgAAAAAAgAAAgAAAAABAAAIAAAAAAIAAAIAAAAAAgAABAAAAAABAAAGAAAAAAEAAAIAAAAAAQAACAAAAAACAAACAAAAAAEAAAQAAAAAAQAACgAAAAABAAAEAAAAAAEAAAAAAAAAAQAAAgAAAAADAAAEAAAAAAEAAAYAAAAAAQAAAgAAAAABAAAGAAAAAAEAAAIAAAAAAQAABgAAAAABAAACAAAAAAEAAAQAAAAAAQAABgAAAAABAAACAAAAAAIAAAQAAAAAAQAACgAAAAABAAAEAAAAAAEAAAAAAAAAAQAAAgAAAAABAAAKAAAAAAEAAAQAAAAAAQAAAAAAAAABAAACAAAAAAEAAAYAAAAAAQAAAgAAAAABAAAIAAAAAAIAAAIAAAAAAQAABAAAAAABAAAGAAAAAAEAAAIAAAAAAQAACgAAAAABAAAEAAAAAAEAAAAAAAAAAQAAAgAAAAABAAAEAAAAAAEAAAgAAAAAAgAAAgAAAAABAAAKAAAAAAEAAAQAAAAAAQAAAAAAAAABAAACAAAAAAEAAAgAAAAAAgAAAgAAAAABAAAIAAAAAAIAAAIAAAAABgAABAAAAAABAAAGAAAAAAEAAAIAAAAAAQAABAAAAAABAAAGAAAAAAEAAAIAAAAAAQAACgAAAAABAAAEAAAAAAEAAAAAAAAAAQAAAgAAAAADAAAEAAAAAAEAAAgAAAAAAgAAAgAAAAACAAAEAAAAAAEAAAgAAAAAAgAAAgAAAAABAAAGAAAAAAEAAAIAAAAAAgAABAAAAAABAAAIAAAAAAIAAAIAAAAAAgAABAAAAAABAAAIAAAAAAIAAAIAAAAAAQAABAAAAAABAAAGAAAAAAEAAAIAAAAAAQAABAAAAAABAAAKAAAAAAEAAAQAAAAAAQAAAAAAAAABAAACAAAAAAEAAAoAAAAAAQAABAAAAAABAAAAAAAAAAEAAAIAAAAAAQAABgAAAAABAAACAAAAAAEAAAQAAAAAAQAABgAAAAABAAACAAAAAAEAAAYAAAAAAQAAAgAAAAACAAAEAAAAAAEAAAgAAAAAAgAAAgAAAAACAAAEAAAAAAEAAAgAAAAAAgAAAgAAAAABAAAGAAAAAAEAAAIAAAAAAQAACgAAAAABAAAEAAAAAAEAAAAAAAAAAQAAAgAAAAABAAAIAAAAAAIAAAIAAAAAAgAABAAAAAABAAAGAAAAAAEAAAIAAAAAAgAABAAAAAABAAAGAAAAAAEAAAIAAAAAAQAABgAAAAABAAACAAAAAAEAAAgAAAAAAgAAAgAAAAABAAAGAAAAAAEAAAIAAAAAAQAACAAAAAACAAACAAAAAAEAAAYAAAAAAQAAAgAAAAABAAAEAAAAAAEAAAYAAAAAAQAAAgAAAAABAAAGAAAAAAEAAAIAAAAAAQAACgAAAAABAAAEAAAAAAEAAAAAAAAAAQAAAgAAAAACAAAEAAAAAAEAAAYAAAAAAQAAAgAAAAABAAAEAAAAAAEAAAYAAAAAAQAAAgAAAAABAAAIAAAAAAIAAAIAAAAAAQAABAAAAAABAAAGAAAAAAEAAAIAAAAAAQAABgAAAAABAAACAAAAAAEAAAgAAAAAAgAAAgAAAAABAAAIAAAAAAIAAAIAAAAAAQAABAAAAAABAAAGAAAAAAEAAAIAAAAAAQAABgAAAAABAAACAAAAAAEAAAgAAAAAAgAAAgAAAAABAAAIAAAAAAIAAAIAAAAAAgAABAAAAAABAAAIAAAAAAIAAAIAAAAAAQAACAAAAAACAAACAAAAAAEAAAgAAAAAAgAAAgAAAAABAAAGAAAAAAEAAAIAAAAAAQAACgAAAAABAAAEAAAAAAEAAAAAAAAAAQAAAgAAAAABAAAEAAAAAAEAAAYAAAAAAQAAAgAAAAABAAAIAAAAAAIAAAIAAAAAAgAABAAAAAABAAAIAAAAAAIAAAIAAAAAAgAABAAAAAABAAAKAAAAAAEAAAQAAAAAAQAAAAAAAAABAAACAAAAAAIAAAQAAAAAAQAABgAAAAABAAACAAAAAAEAAAYAAAAAAQAAAgAAAAABAAAKAAAAAAEAAAQAAAAAAQAAAAAAAAABAAACAAAAAAEAAAgAAAAAAgAAAgAAAAADAAAEAAAAAAEAAAgAAAAAAgAAAgAAAAADAAAEAAAAAAEAAAYAAAAAAQAAAgAAAAABAAAEAAAAAAEAAAYAAAAAAQAAAgAAAAABAAAEAAAAAAEAAAoAAAAAAQAABAAAAAABAAAAAAAAAAEAAAIAAAAAAQAABAAAAAABAAAGAAAAAAEAAAIAAAAAAQAACgAAAAABAAAEAAAAAAEAAAAAAAAAAQAAAgAAAAABAAAEAAAAAAEAAAYAAAAAAQAAAgAAAAADAAAEAAAAAAEAAAgAAAAAAgAAAgAAAAABAAAEAAAAAAEAAAYAAAAAAQAAAgAAAAADAAAEAAAAAAEAAAYAAAAAAQAAAgAAAAABAAAIAAAAAAIAAAIAAAAAAQAABAAAAAABAAAIAAAAAAIAAAIAAAAAAQAABgAAAAABAAACAAAAAAIAAAQAAAAAAQAABgAAAAABAAACAAAAAAEAAAYAAAAAAQAAAgAAAAABAAAIAAAAAAIAAAIAAAAAAQAABgAAAAABAAACAAAAAAEAAAYAAAAAAQAAAgAAAAABAAAGAAAAAAEAAAIAAAAAAwAABAAAAAABAAAIAAAAAAIAAAIAAAAAAgAABAAAAAABAAAKAAAAAAEAAAQAAAAAAQAAAAAAAAABAAACAAAAAAEAAAQAAAAAAQAABgAAAAABAAACAAAAAAUAAAQAAAAAAQAABgAAAAABAAACAAAAAAEAAAYAAAAAAQAAAgAAAAAcc3RzYwAAAAAAAAABAAAAAQAABAAAAAABAAAQFHN0c3oAAAAAAAAAAAAABAAAAAPOAAABPQAAACsAAAAUAAAAEAAAADUAAAAUAAAAEwAAADYAAAASAAAAIQAAAA4AAAATAAAAEQAAAA4AAAAmAAAAGQAAAFgAAAAVAAAAEQAAABcAAABZAAAAWQAAABwAAAAbAAAAQQAAAEAAAAAYAAAAVAAAABsAAAAYAAAANwAAAEMAAABXAAAAGwAAABkAAAAgAAAAUgAAACUAAAAXAAAAIQAAADgAAABQAAAAMQAAAB0AAABbAAAAOQAAABwAAABNAAAASAAAABkAAAAxAAAANwAAAB0AAAA6AAAAIQAAADgAAAApAAAAOAAAAEUAAAAsAAAAHgAAAEIAAABhAAAAOAAAADMAAAAdAAAASgAAADcAAAAnAAAAIQAAABsAAAAgAAAAHwAAADAAAAAgAAAAOgAAACAAAAAxAAAAPwAAABcAAAAZAAAATAAAADcAAAAhAAAAGwAAACsAAAAjAAAAIQAAABwAAAAfAAAAEQAAAB0AAAATAAAAEQAAABkAAAAYAAAAHwAAABEAAAAYAAAAFwAAAFwAAAAXAAAAFwAAABwAAAAsAAAATAAAACYAAAAZAAAAGAAAABwAAAAdAAAAQgAAAB0AAAAXAAAAIAAAACQAAAAgAAAAWgAAABsAAAAaAAAAGQAAAB8AAAA4AAAASwAAADUAAAAWAAAAFQAAACQAAABVAAAALAAAADAAAAASAAAAFAAAACgAAAAWAAAAFAAAACIAAAAkAAAAFQAAABsAAAAkAAAAIAAAAB8AAAAUAAAAEwAAABkAAAAZAAAAPQAAABkAAAAVAAAAGAAAADkAAAAYAAAAOgAAAFAAAAAbAAAANAAAAB4AAAAYAAAAYgAAACMAAAAgAAAASwAAABwAAAA2AAAANwAAACoAAABLAAAAJwAAABkAAAAfAAAAIQAAAEQAAAAdAAAATAAAADwAAAA5AAAANgAAAB4AAAAVAAAAJgAAABQAAAAUAAAAGwAAABUAAAAhAAAAFwAAABQAAAAUAAAAGQAAACAAAAATAAAAGQAAABcAAAAdAAAAQwAAABcAAAAVAAAALwAAACoAAABJAAAAGAAAABgAAAAgAAAAHQAAACAAAABAAAAAFQAAADQAAABAAAAAKwAAAD8AAAApAAAAHwAAABkAAAA/AAAAIgAAAFoAAAAsAAAAHgAAABwAAABLAAAAJgAAABQAAAAgAAAAKAAAABcAAAAVAAAANwAAACoAAAAqAAAAFAAAACUAAAAXAAAAOAAAAB8AAAAtAAAAGQAAABQAAAAaAAAAGQAAAFQAAAAVAAAAFQAAACMAAAAeAAAANwAAABsAAAAsAAABjAAAAFoAAAAbAAAAWAAAABsAAAAcAAAANgAAACMAAABgAAAAHAAAADwAAAAoAAAAJAAAACUAAABQAAAAPgAAABcAAABJAAAALAAAACwAAAAQAAAALAAAABkAAAAWAAAAIwAAABcAAAAiAAAAGQAAABcAAAAjAAAAFAAAABsAAAAaAAAAKgAAABYAAAATAAAAGQAAAEQAAAA0AAAAFgAAABcAAAAwAAAAFwAAADsAAABmAAAAHgAAADMAAAAlAAAAHwAAAE4AAAAbAAAAGAAAADYAAAA5AAAALgAAABsAAAAdAAAAVwAAACcAAAAmAAAAJAAAAE0AAAAuAAAAOQAAACIAAAAqAAAAFwAAACcAAAAVAAAAEgAAABwAAAAWAAAAFQAAAB4AAAAgAAAAEgAAABoAAAASAAAAEQAAACMAAAATAAAAHwAAACEAAAAyAAAAGAAAABYAAAApAAAALgAAAEcAAAAaAAAAFwAAAB0AAABMAAAAJwAAAGwAAABDAAAAFwAAACkAAAAuAAAATQAAAB4AAAApAAAAIAAAAE8AAAAnAAAALAAAAEQAAAA5AAAAPQAAABQAAAAqAAAAEQAAACcAAAATAAAAEQAAACsAAAAWAAAAEgAAABYAAAAbAAAAFQAAAB8AAAARAAAAGAAAAB0AAAAYAAAAFwAAAB8AAAARAAAAWwAAACIAAAATAAAAFAAAACMAAAAdAAAAWAAAAFgAAAAbAAAAVgAAACYAAAAZAAAAHQAAADYAAAAbAAAAGAAAADcAAAAXAAAAJgAAAE4AAAAbAAAAJQAAABcAAAAtAAAAPAAAADkAAAAlAAAAHwAAAEoAAAAgAAAAFAAAABIAAAAXAAAAJwAAABMAAAASAAAAOQAAABsAAAAhAAAAHgAAABQAAAAdAAAAJQAAABIAAAAdAAAAEwAAABEAAAARAAAAGgAAABEAAABRAAAAMgAAACcAAABnAAAAHAAAAB0AAAA5AAAASAAAAB4AAAAXAAAAOQAAABoAAAAWAAAAFwAAAC8AAABKAAAAKgAAAB8AAAAfAAAASQAAACQAAAAuAAAASwAAAB0AAAAUAAAAMgAAABQAAAAqAAAAEQAAACwAAAAUAAAAEgAAABIAAAApAAAAFAAAABUAAAAlAAAAFgAAABoAAAAkAAAAMAAAACEAAAAXAAAAHAAAABYAAAAfAAAAEQAAABoAAAAQAAAATwAAABUAAAAyAAAAJAAAAEMAAAAdAAAAPAAAACAAAABRAAAANQAAABcAAAAZAAAALQAAAE8AAABfAAAAOAAAABwAAAAwAAAAVwAAACMAAAAaAAAAGwAAAXUAAABcAAAAIgAAABsAAAAlAAAAGQAAABIAAAAlAAAAFQAAABUAAAAkAAAAEwAAABkAAAAcAAAAOgAAABsAAAAjAAAAFwAAACAAAAAbAAAAQAAAABkAAAAUAAAAHAAAAEYAAABBAAAAFgAAADcAAABRAAAATwAAABwAAAAlAAAARAAAABsAAABAAAAANQAAADcAAAAnAAAAQgAAACYAAAAgAAAAGgAAADcAAAAvAAAALgAAACoAAAA9AAAALgAAABgAAABFAAAAMAAAAB8AAAAWAAAALAAAABUAAAATAAAAIwAAABUAAAASAAAAEgAAACYAAAASAAAAGQAAABgAAAAdAAAAEQAAABgAAAAjAAAAEQAAAB0AAAATAAAAEQAAABkAAABEAAAAMAAAABUAAAAVAAAAPAAAADwAAABLAAAANwAAABgAAAAXAAAAQQAAACEAAABBAAAAGwAAABYAAAAaAAAAawAAAB8AAAAlAAAAGwAAADUAAAA0AAAAQAAAAFMAAAArAAAAVgAAAC4AAAAcAAAAHwAAAGUAAAAeAAAAEwAAABIAAAAfAAAAFAAAACEAAAAVAAAAEwAAABsAAAA1AAAAKwAAACcAAAA2AAAAHQAAACEAAAAUAAAAGAAAABoAAAA9AAAAGAAAABMAAAAVAAAAOwAAABUAAAAlAAAALgAAACQAAABAAAAAGAAAABsAAAAcAAAAXQAAADAAAAAYAAAALgAAACMAAAAtAAAASgAAACYAAAAbAAAAIQAAADUAAAAYAAAAHAAAACcAAAAnAAAAOQAAAC8AAAAWAAAALQAAABcAAAATAAAAEwAAACAAAAAwAAAAFAAAACAAAAAjAAAAEwAAADcAAAAgAAAAMwAAAD4AAAAtAAAAFgAAAFkAAAA0AAAAGQAAABYAAAAiAAAAMQAAABcAAAA/AAAAFgAAABcAAAAdAAAAIQAAAC0AAABLAAAAFQAAAC8AAAAYAAAAHgAAAD8AAAAjAAAAFgAAAC8AAAA5AAAANwAAACIAAABTAAAAMAAAAC4AAAAgAAAAJgAAABcAAAATAAAAEQAAACYAAAAfAAAAGAAAAB8AAAARAAAAIAAAABMAAAAkAAAAFAAAABgAAAAgAAAAFQAAABsAAAAgAAAAVQAAADQAAAAWAAAAMQAAAEoAAAAnAAAAJAAAABcAAAA9AAAAGQAAAD8AAAAXAAAAFAAAADgAAAA9AAAAIgAAADcAAAAbAAAAGgAAABYAAABDAAAAZgAAAC8AAAArAAAAUAAAABYAAAAvAAAAEwAAACoAAAAWAAAAFQAAAB8AAAAWAAAAEgAAABwAAAGCAAAAJgAAAB8AAAA0AAAAJQAAACUAAAATAAAAGgAAAB0AAAASAAAAVQAAABcAAAAQAAAAGAAAACAAAAAcAAAAIAAAAEIAAAAxAAAAFgAAAB0AAAAeAAAATwAAADQAAAAXAAAAHQAAABgAAABFAAAAIAAAAC8AAAAaAAAAFAAAACkAAAA3AAAAOAAAACwAAAATAAAAKwAAADsAAAAvAAAAHwAAACcAAAAWAAAAEgAAABIAAAAuAAAAGgAAABYAAAAVAAAAJgAAABcAAAAZAAAAIgAAABcAAAAgAAAAFQAAABgAAAAYAAAAUAAAABcAAAAVAAAAIAAAACYAAAArAAAANAAAADUAAAA+AAAAGQAAAFQAAAA3AAAANAAAABkAAAAzAAAAGgAAABcAAAAcAAAAHgAAADgAAAAcAAAAKgAAACYAAAA7AAAALgAAADQAAAAXAAAAJQAAABoAAAAVAAAAGwAAABYAAAAtAAAAGAAAABgAAAAiAAAAGgAAAB4AAAAfAAAAEwAAABkAAAASAAAARAAAAE0AAAAaAAAAIAAAACQAAAAmAAAAPgAAABYAAAAbAAAAPQAAABgAAABaAAAAHAAAABkAAAA3AAAARQAAABoAAABJAAAAHgAAAFwAAAA1AAAAMgAAAFQAAAAeAAAAGgAAAB0AAABPAAAAIwAAACMAAAAQAAAAJAAAABMAAAATAAAAKAAAABcAAAASAAAAGQAAAB4AAAAcAAAAFAAAABMAAAAcAAAAEgAAABEAAAAaAAAAEQAAABEAAAAfAAAAEQAAAFMAAAAzAAAAFgAAABcAAAAhAAAAMwAAABcAAABAAAAAGQAAABcAAAAiAAAAPAAAAE4AAAAYAAAAFgAAACAAAAA2AAAAQwAAAD4AAAAbAAAAHQAAADEAAABNAAAASAAAAB4AAABNAAAAHwAAADIAAAAuAAAAHAAAABIAAAArAAAAFAAAABIAAAA5AAAAKgAAACkAAAAgAAAAHwAAABYAAAApAAAAHAAAACQAAAAoAAAAEwAAABgAAAAfAAAAEgAAABcAAABSAAAAIwAAABQAAAAVAAAAJAAAACQAAAAXAAAAQgAAAEMAAAAZAAAAGQAAACYAAABPAAAAFwAAAB4AAAApAAAAHAAAAFsAAAAaAAAAGgAAACwAAAAoAAAAGQAAACAAAAAuAAAAQgAAAB8AAAAWAAAAZwAAADgAAAAiAAAAFwAAACcAAAAUAAAAEQAAACIAAAAUAAAAHAAAABoAAAAfAAAAEQAAAB4AAAASAAAAGgAAABYAAAAUAAAAJAAAABIAAAAaAAAAEQAAAD8AAAAXAAABowAAACoAAAAbAAAAMwAAAB4AAAAYAAAAOAAAAEcAAAAyAAAAJgAAABkAAAAYAAAALAAAAEoAAAAWAAAAKQAAADsAAAAtAAAALgAAADAAAAA8AAAAPAAAAE8AAAAXAAAAFHN0Y28AAAAAAAAAAQAAADAAAABidWR0YQAAAFptZXRhAAAAAAAAACFoZGxyAAAAAAAAAABtZGlyYXBwbAAAAAAAAAAAAAAAAC1pbHN0AAAAJal0b28AAAAdZGF0YQAAAAEAAAAATGF2ZjU3LjgzLjEwMA==\" type=\"video/mp4\" />\n",
              "        </video>"
            ],
            "text/plain": [
              "<IPython.core.display.HTML object>"
            ]
          },
          "metadata": {
            "tags": []
          },
          "execution_count": 25
        }
      ]
    },
    {
      "cell_type": "code",
      "metadata": {
        "id": "G6adCeDqlMLd",
        "colab_type": "code",
        "colab": {}
      },
      "source": [
        "env.action_space.n"
      ],
      "execution_count": 0,
      "outputs": []
    }
  ]
}